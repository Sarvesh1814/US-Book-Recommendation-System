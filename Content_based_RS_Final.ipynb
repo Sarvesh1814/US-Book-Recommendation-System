{
  "nbformat": 4,
  "nbformat_minor": 0,
  "metadata": {
    "colab": {
      "provenance": [],
      "toc_visible": true,
      "authorship_tag": "ABX9TyMOlXYB+atWvw0q+RdbOPgh",
      "include_colab_link": true
    },
    "kernelspec": {
      "name": "python3",
      "display_name": "Python 3"
    },
    "language_info": {
      "name": "python"
    }
  },
  "cells": [
    {
      "cell_type": "markdown",
      "metadata": {
        "id": "view-in-github",
        "colab_type": "text"
      },
      "source": [
        "<a href=\"https://colab.research.google.com/github/Sarvesh1814/US-Book-Recommendation-System/blob/main/Content_based_RS_Final.ipynb\" target=\"_parent\"><img src=\"https://colab.research.google.com/assets/colab-badge.svg\" alt=\"Open In Colab\"/></a>"
      ]
    },
    {
      "cell_type": "code",
      "source": [
        "import warnings\n",
        "warnings.filterwarnings('ignore')"
      ],
      "metadata": {
        "id": "JwJZGejdYkAD"
      },
      "execution_count": null,
      "outputs": []
    },
    {
      "cell_type": "code",
      "source": [
        "import os\n",
        "import numpy as np\n",
        "import pandas as pd\n",
        "import matplotlib.pyplot as plt\n",
        "import seaborn as sns\n",
        "import scipy.stats\n",
        "from sklearn.metrics import precision_score\n",
        "from sklearn.metrics import mean_squared_error\n",
        "import matplotlib.pyplot as plt\n",
        "from sklearn.feature_extraction.text import TfidfVectorizer\n",
        "from sklearn.metrics.pairwise import linear_kernel\n",
        "from sklearn.metrics.pairwise import cosine_similarity"
      ],
      "metadata": {
        "id": "OpvM590GYkgC"
      },
      "execution_count": null,
      "outputs": []
    },
    {
      "cell_type": "markdown",
      "source": [
        "### Mount drive and load datasets"
      ],
      "metadata": {
        "id": "Cayp2XPRTzy4"
      }
    },
    {
      "cell_type": "code",
      "source": [
        "from google.colab import drive\n",
        "drive.mount('/content/drive')"
      ],
      "metadata": {
        "colab": {
          "base_uri": "https://localhost:8080/"
        },
        "id": "Aj2DZqPPYXUV",
        "outputId": "09dd2162-c036-4761-84a9-67378f07ba0e"
      },
      "execution_count": null,
      "outputs": [
        {
          "output_type": "stream",
          "name": "stdout",
          "text": [
            "Mounted at /content/drive\n"
          ]
        }
      ]
    },
    {
      "cell_type": "code",
      "execution_count": null,
      "metadata": {
        "id": "ySgvYd_gXmDj"
      },
      "outputs": [],
      "source": [
        "Base_path ='/content/drive/MyDrive/Data/RS-3'"
      ]
    },
    {
      "cell_type": "markdown",
      "source": [
        "#### Books with ISBN"
      ],
      "metadata": {
        "id": "DU4Hqc4VilBq"
      }
    },
    {
      "cell_type": "code",
      "source": [
        "Book_ISBN = pd.read_csv(Base_path+\"/Books.csv\")"
      ],
      "metadata": {
        "id": "42P7WWp5ilCC"
      },
      "execution_count": null,
      "outputs": []
    },
    {
      "cell_type": "code",
      "source": [
        "Book_ISBN.rename(columns = {'Book-Title':'Book_Title'}, inplace = True)"
      ],
      "metadata": {
        "id": "CYXUDHip2kDu"
      },
      "execution_count": null,
      "outputs": []
    },
    {
      "cell_type": "markdown",
      "source": [
        "#### Books with Description"
      ],
      "metadata": {
        "id": "i_Jl5E0sUN_T"
      }
    },
    {
      "cell_type": "code",
      "source": [
        "Books = pd.read_csv(Base_path+\"/Books_Final.csv\")"
      ],
      "metadata": {
        "id": "o9WsIg0LadRB"
      },
      "execution_count": null,
      "outputs": []
    },
    {
      "cell_type": "code",
      "source": [
        "Books.head()"
      ],
      "metadata": {
        "colab": {
          "base_uri": "https://localhost:8080/",
          "height": 354
        },
        "id": "gC0Bnc06aewM",
        "outputId": "22c96036-e9d7-476b-8e0c-2d4ccd6a7c15"
      },
      "execution_count": null,
      "outputs": [
        {
          "output_type": "execute_result",
          "data": {
            "text/plain": [
              "   Unnamed: 0.1  Unnamed: 0  \\\n",
              "0             0           0   \n",
              "1             1           1   \n",
              "2             2           2   \n",
              "3             3           3   \n",
              "4             4           4   \n",
              "\n",
              "                                          Book_Title language page_count  \\\n",
              "0                                           Footfall       en        706   \n",
              "1                                         The Reader       en        224   \n",
              "2                      Hidden Star (The Star Series)       en        234   \n",
              "3  Songs in Ordinary Time (Oprah's Book Club (Pap...       en        682   \n",
              "4                                 The Hours: A Novel       en        295   \n",
              "\n",
              "    categories                                        description  \n",
              "0  ['Fiction']  Hostile extraterrestrials, known as the Fithp,...  \n",
              "1  ['Fiction']  Hailed for its coiled eroticism and the moral ...  \n",
              "2  ['Fiction']  Eleven-year-old Nolitye's granny used to say: ...  \n",
              "3  ['Fiction']  This New York Times bestseller of a troubled f...  \n",
              "4  ['Fiction']  Michael Cunningham brings together his Pulitze...  "
            ],
            "text/html": [
              "\n",
              "  <div id=\"df-5d25ae15-a341-4234-915c-3fce5c6958a1\">\n",
              "    <div class=\"colab-df-container\">\n",
              "      <div>\n",
              "<style scoped>\n",
              "    .dataframe tbody tr th:only-of-type {\n",
              "        vertical-align: middle;\n",
              "    }\n",
              "\n",
              "    .dataframe tbody tr th {\n",
              "        vertical-align: top;\n",
              "    }\n",
              "\n",
              "    .dataframe thead th {\n",
              "        text-align: right;\n",
              "    }\n",
              "</style>\n",
              "<table border=\"1\" class=\"dataframe\">\n",
              "  <thead>\n",
              "    <tr style=\"text-align: right;\">\n",
              "      <th></th>\n",
              "      <th>Unnamed: 0.1</th>\n",
              "      <th>Unnamed: 0</th>\n",
              "      <th>Book_Title</th>\n",
              "      <th>language</th>\n",
              "      <th>page_count</th>\n",
              "      <th>categories</th>\n",
              "      <th>description</th>\n",
              "    </tr>\n",
              "  </thead>\n",
              "  <tbody>\n",
              "    <tr>\n",
              "      <th>0</th>\n",
              "      <td>0</td>\n",
              "      <td>0</td>\n",
              "      <td>Footfall</td>\n",
              "      <td>en</td>\n",
              "      <td>706</td>\n",
              "      <td>['Fiction']</td>\n",
              "      <td>Hostile extraterrestrials, known as the Fithp,...</td>\n",
              "    </tr>\n",
              "    <tr>\n",
              "      <th>1</th>\n",
              "      <td>1</td>\n",
              "      <td>1</td>\n",
              "      <td>The Reader</td>\n",
              "      <td>en</td>\n",
              "      <td>224</td>\n",
              "      <td>['Fiction']</td>\n",
              "      <td>Hailed for its coiled eroticism and the moral ...</td>\n",
              "    </tr>\n",
              "    <tr>\n",
              "      <th>2</th>\n",
              "      <td>2</td>\n",
              "      <td>2</td>\n",
              "      <td>Hidden Star (The Star Series)</td>\n",
              "      <td>en</td>\n",
              "      <td>234</td>\n",
              "      <td>['Fiction']</td>\n",
              "      <td>Eleven-year-old Nolitye's granny used to say: ...</td>\n",
              "    </tr>\n",
              "    <tr>\n",
              "      <th>3</th>\n",
              "      <td>3</td>\n",
              "      <td>3</td>\n",
              "      <td>Songs in Ordinary Time (Oprah's Book Club (Pap...</td>\n",
              "      <td>en</td>\n",
              "      <td>682</td>\n",
              "      <td>['Fiction']</td>\n",
              "      <td>This New York Times bestseller of a troubled f...</td>\n",
              "    </tr>\n",
              "    <tr>\n",
              "      <th>4</th>\n",
              "      <td>4</td>\n",
              "      <td>4</td>\n",
              "      <td>The Hours: A Novel</td>\n",
              "      <td>en</td>\n",
              "      <td>295</td>\n",
              "      <td>['Fiction']</td>\n",
              "      <td>Michael Cunningham brings together his Pulitze...</td>\n",
              "    </tr>\n",
              "  </tbody>\n",
              "</table>\n",
              "</div>\n",
              "      <button class=\"colab-df-convert\" onclick=\"convertToInteractive('df-5d25ae15-a341-4234-915c-3fce5c6958a1')\"\n",
              "              title=\"Convert this dataframe to an interactive table.\"\n",
              "              style=\"display:none;\">\n",
              "        \n",
              "  <svg xmlns=\"http://www.w3.org/2000/svg\" height=\"24px\"viewBox=\"0 0 24 24\"\n",
              "       width=\"24px\">\n",
              "    <path d=\"M0 0h24v24H0V0z\" fill=\"none\"/>\n",
              "    <path d=\"M18.56 5.44l.94 2.06.94-2.06 2.06-.94-2.06-.94-.94-2.06-.94 2.06-2.06.94zm-11 1L8.5 8.5l.94-2.06 2.06-.94-2.06-.94L8.5 2.5l-.94 2.06-2.06.94zm10 10l.94 2.06.94-2.06 2.06-.94-2.06-.94-.94-2.06-.94 2.06-2.06.94z\"/><path d=\"M17.41 7.96l-1.37-1.37c-.4-.4-.92-.59-1.43-.59-.52 0-1.04.2-1.43.59L10.3 9.45l-7.72 7.72c-.78.78-.78 2.05 0 2.83L4 21.41c.39.39.9.59 1.41.59.51 0 1.02-.2 1.41-.59l7.78-7.78 2.81-2.81c.8-.78.8-2.07 0-2.86zM5.41 20L4 18.59l7.72-7.72 1.47 1.35L5.41 20z\"/>\n",
              "  </svg>\n",
              "      </button>\n",
              "      \n",
              "  <style>\n",
              "    .colab-df-container {\n",
              "      display:flex;\n",
              "      flex-wrap:wrap;\n",
              "      gap: 12px;\n",
              "    }\n",
              "\n",
              "    .colab-df-convert {\n",
              "      background-color: #E8F0FE;\n",
              "      border: none;\n",
              "      border-radius: 50%;\n",
              "      cursor: pointer;\n",
              "      display: none;\n",
              "      fill: #1967D2;\n",
              "      height: 32px;\n",
              "      padding: 0 0 0 0;\n",
              "      width: 32px;\n",
              "    }\n",
              "\n",
              "    .colab-df-convert:hover {\n",
              "      background-color: #E2EBFA;\n",
              "      box-shadow: 0px 1px 2px rgba(60, 64, 67, 0.3), 0px 1px 3px 1px rgba(60, 64, 67, 0.15);\n",
              "      fill: #174EA6;\n",
              "    }\n",
              "\n",
              "    [theme=dark] .colab-df-convert {\n",
              "      background-color: #3B4455;\n",
              "      fill: #D2E3FC;\n",
              "    }\n",
              "\n",
              "    [theme=dark] .colab-df-convert:hover {\n",
              "      background-color: #434B5C;\n",
              "      box-shadow: 0px 1px 3px 1px rgba(0, 0, 0, 0.15);\n",
              "      filter: drop-shadow(0px 1px 2px rgba(0, 0, 0, 0.3));\n",
              "      fill: #FFFFFF;\n",
              "    }\n",
              "  </style>\n",
              "\n",
              "      <script>\n",
              "        const buttonEl =\n",
              "          document.querySelector('#df-5d25ae15-a341-4234-915c-3fce5c6958a1 button.colab-df-convert');\n",
              "        buttonEl.style.display =\n",
              "          google.colab.kernel.accessAllowed ? 'block' : 'none';\n",
              "\n",
              "        async function convertToInteractive(key) {\n",
              "          const element = document.querySelector('#df-5d25ae15-a341-4234-915c-3fce5c6958a1');\n",
              "          const dataTable =\n",
              "            await google.colab.kernel.invokeFunction('convertToInteractive',\n",
              "                                                     [key], {});\n",
              "          if (!dataTable) return;\n",
              "\n",
              "          const docLinkHtml = 'Like what you see? Visit the ' +\n",
              "            '<a target=\"_blank\" href=https://colab.research.google.com/notebooks/data_table.ipynb>data table notebook</a>'\n",
              "            + ' to learn more about interactive tables.';\n",
              "          element.innerHTML = '';\n",
              "          dataTable['output_type'] = 'display_data';\n",
              "          await google.colab.output.renderOutput(dataTable, element);\n",
              "          const docLink = document.createElement('div');\n",
              "          docLink.innerHTML = docLinkHtml;\n",
              "          element.appendChild(docLink);\n",
              "        }\n",
              "      </script>\n",
              "    </div>\n",
              "  </div>\n",
              "  "
            ]
          },
          "metadata": {},
          "execution_count": 9
        }
      ]
    },
    {
      "cell_type": "code",
      "source": [
        "df=Books"
      ],
      "metadata": {
        "id": "gK7H1FQYSuGz"
      },
      "execution_count": null,
      "outputs": []
    },
    {
      "cell_type": "markdown",
      "source": [
        "### Rating Data"
      ],
      "metadata": {
        "id": "CqdWIDV6zoe1"
      }
    },
    {
      "cell_type": "code",
      "source": [
        "Ratings = pd.read_csv(Base_path+\"/Ratings.csv\")"
      ],
      "metadata": {
        "id": "a11cPdGkznVO"
      },
      "execution_count": null,
      "outputs": []
    },
    {
      "cell_type": "code",
      "source": [
        "Ratings.head()"
      ],
      "metadata": {
        "colab": {
          "base_uri": "https://localhost:8080/",
          "height": 206
        },
        "outputId": "29167954-320b-47cc-c0cd-bfc49d26ee28",
        "id": "ENw_I1ZFznVP"
      },
      "execution_count": null,
      "outputs": [
        {
          "output_type": "execute_result",
          "data": {
            "text/plain": [
              "   User-ID        ISBN  Book-Rating\n",
              "0   276725  034545104X            0\n",
              "1   276726  0155061224            5\n",
              "2   276727  0446520802            0\n",
              "3   276729  052165615X            3\n",
              "4   276729  0521795028            6"
            ],
            "text/html": [
              "\n",
              "  <div id=\"df-13de5534-d52b-4710-9960-668631ad9924\">\n",
              "    <div class=\"colab-df-container\">\n",
              "      <div>\n",
              "<style scoped>\n",
              "    .dataframe tbody tr th:only-of-type {\n",
              "        vertical-align: middle;\n",
              "    }\n",
              "\n",
              "    .dataframe tbody tr th {\n",
              "        vertical-align: top;\n",
              "    }\n",
              "\n",
              "    .dataframe thead th {\n",
              "        text-align: right;\n",
              "    }\n",
              "</style>\n",
              "<table border=\"1\" class=\"dataframe\">\n",
              "  <thead>\n",
              "    <tr style=\"text-align: right;\">\n",
              "      <th></th>\n",
              "      <th>User-ID</th>\n",
              "      <th>ISBN</th>\n",
              "      <th>Book-Rating</th>\n",
              "    </tr>\n",
              "  </thead>\n",
              "  <tbody>\n",
              "    <tr>\n",
              "      <th>0</th>\n",
              "      <td>276725</td>\n",
              "      <td>034545104X</td>\n",
              "      <td>0</td>\n",
              "    </tr>\n",
              "    <tr>\n",
              "      <th>1</th>\n",
              "      <td>276726</td>\n",
              "      <td>0155061224</td>\n",
              "      <td>5</td>\n",
              "    </tr>\n",
              "    <tr>\n",
              "      <th>2</th>\n",
              "      <td>276727</td>\n",
              "      <td>0446520802</td>\n",
              "      <td>0</td>\n",
              "    </tr>\n",
              "    <tr>\n",
              "      <th>3</th>\n",
              "      <td>276729</td>\n",
              "      <td>052165615X</td>\n",
              "      <td>3</td>\n",
              "    </tr>\n",
              "    <tr>\n",
              "      <th>4</th>\n",
              "      <td>276729</td>\n",
              "      <td>0521795028</td>\n",
              "      <td>6</td>\n",
              "    </tr>\n",
              "  </tbody>\n",
              "</table>\n",
              "</div>\n",
              "      <button class=\"colab-df-convert\" onclick=\"convertToInteractive('df-13de5534-d52b-4710-9960-668631ad9924')\"\n",
              "              title=\"Convert this dataframe to an interactive table.\"\n",
              "              style=\"display:none;\">\n",
              "        \n",
              "  <svg xmlns=\"http://www.w3.org/2000/svg\" height=\"24px\"viewBox=\"0 0 24 24\"\n",
              "       width=\"24px\">\n",
              "    <path d=\"M0 0h24v24H0V0z\" fill=\"none\"/>\n",
              "    <path d=\"M18.56 5.44l.94 2.06.94-2.06 2.06-.94-2.06-.94-.94-2.06-.94 2.06-2.06.94zm-11 1L8.5 8.5l.94-2.06 2.06-.94-2.06-.94L8.5 2.5l-.94 2.06-2.06.94zm10 10l.94 2.06.94-2.06 2.06-.94-2.06-.94-.94-2.06-.94 2.06-2.06.94z\"/><path d=\"M17.41 7.96l-1.37-1.37c-.4-.4-.92-.59-1.43-.59-.52 0-1.04.2-1.43.59L10.3 9.45l-7.72 7.72c-.78.78-.78 2.05 0 2.83L4 21.41c.39.39.9.59 1.41.59.51 0 1.02-.2 1.41-.59l7.78-7.78 2.81-2.81c.8-.78.8-2.07 0-2.86zM5.41 20L4 18.59l7.72-7.72 1.47 1.35L5.41 20z\"/>\n",
              "  </svg>\n",
              "      </button>\n",
              "      \n",
              "  <style>\n",
              "    .colab-df-container {\n",
              "      display:flex;\n",
              "      flex-wrap:wrap;\n",
              "      gap: 12px;\n",
              "    }\n",
              "\n",
              "    .colab-df-convert {\n",
              "      background-color: #E8F0FE;\n",
              "      border: none;\n",
              "      border-radius: 50%;\n",
              "      cursor: pointer;\n",
              "      display: none;\n",
              "      fill: #1967D2;\n",
              "      height: 32px;\n",
              "      padding: 0 0 0 0;\n",
              "      width: 32px;\n",
              "    }\n",
              "\n",
              "    .colab-df-convert:hover {\n",
              "      background-color: #E2EBFA;\n",
              "      box-shadow: 0px 1px 2px rgba(60, 64, 67, 0.3), 0px 1px 3px 1px rgba(60, 64, 67, 0.15);\n",
              "      fill: #174EA6;\n",
              "    }\n",
              "\n",
              "    [theme=dark] .colab-df-convert {\n",
              "      background-color: #3B4455;\n",
              "      fill: #D2E3FC;\n",
              "    }\n",
              "\n",
              "    [theme=dark] .colab-df-convert:hover {\n",
              "      background-color: #434B5C;\n",
              "      box-shadow: 0px 1px 3px 1px rgba(0, 0, 0, 0.15);\n",
              "      filter: drop-shadow(0px 1px 2px rgba(0, 0, 0, 0.3));\n",
              "      fill: #FFFFFF;\n",
              "    }\n",
              "  </style>\n",
              "\n",
              "      <script>\n",
              "        const buttonEl =\n",
              "          document.querySelector('#df-13de5534-d52b-4710-9960-668631ad9924 button.colab-df-convert');\n",
              "        buttonEl.style.display =\n",
              "          google.colab.kernel.accessAllowed ? 'block' : 'none';\n",
              "\n",
              "        async function convertToInteractive(key) {\n",
              "          const element = document.querySelector('#df-13de5534-d52b-4710-9960-668631ad9924');\n",
              "          const dataTable =\n",
              "            await google.colab.kernel.invokeFunction('convertToInteractive',\n",
              "                                                     [key], {});\n",
              "          if (!dataTable) return;\n",
              "\n",
              "          const docLinkHtml = 'Like what you see? Visit the ' +\n",
              "            '<a target=\"_blank\" href=https://colab.research.google.com/notebooks/data_table.ipynb>data table notebook</a>'\n",
              "            + ' to learn more about interactive tables.';\n",
              "          element.innerHTML = '';\n",
              "          dataTable['output_type'] = 'display_data';\n",
              "          await google.colab.output.renderOutput(dataTable, element);\n",
              "          const docLink = document.createElement('div');\n",
              "          docLink.innerHTML = docLinkHtml;\n",
              "          element.appendChild(docLink);\n",
              "        }\n",
              "      </script>\n",
              "    </div>\n",
              "  </div>\n",
              "  "
            ]
          },
          "metadata": {},
          "execution_count": 12
        }
      ]
    },
    {
      "cell_type": "markdown",
      "source": [
        "### NLP preprocessing on Description Text"
      ],
      "metadata": {
        "id": "xekpys02zf_0"
      }
    },
    {
      "cell_type": "code",
      "source": [
        "import nltk\n",
        "nltk.download('omw-1.4')\n",
        "nltk.download(\"stopwords\")\n",
        "nltk.download(\"punkt\")\n",
        "nltk.download(\"wordnet\")"
      ],
      "metadata": {
        "colab": {
          "base_uri": "https://localhost:8080/"
        },
        "id": "iGYdWMO-zWfm",
        "outputId": "0033b5e7-1fec-4cb4-d2a7-5428fad3e808"
      },
      "execution_count": null,
      "outputs": [
        {
          "output_type": "stream",
          "name": "stderr",
          "text": [
            "[nltk_data] Downloading package omw-1.4 to /root/nltk_data...\n",
            "[nltk_data] Downloading package stopwords to /root/nltk_data...\n",
            "[nltk_data]   Unzipping corpora/stopwords.zip.\n",
            "[nltk_data] Downloading package punkt to /root/nltk_data...\n",
            "[nltk_data]   Unzipping tokenizers/punkt.zip.\n",
            "[nltk_data] Downloading package wordnet to /root/nltk_data...\n"
          ]
        },
        {
          "output_type": "execute_result",
          "data": {
            "text/plain": [
              "True"
            ]
          },
          "metadata": {},
          "execution_count": 13
        }
      ]
    },
    {
      "cell_type": "code",
      "source": [
        "import re\n",
        "import nltk\n",
        "from nltk.corpus import stopwords\n",
        "from nltk.stem import PorterStemmer\n",
        "from nltk.tokenize import word_tokenize\n",
        "from nltk.stem import WordNetLemmatizer"
      ],
      "metadata": {
        "id": "u85S6z1szcf_"
      },
      "execution_count": null,
      "outputs": []
    },
    {
      "cell_type": "code",
      "source": [
        "def clean_text(text):\n",
        "    \"\"\"\n",
        "    Clean the text by removing punctuation, stopwords, and converting to lowercase.\n",
        "    \"\"\"\n",
        "    # Remove punctuation\n",
        "    text = re.sub(r\"[^\\w\\s]\", \"\", text)\n",
        "    \n",
        "    # Convert to lowercase\n",
        "    text = text.lower()\n",
        "\n",
        "    # Remove non-English characters\n",
        "    text = re.sub(r\"[^\\x00-\\x7F]+\", \"\", text)\n",
        "    \n",
        "    # Tokenize the text\n",
        "    words = word_tokenize(text)\n",
        "    \n",
        "    # Remove stopwords\n",
        "    stop_words = set(stopwords.words(\"english\"))\n",
        "    words = [word for word in words if word not in stop_words]\n",
        "    \n",
        "    # Perform lemmatization\n",
        "    lemmatizer = WordNetLemmatizer()\n",
        "    words = [lemmatizer.lemmatize(word) for word in words]\n",
        "    \n",
        "    # Join the words back into a single string\n",
        "    cleaned_text = \" \".join(words)\n",
        "    \n",
        "    return cleaned_text"
      ],
      "metadata": {
        "id": "S2uxRSTozfa1"
      },
      "execution_count": null,
      "outputs": []
    },
    {
      "cell_type": "code",
      "source": [
        "df[\"category\"] = df[\"categories\"].apply(clean_text)"
      ],
      "metadata": {
        "id": "dtD4L1BKTbTx"
      },
      "execution_count": null,
      "outputs": []
    },
    {
      "cell_type": "code",
      "source": [
        "df[\"category\"].head()"
      ],
      "metadata": {
        "colab": {
          "base_uri": "https://localhost:8080/"
        },
        "id": "CnXW1aQATfmI",
        "outputId": "6d2eb9be-400d-4e7c-bbaa-7fe4b11bd53a"
      },
      "execution_count": null,
      "outputs": [
        {
          "output_type": "execute_result",
          "data": {
            "text/plain": [
              "0    fiction\n",
              "1    fiction\n",
              "2    fiction\n",
              "3    fiction\n",
              "4    fiction\n",
              "Name: category, dtype: object"
            ]
          },
          "metadata": {},
          "execution_count": 17
        }
      ]
    },
    {
      "cell_type": "code",
      "source": [
        "df.head()"
      ],
      "metadata": {
        "colab": {
          "base_uri": "https://localhost:8080/",
          "height": 354
        },
        "id": "G4XBL2FBT7x8",
        "outputId": "d5b8222b-b1cd-4ba6-8248-bb4bbc354bc9"
      },
      "execution_count": null,
      "outputs": [
        {
          "output_type": "execute_result",
          "data": {
            "text/plain": [
              "   Unnamed: 0.1  Unnamed: 0  \\\n",
              "0             0           0   \n",
              "1             1           1   \n",
              "2             2           2   \n",
              "3             3           3   \n",
              "4             4           4   \n",
              "\n",
              "                                          Book_Title language page_count  \\\n",
              "0                                           Footfall       en        706   \n",
              "1                                         The Reader       en        224   \n",
              "2                      Hidden Star (The Star Series)       en        234   \n",
              "3  Songs in Ordinary Time (Oprah's Book Club (Pap...       en        682   \n",
              "4                                 The Hours: A Novel       en        295   \n",
              "\n",
              "    categories                                        description category  \n",
              "0  ['Fiction']  Hostile extraterrestrials, known as the Fithp,...  fiction  \n",
              "1  ['Fiction']  Hailed for its coiled eroticism and the moral ...  fiction  \n",
              "2  ['Fiction']  Eleven-year-old Nolitye's granny used to say: ...  fiction  \n",
              "3  ['Fiction']  This New York Times bestseller of a troubled f...  fiction  \n",
              "4  ['Fiction']  Michael Cunningham brings together his Pulitze...  fiction  "
            ],
            "text/html": [
              "\n",
              "  <div id=\"df-818fa7f3-6f01-4540-af13-6802ab0b2926\">\n",
              "    <div class=\"colab-df-container\">\n",
              "      <div>\n",
              "<style scoped>\n",
              "    .dataframe tbody tr th:only-of-type {\n",
              "        vertical-align: middle;\n",
              "    }\n",
              "\n",
              "    .dataframe tbody tr th {\n",
              "        vertical-align: top;\n",
              "    }\n",
              "\n",
              "    .dataframe thead th {\n",
              "        text-align: right;\n",
              "    }\n",
              "</style>\n",
              "<table border=\"1\" class=\"dataframe\">\n",
              "  <thead>\n",
              "    <tr style=\"text-align: right;\">\n",
              "      <th></th>\n",
              "      <th>Unnamed: 0.1</th>\n",
              "      <th>Unnamed: 0</th>\n",
              "      <th>Book_Title</th>\n",
              "      <th>language</th>\n",
              "      <th>page_count</th>\n",
              "      <th>categories</th>\n",
              "      <th>description</th>\n",
              "      <th>category</th>\n",
              "    </tr>\n",
              "  </thead>\n",
              "  <tbody>\n",
              "    <tr>\n",
              "      <th>0</th>\n",
              "      <td>0</td>\n",
              "      <td>0</td>\n",
              "      <td>Footfall</td>\n",
              "      <td>en</td>\n",
              "      <td>706</td>\n",
              "      <td>['Fiction']</td>\n",
              "      <td>Hostile extraterrestrials, known as the Fithp,...</td>\n",
              "      <td>fiction</td>\n",
              "    </tr>\n",
              "    <tr>\n",
              "      <th>1</th>\n",
              "      <td>1</td>\n",
              "      <td>1</td>\n",
              "      <td>The Reader</td>\n",
              "      <td>en</td>\n",
              "      <td>224</td>\n",
              "      <td>['Fiction']</td>\n",
              "      <td>Hailed for its coiled eroticism and the moral ...</td>\n",
              "      <td>fiction</td>\n",
              "    </tr>\n",
              "    <tr>\n",
              "      <th>2</th>\n",
              "      <td>2</td>\n",
              "      <td>2</td>\n",
              "      <td>Hidden Star (The Star Series)</td>\n",
              "      <td>en</td>\n",
              "      <td>234</td>\n",
              "      <td>['Fiction']</td>\n",
              "      <td>Eleven-year-old Nolitye's granny used to say: ...</td>\n",
              "      <td>fiction</td>\n",
              "    </tr>\n",
              "    <tr>\n",
              "      <th>3</th>\n",
              "      <td>3</td>\n",
              "      <td>3</td>\n",
              "      <td>Songs in Ordinary Time (Oprah's Book Club (Pap...</td>\n",
              "      <td>en</td>\n",
              "      <td>682</td>\n",
              "      <td>['Fiction']</td>\n",
              "      <td>This New York Times bestseller of a troubled f...</td>\n",
              "      <td>fiction</td>\n",
              "    </tr>\n",
              "    <tr>\n",
              "      <th>4</th>\n",
              "      <td>4</td>\n",
              "      <td>4</td>\n",
              "      <td>The Hours: A Novel</td>\n",
              "      <td>en</td>\n",
              "      <td>295</td>\n",
              "      <td>['Fiction']</td>\n",
              "      <td>Michael Cunningham brings together his Pulitze...</td>\n",
              "      <td>fiction</td>\n",
              "    </tr>\n",
              "  </tbody>\n",
              "</table>\n",
              "</div>\n",
              "      <button class=\"colab-df-convert\" onclick=\"convertToInteractive('df-818fa7f3-6f01-4540-af13-6802ab0b2926')\"\n",
              "              title=\"Convert this dataframe to an interactive table.\"\n",
              "              style=\"display:none;\">\n",
              "        \n",
              "  <svg xmlns=\"http://www.w3.org/2000/svg\" height=\"24px\"viewBox=\"0 0 24 24\"\n",
              "       width=\"24px\">\n",
              "    <path d=\"M0 0h24v24H0V0z\" fill=\"none\"/>\n",
              "    <path d=\"M18.56 5.44l.94 2.06.94-2.06 2.06-.94-2.06-.94-.94-2.06-.94 2.06-2.06.94zm-11 1L8.5 8.5l.94-2.06 2.06-.94-2.06-.94L8.5 2.5l-.94 2.06-2.06.94zm10 10l.94 2.06.94-2.06 2.06-.94-2.06-.94-.94-2.06-.94 2.06-2.06.94z\"/><path d=\"M17.41 7.96l-1.37-1.37c-.4-.4-.92-.59-1.43-.59-.52 0-1.04.2-1.43.59L10.3 9.45l-7.72 7.72c-.78.78-.78 2.05 0 2.83L4 21.41c.39.39.9.59 1.41.59.51 0 1.02-.2 1.41-.59l7.78-7.78 2.81-2.81c.8-.78.8-2.07 0-2.86zM5.41 20L4 18.59l7.72-7.72 1.47 1.35L5.41 20z\"/>\n",
              "  </svg>\n",
              "      </button>\n",
              "      \n",
              "  <style>\n",
              "    .colab-df-container {\n",
              "      display:flex;\n",
              "      flex-wrap:wrap;\n",
              "      gap: 12px;\n",
              "    }\n",
              "\n",
              "    .colab-df-convert {\n",
              "      background-color: #E8F0FE;\n",
              "      border: none;\n",
              "      border-radius: 50%;\n",
              "      cursor: pointer;\n",
              "      display: none;\n",
              "      fill: #1967D2;\n",
              "      height: 32px;\n",
              "      padding: 0 0 0 0;\n",
              "      width: 32px;\n",
              "    }\n",
              "\n",
              "    .colab-df-convert:hover {\n",
              "      background-color: #E2EBFA;\n",
              "      box-shadow: 0px 1px 2px rgba(60, 64, 67, 0.3), 0px 1px 3px 1px rgba(60, 64, 67, 0.15);\n",
              "      fill: #174EA6;\n",
              "    }\n",
              "\n",
              "    [theme=dark] .colab-df-convert {\n",
              "      background-color: #3B4455;\n",
              "      fill: #D2E3FC;\n",
              "    }\n",
              "\n",
              "    [theme=dark] .colab-df-convert:hover {\n",
              "      background-color: #434B5C;\n",
              "      box-shadow: 0px 1px 3px 1px rgba(0, 0, 0, 0.15);\n",
              "      filter: drop-shadow(0px 1px 2px rgba(0, 0, 0, 0.3));\n",
              "      fill: #FFFFFF;\n",
              "    }\n",
              "  </style>\n",
              "\n",
              "      <script>\n",
              "        const buttonEl =\n",
              "          document.querySelector('#df-818fa7f3-6f01-4540-af13-6802ab0b2926 button.colab-df-convert');\n",
              "        buttonEl.style.display =\n",
              "          google.colab.kernel.accessAllowed ? 'block' : 'none';\n",
              "\n",
              "        async function convertToInteractive(key) {\n",
              "          const element = document.querySelector('#df-818fa7f3-6f01-4540-af13-6802ab0b2926');\n",
              "          const dataTable =\n",
              "            await google.colab.kernel.invokeFunction('convertToInteractive',\n",
              "                                                     [key], {});\n",
              "          if (!dataTable) return;\n",
              "\n",
              "          const docLinkHtml = 'Like what you see? Visit the ' +\n",
              "            '<a target=\"_blank\" href=https://colab.research.google.com/notebooks/data_table.ipynb>data table notebook</a>'\n",
              "            + ' to learn more about interactive tables.';\n",
              "          element.innerHTML = '';\n",
              "          dataTable['output_type'] = 'display_data';\n",
              "          await google.colab.output.renderOutput(dataTable, element);\n",
              "          const docLink = document.createElement('div');\n",
              "          docLink.innerHTML = docLinkHtml;\n",
              "          element.appendChild(docLink);\n",
              "        }\n",
              "      </script>\n",
              "    </div>\n",
              "  </div>\n",
              "  "
            ]
          },
          "metadata": {},
          "execution_count": 18
        }
      ]
    },
    {
      "cell_type": "code",
      "source": [
        "# Replace all non-letters with spaces # Search for all non-letters\n",
        "# define the function to remove non-alphabetic characters\n",
        "def remove_non_alphabetic(text):\n",
        "    return re.sub(\"[^a-zA-Z]\", \" \", str(text))\n",
        "\n",
        "# apply the function to each row of the \"description\" column\n",
        "df[\"description\"] = df[\"description\"].apply(remove_non_alphabetic)"
      ],
      "metadata": {
        "id": "Rr9iM6wOVtw7"
      },
      "execution_count": null,
      "outputs": []
    },
    {
      "cell_type": "code",
      "source": [
        "df[\"description\"] = df[\"description\"].apply(lambda x: clean_text(x))"
      ],
      "metadata": {
        "id": "bDe7w3XvZTPF"
      },
      "execution_count": null,
      "outputs": []
    },
    {
      "cell_type": "markdown",
      "source": [
        "### Cleaning the Categories Column"
      ],
      "metadata": {
        "id": "0QpGhVjg7D8-"
      }
    },
    {
      "cell_type": "code",
      "source": [
        "import string\n",
        "\n",
        "# Create a translation table for punctuation removal\n",
        "translator = str.maketrans(' ', ' ', string.punctuation)\n",
        "\n",
        "# Apply the translation table to the 'Review' column of the data frame\n",
        "df['category'] = df['category'].str.translate(translator)"
      ],
      "metadata": {
        "id": "g_sFZawz64AM"
      },
      "execution_count": null,
      "outputs": []
    },
    {
      "cell_type": "code",
      "source": [
        "df.drop('categories', axis='columns')"
      ],
      "metadata": {
        "colab": {
          "base_uri": "https://localhost:8080/",
          "height": 658
        },
        "id": "3-Oc63awayn0",
        "outputId": "8235d0b4-cb77-49a5-8ea3-4226407c0d03"
      },
      "execution_count": null,
      "outputs": [
        {
          "output_type": "execute_result",
          "data": {
            "text/plain": [
              "      Unnamed: 0.1  Unnamed: 0  \\\n",
              "0                0           0   \n",
              "1                1           1   \n",
              "2                2           2   \n",
              "3                3           3   \n",
              "4                4           4   \n",
              "...            ...         ...   \n",
              "6570          6570        6570   \n",
              "6571          6571        6571   \n",
              "6572          6572        6572   \n",
              "6573          6573        6573   \n",
              "6574          6574        6574   \n",
              "\n",
              "                                             Book_Title language page_count  \\\n",
              "0                                              Footfall       en        706   \n",
              "1                                            The Reader       en        224   \n",
              "2                         Hidden Star (The Star Series)       en        234   \n",
              "3     Songs in Ordinary Time (Oprah's Book Club (Pap...       en        682   \n",
              "4                                    The Hours: A Novel       en        295   \n",
              "...                                                 ...      ...        ...   \n",
              "6570           Art of Peace (Shambhala Pocket Classics)       en      192.0   \n",
              "6571                                       Autumn Lover       en      416.0   \n",
              "6572              Tales of Two Cities: A Persian Memoir       en      276.0   \n",
              "6573                                               Heat       en      244.0   \n",
              "6574                     Shadow Puppets (Ender, Book 7)       en      477.0   \n",
              "\n",
              "                                            description  \\\n",
              "0     hostile extraterrestrial known fithp invade ea...   \n",
              "1     hailed coiled eroticism moral claim make upon ...   \n",
              "2     eleven year old nolitye granny used say mess w...   \n",
              "3     new york time bestseller troubled family vermo...   \n",
              "4     michael cunningham brings together pulitzer pr...   \n",
              "...                                                 ...   \n",
              "6570  inspirational teaching collection show real wa...   \n",
              "6571  returning wyoming ranch civil war end elyssa s...   \n",
              "6572  tale two city engrossing cross cultural memoir...   \n",
              "6573  bestseller michael arroyo pitching arm throw s...   \n",
              "6574  orson scott card award winning ender series ge...   \n",
              "\n",
              "                            category  \n",
              "0                            fiction  \n",
              "1                            fiction  \n",
              "2                            fiction  \n",
              "3                            fiction  \n",
              "4                            fiction  \n",
              "...                              ...  \n",
              "6570                      philosophy  \n",
              "6571                         fiction  \n",
              "6572                           exile  \n",
              "6573                juvenile fiction  \n",
              "6574  bean fictitious character card  \n",
              "\n",
              "[6575 rows x 7 columns]"
            ],
            "text/html": [
              "\n",
              "  <div id=\"df-ff099705-2360-48b5-a6e9-c314eda446fe\">\n",
              "    <div class=\"colab-df-container\">\n",
              "      <div>\n",
              "<style scoped>\n",
              "    .dataframe tbody tr th:only-of-type {\n",
              "        vertical-align: middle;\n",
              "    }\n",
              "\n",
              "    .dataframe tbody tr th {\n",
              "        vertical-align: top;\n",
              "    }\n",
              "\n",
              "    .dataframe thead th {\n",
              "        text-align: right;\n",
              "    }\n",
              "</style>\n",
              "<table border=\"1\" class=\"dataframe\">\n",
              "  <thead>\n",
              "    <tr style=\"text-align: right;\">\n",
              "      <th></th>\n",
              "      <th>Unnamed: 0.1</th>\n",
              "      <th>Unnamed: 0</th>\n",
              "      <th>Book_Title</th>\n",
              "      <th>language</th>\n",
              "      <th>page_count</th>\n",
              "      <th>description</th>\n",
              "      <th>category</th>\n",
              "    </tr>\n",
              "  </thead>\n",
              "  <tbody>\n",
              "    <tr>\n",
              "      <th>0</th>\n",
              "      <td>0</td>\n",
              "      <td>0</td>\n",
              "      <td>Footfall</td>\n",
              "      <td>en</td>\n",
              "      <td>706</td>\n",
              "      <td>hostile extraterrestrial known fithp invade ea...</td>\n",
              "      <td>fiction</td>\n",
              "    </tr>\n",
              "    <tr>\n",
              "      <th>1</th>\n",
              "      <td>1</td>\n",
              "      <td>1</td>\n",
              "      <td>The Reader</td>\n",
              "      <td>en</td>\n",
              "      <td>224</td>\n",
              "      <td>hailed coiled eroticism moral claim make upon ...</td>\n",
              "      <td>fiction</td>\n",
              "    </tr>\n",
              "    <tr>\n",
              "      <th>2</th>\n",
              "      <td>2</td>\n",
              "      <td>2</td>\n",
              "      <td>Hidden Star (The Star Series)</td>\n",
              "      <td>en</td>\n",
              "      <td>234</td>\n",
              "      <td>eleven year old nolitye granny used say mess w...</td>\n",
              "      <td>fiction</td>\n",
              "    </tr>\n",
              "    <tr>\n",
              "      <th>3</th>\n",
              "      <td>3</td>\n",
              "      <td>3</td>\n",
              "      <td>Songs in Ordinary Time (Oprah's Book Club (Pap...</td>\n",
              "      <td>en</td>\n",
              "      <td>682</td>\n",
              "      <td>new york time bestseller troubled family vermo...</td>\n",
              "      <td>fiction</td>\n",
              "    </tr>\n",
              "    <tr>\n",
              "      <th>4</th>\n",
              "      <td>4</td>\n",
              "      <td>4</td>\n",
              "      <td>The Hours: A Novel</td>\n",
              "      <td>en</td>\n",
              "      <td>295</td>\n",
              "      <td>michael cunningham brings together pulitzer pr...</td>\n",
              "      <td>fiction</td>\n",
              "    </tr>\n",
              "    <tr>\n",
              "      <th>...</th>\n",
              "      <td>...</td>\n",
              "      <td>...</td>\n",
              "      <td>...</td>\n",
              "      <td>...</td>\n",
              "      <td>...</td>\n",
              "      <td>...</td>\n",
              "      <td>...</td>\n",
              "    </tr>\n",
              "    <tr>\n",
              "      <th>6570</th>\n",
              "      <td>6570</td>\n",
              "      <td>6570</td>\n",
              "      <td>Art of Peace (Shambhala Pocket Classics)</td>\n",
              "      <td>en</td>\n",
              "      <td>192.0</td>\n",
              "      <td>inspirational teaching collection show real wa...</td>\n",
              "      <td>philosophy</td>\n",
              "    </tr>\n",
              "    <tr>\n",
              "      <th>6571</th>\n",
              "      <td>6571</td>\n",
              "      <td>6571</td>\n",
              "      <td>Autumn Lover</td>\n",
              "      <td>en</td>\n",
              "      <td>416.0</td>\n",
              "      <td>returning wyoming ranch civil war end elyssa s...</td>\n",
              "      <td>fiction</td>\n",
              "    </tr>\n",
              "    <tr>\n",
              "      <th>6572</th>\n",
              "      <td>6572</td>\n",
              "      <td>6572</td>\n",
              "      <td>Tales of Two Cities: A Persian Memoir</td>\n",
              "      <td>en</td>\n",
              "      <td>276.0</td>\n",
              "      <td>tale two city engrossing cross cultural memoir...</td>\n",
              "      <td>exile</td>\n",
              "    </tr>\n",
              "    <tr>\n",
              "      <th>6573</th>\n",
              "      <td>6573</td>\n",
              "      <td>6573</td>\n",
              "      <td>Heat</td>\n",
              "      <td>en</td>\n",
              "      <td>244.0</td>\n",
              "      <td>bestseller michael arroyo pitching arm throw s...</td>\n",
              "      <td>juvenile fiction</td>\n",
              "    </tr>\n",
              "    <tr>\n",
              "      <th>6574</th>\n",
              "      <td>6574</td>\n",
              "      <td>6574</td>\n",
              "      <td>Shadow Puppets (Ender, Book 7)</td>\n",
              "      <td>en</td>\n",
              "      <td>477.0</td>\n",
              "      <td>orson scott card award winning ender series ge...</td>\n",
              "      <td>bean fictitious character card</td>\n",
              "    </tr>\n",
              "  </tbody>\n",
              "</table>\n",
              "<p>6575 rows × 7 columns</p>\n",
              "</div>\n",
              "      <button class=\"colab-df-convert\" onclick=\"convertToInteractive('df-ff099705-2360-48b5-a6e9-c314eda446fe')\"\n",
              "              title=\"Convert this dataframe to an interactive table.\"\n",
              "              style=\"display:none;\">\n",
              "        \n",
              "  <svg xmlns=\"http://www.w3.org/2000/svg\" height=\"24px\"viewBox=\"0 0 24 24\"\n",
              "       width=\"24px\">\n",
              "    <path d=\"M0 0h24v24H0V0z\" fill=\"none\"/>\n",
              "    <path d=\"M18.56 5.44l.94 2.06.94-2.06 2.06-.94-2.06-.94-.94-2.06-.94 2.06-2.06.94zm-11 1L8.5 8.5l.94-2.06 2.06-.94-2.06-.94L8.5 2.5l-.94 2.06-2.06.94zm10 10l.94 2.06.94-2.06 2.06-.94-2.06-.94-.94-2.06-.94 2.06-2.06.94z\"/><path d=\"M17.41 7.96l-1.37-1.37c-.4-.4-.92-.59-1.43-.59-.52 0-1.04.2-1.43.59L10.3 9.45l-7.72 7.72c-.78.78-.78 2.05 0 2.83L4 21.41c.39.39.9.59 1.41.59.51 0 1.02-.2 1.41-.59l7.78-7.78 2.81-2.81c.8-.78.8-2.07 0-2.86zM5.41 20L4 18.59l7.72-7.72 1.47 1.35L5.41 20z\"/>\n",
              "  </svg>\n",
              "      </button>\n",
              "      \n",
              "  <style>\n",
              "    .colab-df-container {\n",
              "      display:flex;\n",
              "      flex-wrap:wrap;\n",
              "      gap: 12px;\n",
              "    }\n",
              "\n",
              "    .colab-df-convert {\n",
              "      background-color: #E8F0FE;\n",
              "      border: none;\n",
              "      border-radius: 50%;\n",
              "      cursor: pointer;\n",
              "      display: none;\n",
              "      fill: #1967D2;\n",
              "      height: 32px;\n",
              "      padding: 0 0 0 0;\n",
              "      width: 32px;\n",
              "    }\n",
              "\n",
              "    .colab-df-convert:hover {\n",
              "      background-color: #E2EBFA;\n",
              "      box-shadow: 0px 1px 2px rgba(60, 64, 67, 0.3), 0px 1px 3px 1px rgba(60, 64, 67, 0.15);\n",
              "      fill: #174EA6;\n",
              "    }\n",
              "\n",
              "    [theme=dark] .colab-df-convert {\n",
              "      background-color: #3B4455;\n",
              "      fill: #D2E3FC;\n",
              "    }\n",
              "\n",
              "    [theme=dark] .colab-df-convert:hover {\n",
              "      background-color: #434B5C;\n",
              "      box-shadow: 0px 1px 3px 1px rgba(0, 0, 0, 0.15);\n",
              "      filter: drop-shadow(0px 1px 2px rgba(0, 0, 0, 0.3));\n",
              "      fill: #FFFFFF;\n",
              "    }\n",
              "  </style>\n",
              "\n",
              "      <script>\n",
              "        const buttonEl =\n",
              "          document.querySelector('#df-ff099705-2360-48b5-a6e9-c314eda446fe button.colab-df-convert');\n",
              "        buttonEl.style.display =\n",
              "          google.colab.kernel.accessAllowed ? 'block' : 'none';\n",
              "\n",
              "        async function convertToInteractive(key) {\n",
              "          const element = document.querySelector('#df-ff099705-2360-48b5-a6e9-c314eda446fe');\n",
              "          const dataTable =\n",
              "            await google.colab.kernel.invokeFunction('convertToInteractive',\n",
              "                                                     [key], {});\n",
              "          if (!dataTable) return;\n",
              "\n",
              "          const docLinkHtml = 'Like what you see? Visit the ' +\n",
              "            '<a target=\"_blank\" href=https://colab.research.google.com/notebooks/data_table.ipynb>data table notebook</a>'\n",
              "            + ' to learn more about interactive tables.';\n",
              "          element.innerHTML = '';\n",
              "          dataTable['output_type'] = 'display_data';\n",
              "          await google.colab.output.renderOutput(dataTable, element);\n",
              "          const docLink = document.createElement('div');\n",
              "          docLink.innerHTML = docLinkHtml;\n",
              "          element.appendChild(docLink);\n",
              "        }\n",
              "      </script>\n",
              "    </div>\n",
              "  </div>\n",
              "  "
            ]
          },
          "metadata": {},
          "execution_count": 22
        }
      ]
    },
    {
      "cell_type": "markdown",
      "source": [
        "### Merging Categories and Description as major "
      ],
      "metadata": {
        "id": "6NRM6I5jzx4H"
      }
    },
    {
      "cell_type": "code",
      "source": [
        "df['Features'] = df['category'].astype(str) + ' ' + df['description'].astype(str)\n",
        "df.head(5)"
      ],
      "metadata": {
        "colab": {
          "base_uri": "https://localhost:8080/",
          "height": 441
        },
        "id": "uuazk8FSzvrQ",
        "outputId": "21fe92f3-2d61-47c9-88a2-e350a630f14a"
      },
      "execution_count": null,
      "outputs": [
        {
          "output_type": "execute_result",
          "data": {
            "text/plain": [
              "   Unnamed: 0.1  Unnamed: 0  \\\n",
              "0             0           0   \n",
              "1             1           1   \n",
              "2             2           2   \n",
              "3             3           3   \n",
              "4             4           4   \n",
              "\n",
              "                                          Book_Title language page_count  \\\n",
              "0                                           Footfall       en        706   \n",
              "1                                         The Reader       en        224   \n",
              "2                      Hidden Star (The Star Series)       en        234   \n",
              "3  Songs in Ordinary Time (Oprah's Book Club (Pap...       en        682   \n",
              "4                                 The Hours: A Novel       en        295   \n",
              "\n",
              "    categories                                        description category  \\\n",
              "0  ['Fiction']  hostile extraterrestrial known fithp invade ea...  fiction   \n",
              "1  ['Fiction']  hailed coiled eroticism moral claim make upon ...  fiction   \n",
              "2  ['Fiction']  eleven year old nolitye granny used say mess w...  fiction   \n",
              "3  ['Fiction']  new york time bestseller troubled family vermo...  fiction   \n",
              "4  ['Fiction']  michael cunningham brings together pulitzer pr...  fiction   \n",
              "\n",
              "                                            Features  \n",
              "0  fiction hostile extraterrestrial known fithp i...  \n",
              "1  fiction hailed coiled eroticism moral claim ma...  \n",
              "2  fiction eleven year old nolitye granny used sa...  \n",
              "3  fiction new york time bestseller troubled fami...  \n",
              "4  fiction michael cunningham brings together pul...  "
            ],
            "text/html": [
              "\n",
              "  <div id=\"df-34d3a3ce-2ad8-4434-93c8-2423c647ab5e\">\n",
              "    <div class=\"colab-df-container\">\n",
              "      <div>\n",
              "<style scoped>\n",
              "    .dataframe tbody tr th:only-of-type {\n",
              "        vertical-align: middle;\n",
              "    }\n",
              "\n",
              "    .dataframe tbody tr th {\n",
              "        vertical-align: top;\n",
              "    }\n",
              "\n",
              "    .dataframe thead th {\n",
              "        text-align: right;\n",
              "    }\n",
              "</style>\n",
              "<table border=\"1\" class=\"dataframe\">\n",
              "  <thead>\n",
              "    <tr style=\"text-align: right;\">\n",
              "      <th></th>\n",
              "      <th>Unnamed: 0.1</th>\n",
              "      <th>Unnamed: 0</th>\n",
              "      <th>Book_Title</th>\n",
              "      <th>language</th>\n",
              "      <th>page_count</th>\n",
              "      <th>categories</th>\n",
              "      <th>description</th>\n",
              "      <th>category</th>\n",
              "      <th>Features</th>\n",
              "    </tr>\n",
              "  </thead>\n",
              "  <tbody>\n",
              "    <tr>\n",
              "      <th>0</th>\n",
              "      <td>0</td>\n",
              "      <td>0</td>\n",
              "      <td>Footfall</td>\n",
              "      <td>en</td>\n",
              "      <td>706</td>\n",
              "      <td>['Fiction']</td>\n",
              "      <td>hostile extraterrestrial known fithp invade ea...</td>\n",
              "      <td>fiction</td>\n",
              "      <td>fiction hostile extraterrestrial known fithp i...</td>\n",
              "    </tr>\n",
              "    <tr>\n",
              "      <th>1</th>\n",
              "      <td>1</td>\n",
              "      <td>1</td>\n",
              "      <td>The Reader</td>\n",
              "      <td>en</td>\n",
              "      <td>224</td>\n",
              "      <td>['Fiction']</td>\n",
              "      <td>hailed coiled eroticism moral claim make upon ...</td>\n",
              "      <td>fiction</td>\n",
              "      <td>fiction hailed coiled eroticism moral claim ma...</td>\n",
              "    </tr>\n",
              "    <tr>\n",
              "      <th>2</th>\n",
              "      <td>2</td>\n",
              "      <td>2</td>\n",
              "      <td>Hidden Star (The Star Series)</td>\n",
              "      <td>en</td>\n",
              "      <td>234</td>\n",
              "      <td>['Fiction']</td>\n",
              "      <td>eleven year old nolitye granny used say mess w...</td>\n",
              "      <td>fiction</td>\n",
              "      <td>fiction eleven year old nolitye granny used sa...</td>\n",
              "    </tr>\n",
              "    <tr>\n",
              "      <th>3</th>\n",
              "      <td>3</td>\n",
              "      <td>3</td>\n",
              "      <td>Songs in Ordinary Time (Oprah's Book Club (Pap...</td>\n",
              "      <td>en</td>\n",
              "      <td>682</td>\n",
              "      <td>['Fiction']</td>\n",
              "      <td>new york time bestseller troubled family vermo...</td>\n",
              "      <td>fiction</td>\n",
              "      <td>fiction new york time bestseller troubled fami...</td>\n",
              "    </tr>\n",
              "    <tr>\n",
              "      <th>4</th>\n",
              "      <td>4</td>\n",
              "      <td>4</td>\n",
              "      <td>The Hours: A Novel</td>\n",
              "      <td>en</td>\n",
              "      <td>295</td>\n",
              "      <td>['Fiction']</td>\n",
              "      <td>michael cunningham brings together pulitzer pr...</td>\n",
              "      <td>fiction</td>\n",
              "      <td>fiction michael cunningham brings together pul...</td>\n",
              "    </tr>\n",
              "  </tbody>\n",
              "</table>\n",
              "</div>\n",
              "      <button class=\"colab-df-convert\" onclick=\"convertToInteractive('df-34d3a3ce-2ad8-4434-93c8-2423c647ab5e')\"\n",
              "              title=\"Convert this dataframe to an interactive table.\"\n",
              "              style=\"display:none;\">\n",
              "        \n",
              "  <svg xmlns=\"http://www.w3.org/2000/svg\" height=\"24px\"viewBox=\"0 0 24 24\"\n",
              "       width=\"24px\">\n",
              "    <path d=\"M0 0h24v24H0V0z\" fill=\"none\"/>\n",
              "    <path d=\"M18.56 5.44l.94 2.06.94-2.06 2.06-.94-2.06-.94-.94-2.06-.94 2.06-2.06.94zm-11 1L8.5 8.5l.94-2.06 2.06-.94-2.06-.94L8.5 2.5l-.94 2.06-2.06.94zm10 10l.94 2.06.94-2.06 2.06-.94-2.06-.94-.94-2.06-.94 2.06-2.06.94z\"/><path d=\"M17.41 7.96l-1.37-1.37c-.4-.4-.92-.59-1.43-.59-.52 0-1.04.2-1.43.59L10.3 9.45l-7.72 7.72c-.78.78-.78 2.05 0 2.83L4 21.41c.39.39.9.59 1.41.59.51 0 1.02-.2 1.41-.59l7.78-7.78 2.81-2.81c.8-.78.8-2.07 0-2.86zM5.41 20L4 18.59l7.72-7.72 1.47 1.35L5.41 20z\"/>\n",
              "  </svg>\n",
              "      </button>\n",
              "      \n",
              "  <style>\n",
              "    .colab-df-container {\n",
              "      display:flex;\n",
              "      flex-wrap:wrap;\n",
              "      gap: 12px;\n",
              "    }\n",
              "\n",
              "    .colab-df-convert {\n",
              "      background-color: #E8F0FE;\n",
              "      border: none;\n",
              "      border-radius: 50%;\n",
              "      cursor: pointer;\n",
              "      display: none;\n",
              "      fill: #1967D2;\n",
              "      height: 32px;\n",
              "      padding: 0 0 0 0;\n",
              "      width: 32px;\n",
              "    }\n",
              "\n",
              "    .colab-df-convert:hover {\n",
              "      background-color: #E2EBFA;\n",
              "      box-shadow: 0px 1px 2px rgba(60, 64, 67, 0.3), 0px 1px 3px 1px rgba(60, 64, 67, 0.15);\n",
              "      fill: #174EA6;\n",
              "    }\n",
              "\n",
              "    [theme=dark] .colab-df-convert {\n",
              "      background-color: #3B4455;\n",
              "      fill: #D2E3FC;\n",
              "    }\n",
              "\n",
              "    [theme=dark] .colab-df-convert:hover {\n",
              "      background-color: #434B5C;\n",
              "      box-shadow: 0px 1px 3px 1px rgba(0, 0, 0, 0.15);\n",
              "      filter: drop-shadow(0px 1px 2px rgba(0, 0, 0, 0.3));\n",
              "      fill: #FFFFFF;\n",
              "    }\n",
              "  </style>\n",
              "\n",
              "      <script>\n",
              "        const buttonEl =\n",
              "          document.querySelector('#df-34d3a3ce-2ad8-4434-93c8-2423c647ab5e button.colab-df-convert');\n",
              "        buttonEl.style.display =\n",
              "          google.colab.kernel.accessAllowed ? 'block' : 'none';\n",
              "\n",
              "        async function convertToInteractive(key) {\n",
              "          const element = document.querySelector('#df-34d3a3ce-2ad8-4434-93c8-2423c647ab5e');\n",
              "          const dataTable =\n",
              "            await google.colab.kernel.invokeFunction('convertToInteractive',\n",
              "                                                     [key], {});\n",
              "          if (!dataTable) return;\n",
              "\n",
              "          const docLinkHtml = 'Like what you see? Visit the ' +\n",
              "            '<a target=\"_blank\" href=https://colab.research.google.com/notebooks/data_table.ipynb>data table notebook</a>'\n",
              "            + ' to learn more about interactive tables.';\n",
              "          element.innerHTML = '';\n",
              "          dataTable['output_type'] = 'display_data';\n",
              "          await google.colab.output.renderOutput(dataTable, element);\n",
              "          const docLink = document.createElement('div');\n",
              "          docLink.innerHTML = docLinkHtml;\n",
              "          element.appendChild(docLink);\n",
              "        }\n",
              "      </script>\n",
              "    </div>\n",
              "  </div>\n",
              "  "
            ]
          },
          "metadata": {},
          "execution_count": 24
        }
      ]
    },
    {
      "cell_type": "markdown",
      "source": [
        "### Merge Rating & Book Feature DF"
      ],
      "metadata": {
        "id": "gPNpgWRk_Ed_"
      }
    },
    {
      "cell_type": "code",
      "source": [
        "book_merged = pd.merge(Books, Book_ISBN)"
      ],
      "metadata": {
        "id": "6XtirZd2x7CK"
      },
      "execution_count": null,
      "outputs": []
    },
    {
      "cell_type": "code",
      "source": [
        "df_rating = Ratings[Ratings['ISBN'].isin(book_merged['ISBN'])]"
      ],
      "metadata": {
        "id": "e8NvStw1DfrJ"
      },
      "execution_count": null,
      "outputs": []
    },
    {
      "cell_type": "code",
      "source": [
        "book_merged.head()"
      ],
      "metadata": {
        "colab": {
          "base_uri": "https://localhost:8080/",
          "height": 600
        },
        "id": "G_WQJJwP3yLb",
        "outputId": "6188a72c-56ea-43be-bf3f-a1bc4e7d4c7f"
      },
      "execution_count": null,
      "outputs": [
        {
          "output_type": "execute_result",
          "data": {
            "text/plain": [
              "   Unnamed: 0.1  Unnamed: 0  Book_Title language page_count   categories  \\\n",
              "0             0           0    Footfall       en        706  ['Fiction']   \n",
              "1             0           0    Footfall       en        706  ['Fiction']   \n",
              "2             1           1  The Reader       en        224  ['Fiction']   \n",
              "3             1           1  The Reader       en        224  ['Fiction']   \n",
              "4             1           1  The Reader       en        224  ['Fiction']   \n",
              "\n",
              "                                         description category  \\\n",
              "0  hostile extraterrestrial known fithp invade ea...  fiction   \n",
              "1  hostile extraterrestrial known fithp invade ea...  fiction   \n",
              "2  hailed coiled eroticism moral claim make upon ...  fiction   \n",
              "3  hailed coiled eroticism moral claim make upon ...  fiction   \n",
              "4  hailed coiled eroticism moral claim make upon ...  fiction   \n",
              "\n",
              "                                            Features        ISBN  \\\n",
              "0  fiction hostile extraterrestrial known fithp i...  0345323440   \n",
              "1  fiction hostile extraterrestrial known fithp i...  0345323475   \n",
              "2  fiction hailed coiled eroticism moral claim ma...  0679442790   \n",
              "3  fiction hailed coiled eroticism moral claim ma...  0375707972   \n",
              "4  fiction hailed coiled eroticism moral claim ma...  0679781307   \n",
              "\n",
              "           Book-Author Year-Of-Publication          Publisher  \\\n",
              "0          Larry Niven                1996      Del Rey Books   \n",
              "1          Larry Niven                1985   Ballantine Books   \n",
              "2     Bernhard Schlink                1997       Random House   \n",
              "3     Bernhard Schlink                1999  Vintage Books USA   \n",
              "4  Carol Brown Janeway                1998   Random House Inc   \n",
              "\n",
              "                                         Image-URL-S  \\\n",
              "0  http://images.amazon.com/images/P/0345323440.0...   \n",
              "1  http://images.amazon.com/images/P/0345323475.0...   \n",
              "2  http://images.amazon.com/images/P/0679442790.0...   \n",
              "3  http://images.amazon.com/images/P/0375707972.0...   \n",
              "4  http://images.amazon.com/images/P/0679781307.0...   \n",
              "\n",
              "                                         Image-URL-M  \\\n",
              "0  http://images.amazon.com/images/P/0345323440.0...   \n",
              "1  http://images.amazon.com/images/P/0345323475.0...   \n",
              "2  http://images.amazon.com/images/P/0679442790.0...   \n",
              "3  http://images.amazon.com/images/P/0375707972.0...   \n",
              "4  http://images.amazon.com/images/P/0679781307.0...   \n",
              "\n",
              "                                         Image-URL-L  \n",
              "0  http://images.amazon.com/images/P/0345323440.0...  \n",
              "1  http://images.amazon.com/images/P/0345323475.0...  \n",
              "2  http://images.amazon.com/images/P/0679442790.0...  \n",
              "3  http://images.amazon.com/images/P/0375707972.0...  \n",
              "4  http://images.amazon.com/images/P/0679781307.0...  "
            ],
            "text/html": [
              "\n",
              "  <div id=\"df-e2264d72-32df-4ea4-8964-da43635f2574\">\n",
              "    <div class=\"colab-df-container\">\n",
              "      <div>\n",
              "<style scoped>\n",
              "    .dataframe tbody tr th:only-of-type {\n",
              "        vertical-align: middle;\n",
              "    }\n",
              "\n",
              "    .dataframe tbody tr th {\n",
              "        vertical-align: top;\n",
              "    }\n",
              "\n",
              "    .dataframe thead th {\n",
              "        text-align: right;\n",
              "    }\n",
              "</style>\n",
              "<table border=\"1\" class=\"dataframe\">\n",
              "  <thead>\n",
              "    <tr style=\"text-align: right;\">\n",
              "      <th></th>\n",
              "      <th>Unnamed: 0.1</th>\n",
              "      <th>Unnamed: 0</th>\n",
              "      <th>Book_Title</th>\n",
              "      <th>language</th>\n",
              "      <th>page_count</th>\n",
              "      <th>categories</th>\n",
              "      <th>description</th>\n",
              "      <th>category</th>\n",
              "      <th>Features</th>\n",
              "      <th>ISBN</th>\n",
              "      <th>Book-Author</th>\n",
              "      <th>Year-Of-Publication</th>\n",
              "      <th>Publisher</th>\n",
              "      <th>Image-URL-S</th>\n",
              "      <th>Image-URL-M</th>\n",
              "      <th>Image-URL-L</th>\n",
              "    </tr>\n",
              "  </thead>\n",
              "  <tbody>\n",
              "    <tr>\n",
              "      <th>0</th>\n",
              "      <td>0</td>\n",
              "      <td>0</td>\n",
              "      <td>Footfall</td>\n",
              "      <td>en</td>\n",
              "      <td>706</td>\n",
              "      <td>['Fiction']</td>\n",
              "      <td>hostile extraterrestrial known fithp invade ea...</td>\n",
              "      <td>fiction</td>\n",
              "      <td>fiction hostile extraterrestrial known fithp i...</td>\n",
              "      <td>0345323440</td>\n",
              "      <td>Larry Niven</td>\n",
              "      <td>1996</td>\n",
              "      <td>Del Rey Books</td>\n",
              "      <td>http://images.amazon.com/images/P/0345323440.0...</td>\n",
              "      <td>http://images.amazon.com/images/P/0345323440.0...</td>\n",
              "      <td>http://images.amazon.com/images/P/0345323440.0...</td>\n",
              "    </tr>\n",
              "    <tr>\n",
              "      <th>1</th>\n",
              "      <td>0</td>\n",
              "      <td>0</td>\n",
              "      <td>Footfall</td>\n",
              "      <td>en</td>\n",
              "      <td>706</td>\n",
              "      <td>['Fiction']</td>\n",
              "      <td>hostile extraterrestrial known fithp invade ea...</td>\n",
              "      <td>fiction</td>\n",
              "      <td>fiction hostile extraterrestrial known fithp i...</td>\n",
              "      <td>0345323475</td>\n",
              "      <td>Larry Niven</td>\n",
              "      <td>1985</td>\n",
              "      <td>Ballantine Books</td>\n",
              "      <td>http://images.amazon.com/images/P/0345323475.0...</td>\n",
              "      <td>http://images.amazon.com/images/P/0345323475.0...</td>\n",
              "      <td>http://images.amazon.com/images/P/0345323475.0...</td>\n",
              "    </tr>\n",
              "    <tr>\n",
              "      <th>2</th>\n",
              "      <td>1</td>\n",
              "      <td>1</td>\n",
              "      <td>The Reader</td>\n",
              "      <td>en</td>\n",
              "      <td>224</td>\n",
              "      <td>['Fiction']</td>\n",
              "      <td>hailed coiled eroticism moral claim make upon ...</td>\n",
              "      <td>fiction</td>\n",
              "      <td>fiction hailed coiled eroticism moral claim ma...</td>\n",
              "      <td>0679442790</td>\n",
              "      <td>Bernhard Schlink</td>\n",
              "      <td>1997</td>\n",
              "      <td>Random House</td>\n",
              "      <td>http://images.amazon.com/images/P/0679442790.0...</td>\n",
              "      <td>http://images.amazon.com/images/P/0679442790.0...</td>\n",
              "      <td>http://images.amazon.com/images/P/0679442790.0...</td>\n",
              "    </tr>\n",
              "    <tr>\n",
              "      <th>3</th>\n",
              "      <td>1</td>\n",
              "      <td>1</td>\n",
              "      <td>The Reader</td>\n",
              "      <td>en</td>\n",
              "      <td>224</td>\n",
              "      <td>['Fiction']</td>\n",
              "      <td>hailed coiled eroticism moral claim make upon ...</td>\n",
              "      <td>fiction</td>\n",
              "      <td>fiction hailed coiled eroticism moral claim ma...</td>\n",
              "      <td>0375707972</td>\n",
              "      <td>Bernhard Schlink</td>\n",
              "      <td>1999</td>\n",
              "      <td>Vintage Books USA</td>\n",
              "      <td>http://images.amazon.com/images/P/0375707972.0...</td>\n",
              "      <td>http://images.amazon.com/images/P/0375707972.0...</td>\n",
              "      <td>http://images.amazon.com/images/P/0375707972.0...</td>\n",
              "    </tr>\n",
              "    <tr>\n",
              "      <th>4</th>\n",
              "      <td>1</td>\n",
              "      <td>1</td>\n",
              "      <td>The Reader</td>\n",
              "      <td>en</td>\n",
              "      <td>224</td>\n",
              "      <td>['Fiction']</td>\n",
              "      <td>hailed coiled eroticism moral claim make upon ...</td>\n",
              "      <td>fiction</td>\n",
              "      <td>fiction hailed coiled eroticism moral claim ma...</td>\n",
              "      <td>0679781307</td>\n",
              "      <td>Carol Brown Janeway</td>\n",
              "      <td>1998</td>\n",
              "      <td>Random House Inc</td>\n",
              "      <td>http://images.amazon.com/images/P/0679781307.0...</td>\n",
              "      <td>http://images.amazon.com/images/P/0679781307.0...</td>\n",
              "      <td>http://images.amazon.com/images/P/0679781307.0...</td>\n",
              "    </tr>\n",
              "  </tbody>\n",
              "</table>\n",
              "</div>\n",
              "      <button class=\"colab-df-convert\" onclick=\"convertToInteractive('df-e2264d72-32df-4ea4-8964-da43635f2574')\"\n",
              "              title=\"Convert this dataframe to an interactive table.\"\n",
              "              style=\"display:none;\">\n",
              "        \n",
              "  <svg xmlns=\"http://www.w3.org/2000/svg\" height=\"24px\"viewBox=\"0 0 24 24\"\n",
              "       width=\"24px\">\n",
              "    <path d=\"M0 0h24v24H0V0z\" fill=\"none\"/>\n",
              "    <path d=\"M18.56 5.44l.94 2.06.94-2.06 2.06-.94-2.06-.94-.94-2.06-.94 2.06-2.06.94zm-11 1L8.5 8.5l.94-2.06 2.06-.94-2.06-.94L8.5 2.5l-.94 2.06-2.06.94zm10 10l.94 2.06.94-2.06 2.06-.94-2.06-.94-.94-2.06-.94 2.06-2.06.94z\"/><path d=\"M17.41 7.96l-1.37-1.37c-.4-.4-.92-.59-1.43-.59-.52 0-1.04.2-1.43.59L10.3 9.45l-7.72 7.72c-.78.78-.78 2.05 0 2.83L4 21.41c.39.39.9.59 1.41.59.51 0 1.02-.2 1.41-.59l7.78-7.78 2.81-2.81c.8-.78.8-2.07 0-2.86zM5.41 20L4 18.59l7.72-7.72 1.47 1.35L5.41 20z\"/>\n",
              "  </svg>\n",
              "      </button>\n",
              "      \n",
              "  <style>\n",
              "    .colab-df-container {\n",
              "      display:flex;\n",
              "      flex-wrap:wrap;\n",
              "      gap: 12px;\n",
              "    }\n",
              "\n",
              "    .colab-df-convert {\n",
              "      background-color: #E8F0FE;\n",
              "      border: none;\n",
              "      border-radius: 50%;\n",
              "      cursor: pointer;\n",
              "      display: none;\n",
              "      fill: #1967D2;\n",
              "      height: 32px;\n",
              "      padding: 0 0 0 0;\n",
              "      width: 32px;\n",
              "    }\n",
              "\n",
              "    .colab-df-convert:hover {\n",
              "      background-color: #E2EBFA;\n",
              "      box-shadow: 0px 1px 2px rgba(60, 64, 67, 0.3), 0px 1px 3px 1px rgba(60, 64, 67, 0.15);\n",
              "      fill: #174EA6;\n",
              "    }\n",
              "\n",
              "    [theme=dark] .colab-df-convert {\n",
              "      background-color: #3B4455;\n",
              "      fill: #D2E3FC;\n",
              "    }\n",
              "\n",
              "    [theme=dark] .colab-df-convert:hover {\n",
              "      background-color: #434B5C;\n",
              "      box-shadow: 0px 1px 3px 1px rgba(0, 0, 0, 0.15);\n",
              "      filter: drop-shadow(0px 1px 2px rgba(0, 0, 0, 0.3));\n",
              "      fill: #FFFFFF;\n",
              "    }\n",
              "  </style>\n",
              "\n",
              "      <script>\n",
              "        const buttonEl =\n",
              "          document.querySelector('#df-e2264d72-32df-4ea4-8964-da43635f2574 button.colab-df-convert');\n",
              "        buttonEl.style.display =\n",
              "          google.colab.kernel.accessAllowed ? 'block' : 'none';\n",
              "\n",
              "        async function convertToInteractive(key) {\n",
              "          const element = document.querySelector('#df-e2264d72-32df-4ea4-8964-da43635f2574');\n",
              "          const dataTable =\n",
              "            await google.colab.kernel.invokeFunction('convertToInteractive',\n",
              "                                                     [key], {});\n",
              "          if (!dataTable) return;\n",
              "\n",
              "          const docLinkHtml = 'Like what you see? Visit the ' +\n",
              "            '<a target=\"_blank\" href=https://colab.research.google.com/notebooks/data_table.ipynb>data table notebook</a>'\n",
              "            + ' to learn more about interactive tables.';\n",
              "          element.innerHTML = '';\n",
              "          dataTable['output_type'] = 'display_data';\n",
              "          await google.colab.output.renderOutput(dataTable, element);\n",
              "          const docLink = document.createElement('div');\n",
              "          docLink.innerHTML = docLinkHtml;\n",
              "          element.appendChild(docLink);\n",
              "        }\n",
              "      </script>\n",
              "    </div>\n",
              "  </div>\n",
              "  "
            ]
          },
          "metadata": {},
          "execution_count": 40
        }
      ]
    },
    {
      "cell_type": "code",
      "source": [
        "df=book_merged"
      ],
      "metadata": {
        "id": "B5NYQZLi4Ddf"
      },
      "execution_count": null,
      "outputs": []
    },
    {
      "cell_type": "markdown",
      "source": [
        "### Review Tokenization"
      ],
      "metadata": {
        "id": "KWpV9tHJ7-l6"
      }
    },
    {
      "cell_type": "code",
      "source": [
        "# Tokenize the data\n",
        "import nltk\n",
        "from nltk.tokenize import word_tokenize\n",
        "nltk.download('punkt')\n",
        "\n",
        "features = df['Features']\n",
        "tokenized_features = [word_tokenize(feature) for feature in features]"
      ],
      "metadata": {
        "id": "GcNGDdPK78xX",
        "colab": {
          "base_uri": "https://localhost:8080/"
        },
        "outputId": "83c8d6e4-69ca-476c-8280-b7803918ce3e"
      },
      "execution_count": null,
      "outputs": [
        {
          "output_type": "stream",
          "name": "stderr",
          "text": [
            "[nltk_data] Downloading package punkt to /root/nltk_data...\n",
            "[nltk_data]   Package punkt is already up-to-date!\n"
          ]
        }
      ]
    },
    {
      "cell_type": "markdown",
      "source": [
        "### Word Embeddings"
      ],
      "metadata": {
        "id": "u7ar_SBT8E-4"
      }
    },
    {
      "cell_type": "code",
      "source": [
        "# Word Embeddings Creation\n",
        "\n",
        "import gensim\n",
        "\n",
        "# Train the Word2Vec model\n",
        "model = gensim.models.Word2Vec(tokenized_features, vector_size=250, window=5, min_count=1, workers=8)\n",
        "# Access the word vectors\n",
        "word_vectors = model.wv"
      ],
      "metadata": {
        "id": "v7WLdwHS8CHH"
      },
      "execution_count": null,
      "outputs": []
    },
    {
      "cell_type": "code",
      "source": [
        "word_vectors"
      ],
      "metadata": {
        "colab": {
          "base_uri": "https://localhost:8080/"
        },
        "id": "3pFMp6_DdkLU",
        "outputId": "60c4c176-2b3a-49c1-f209-9bb3fce862dd"
      },
      "execution_count": null,
      "outputs": [
        {
          "output_type": "execute_result",
          "data": {
            "text/plain": [
              "<gensim.models.keyedvectors.KeyedVectors at 0x7f9a37f216f0>"
            ]
          },
          "metadata": {},
          "execution_count": 27
        }
      ]
    },
    {
      "cell_type": "markdown",
      "source": [
        "### Representing Description into Vectors"
      ],
      "metadata": {
        "id": "t8BsbKRV8NBn"
      }
    },
    {
      "cell_type": "code",
      "source": [
        "df['Features']"
      ],
      "metadata": {
        "colab": {
          "base_uri": "https://localhost:8080/"
        },
        "id": "2kjI_W8Kl_j8",
        "outputId": "769805b3-cba6-4cd8-dd5c-78e5d80c2fb8"
      },
      "execution_count": null,
      "outputs": [
        {
          "output_type": "execute_result",
          "data": {
            "text/plain": [
              "0       fiction hostile extraterrestrial known fithp i...\n",
              "1       fiction hailed coiled eroticism moral claim ma...\n",
              "2       fiction eleven year old nolitye granny used sa...\n",
              "3       fiction new york time bestseller troubled fami...\n",
              "4       fiction michael cunningham brings together pul...\n",
              "                              ...                        \n",
              "6570    philosophy inspirational teaching collection s...\n",
              "6571    fiction returning wyoming ranch civil war end ...\n",
              "6572    exile tale two city engrossing cross cultural ...\n",
              "6573    juvenile fiction bestseller michael arroyo pit...\n",
              "6574    bean fictitious character card orson scott car...\n",
              "Name: Features, Length: 6575, dtype: object"
            ]
          },
          "metadata": {},
          "execution_count": 28
        }
      ]
    },
    {
      "cell_type": "code",
      "source": [
        "desc_array = []\n",
        "for feature in df['Features']:\n",
        "  word_vector = np.zeros((1, 250))\n",
        "  for word in word_tokenize(feature):\n",
        "    word_vector += word_vectors[word]\n",
        "  desc_array.append(word_vector) "
      ],
      "metadata": {
        "id": "LLENTBwy8MlP"
      },
      "execution_count": null,
      "outputs": []
    },
    {
      "cell_type": "code",
      "source": [
        "desc_array = np.array(desc_array)\n",
        "desc_array = desc_array.reshape(-1,250)\n",
        "desc_array.shape"
      ],
      "metadata": {
        "id": "lRSluKMj8KW_",
        "colab": {
          "base_uri": "https://localhost:8080/"
        },
        "outputId": "2114c1ca-8fc6-4aeb-f4e6-56bf595c2270"
      },
      "execution_count": null,
      "outputs": [
        {
          "output_type": "execute_result",
          "data": {
            "text/plain": [
              "(6575, 250)"
            ]
          },
          "metadata": {},
          "execution_count": 30
        }
      ]
    },
    {
      "cell_type": "code",
      "source": [
        "desc_array"
      ],
      "metadata": {
        "colab": {
          "base_uri": "https://localhost:8080/"
        },
        "id": "sATjgmYbi-Ue",
        "outputId": "0d4e7436-ffb0-48dc-b6fe-6e2badc1112d"
      },
      "execution_count": null,
      "outputs": [
        {
          "output_type": "execute_result",
          "data": {
            "text/plain": [
              "array([[  2.58355247,  -0.11520911,   2.59334551, ...,  -1.24106617,\n",
              "         -1.58012329,   1.02832523],\n",
              "       [ 23.52885126,   1.04008594,  11.12106716, ...,  -8.84684407,\n",
              "        -10.43388766,   4.80989228],\n",
              "       [ 38.76853302,  -0.69275227,  18.52786057, ..., -12.82376173,\n",
              "        -17.01424097,   6.32691999],\n",
              "       ...,\n",
              "       [ 26.58901371,  -5.53397005,  21.24578739, ..., -10.97112045,\n",
              "        -14.56070025,  12.52903819],\n",
              "       [ 46.19840573,   1.9188477 ,  28.90117656, ..., -15.79473742,\n",
              "        -20.38117864,   9.85971584],\n",
              "       [ 18.73709538,  -2.87484076,  23.15604157, ...,  -7.32082503,\n",
              "        -10.53556924,  10.57495802]])"
            ]
          },
          "metadata": {},
          "execution_count": 31
        }
      ]
    },
    {
      "cell_type": "markdown",
      "source": [
        "### Cosine Similarity"
      ],
      "metadata": {
        "id": "CHIJs1mS8jLR"
      }
    },
    {
      "cell_type": "code",
      "source": [
        "from sklearn.metrics.pairwise import cosine_similarity\n",
        "similarities = cosine_similarity(desc_array,desc_array).flatten()"
      ],
      "metadata": {
        "id": "Gw8oBRFL8g8o"
      },
      "execution_count": null,
      "outputs": []
    },
    {
      "cell_type": "code",
      "source": [
        "similarities"
      ],
      "metadata": {
        "colab": {
          "base_uri": "https://localhost:8080/"
        },
        "id": "PsIRjnOPf-o-",
        "outputId": "2f35eefd-5dfd-4494-87ec-14d6b06367d6"
      },
      "execution_count": null,
      "outputs": [
        {
          "output_type": "execute_result",
          "data": {
            "text/plain": [
              "array([1.        , 0.98017333, 0.97709128, ..., 0.98972698, 0.95777007,\n",
              "       1.        ])"
            ]
          },
          "metadata": {},
          "execution_count": 33
        }
      ]
    },
    {
      "cell_type": "markdown",
      "source": [
        "## Count Vectorizer"
      ],
      "metadata": {
        "id": "MF44itc8mKgA"
      }
    },
    {
      "cell_type": "code",
      "source": [
        "from sklearn.feature_extraction.text import CountVectorizer\n",
        "\n",
        "count = CountVectorizer(stop_words='english')\n",
        "count_matrix = count.fit_transform(df['Features'])"
      ],
      "metadata": {
        "id": "Pi-v3pyADPd1"
      },
      "execution_count": null,
      "outputs": []
    },
    {
      "cell_type": "code",
      "source": [
        "# Compute the Cosine Similarity matrix based on the count_matrix\n",
        "from sklearn.metrics.pairwise import cosine_similarity\n",
        "\n",
        "cosine_sim2 = cosine_similarity(count_matrix, count_matrix)"
      ],
      "metadata": {
        "id": "frpbYznIDWko"
      },
      "execution_count": null,
      "outputs": []
    },
    {
      "cell_type": "code",
      "source": [
        "df2 = df.reset_index()\n",
        "indices = pd.Series(df2.index, index=df2['ISBN'])"
      ],
      "metadata": {
        "id": "ffZreXsaDZWI"
      },
      "execution_count": null,
      "outputs": []
    },
    {
      "cell_type": "markdown",
      "source": [
        "### Personlized Recommendation for User ID"
      ],
      "metadata": {
        "id": "WOpMsiudMC4F"
      }
    },
    {
      "cell_type": "code",
      "source": [
        "def recommend_books(ISBN, cosine_sim):\n",
        "    # Get the index of the books that matches the ISBN\n",
        "    idx = indices[ISBN]\n",
        "\n",
        "    # Get the pairwsie similarity scores of all books with that book\n",
        "    sim_scores = list(enumerate(cosine_sim[idx]))\n",
        "\n",
        "    # Sort the books based on the similarity scores\n",
        "    sim_scores = sorted(sim_scores, key=lambda x: x[1], reverse=True)\n",
        "    \n",
        "\n",
        "    # Get the scores of the most similar books\n",
        "    sim_scores = sim_scores[1:21]\n",
        "\n",
        "    # Get the book indices\n",
        "    book_indices = [i[0] for i in sim_scores]\n",
        "\n",
        "    # Return the top most similar books\n",
        "    return df2[['Book_Title','ISBN']].iloc[book_indices], sim_scores"
      ],
      "metadata": {
        "id": "V_oTRIjgDaDI"
      },
      "execution_count": null,
      "outputs": []
    },
    {
      "cell_type": "code",
      "source": [
        "def get_recommendations(userid, cosine_sim):\n",
        "    #userid = str(userid)\n",
        "    ISBN = df_rating['ISBN'].loc[df_rating[df_rating['User-ID'] == userid]['Book-Rating'].idxmax()]\n",
        "\n",
        "    recommendation, sim_score = recommend_books(ISBN, cosine_sim)\n",
        "\n",
        "    df_recommend = pd.DataFrame(recommendation)\n",
        "    df_recommend['Cosine_Similarity'] = sim_score\n",
        "    df_recommend['Cosine_Similarity'] = df_recommend['Cosine_Similarity'].apply(lambda x: x[1])\n",
        "\n",
        "    return df_recommend"
      ],
      "metadata": {
        "id": "Ym0fuDXD4M69"
      },
      "execution_count": null,
      "outputs": []
    },
    {
      "cell_type": "code",
      "source": [
        "df_recommend = get_recommendations(8, cosine_sim2)\n",
        "df_recommend=df_recommend.drop_duplicates(subset='Book_Title')\n",
        "df_recommend[['Book_Title','ISBN']]"
      ],
      "metadata": {
        "colab": {
          "base_uri": "https://localhost:8080/",
          "height": 206
        },
        "id": "IN7wvXQy47Tr",
        "outputId": "3f798257-fba7-4e77-d2e7-6d9e10dd8fff"
      },
      "execution_count": null,
      "outputs": [
        {
          "output_type": "execute_result",
          "data": {
            "text/plain": [
              "                                              Book_Title        ISBN\n",
              "12698    Flu : The Story Of The Great Influenza Pandemic  0743203984\n",
              "5704                                            Outbreak  042510687X\n",
              "8667                                          Fatherland  0061006629\n",
              "1910         The Illustrated Man (Grand Master Editions)  055327449X\n",
              "10301  Farewell to Manzanar: A True Story of Japanese...  0553272586"
            ],
            "text/html": [
              "\n",
              "  <div id=\"df-4f01e531-b27f-4e0b-af18-183d5fb0faf7\">\n",
              "    <div class=\"colab-df-container\">\n",
              "      <div>\n",
              "<style scoped>\n",
              "    .dataframe tbody tr th:only-of-type {\n",
              "        vertical-align: middle;\n",
              "    }\n",
              "\n",
              "    .dataframe tbody tr th {\n",
              "        vertical-align: top;\n",
              "    }\n",
              "\n",
              "    .dataframe thead th {\n",
              "        text-align: right;\n",
              "    }\n",
              "</style>\n",
              "<table border=\"1\" class=\"dataframe\">\n",
              "  <thead>\n",
              "    <tr style=\"text-align: right;\">\n",
              "      <th></th>\n",
              "      <th>Book_Title</th>\n",
              "      <th>ISBN</th>\n",
              "    </tr>\n",
              "  </thead>\n",
              "  <tbody>\n",
              "    <tr>\n",
              "      <th>12698</th>\n",
              "      <td>Flu : The Story Of The Great Influenza Pandemic</td>\n",
              "      <td>0743203984</td>\n",
              "    </tr>\n",
              "    <tr>\n",
              "      <th>5704</th>\n",
              "      <td>Outbreak</td>\n",
              "      <td>042510687X</td>\n",
              "    </tr>\n",
              "    <tr>\n",
              "      <th>8667</th>\n",
              "      <td>Fatherland</td>\n",
              "      <td>0061006629</td>\n",
              "    </tr>\n",
              "    <tr>\n",
              "      <th>1910</th>\n",
              "      <td>The Illustrated Man (Grand Master Editions)</td>\n",
              "      <td>055327449X</td>\n",
              "    </tr>\n",
              "    <tr>\n",
              "      <th>10301</th>\n",
              "      <td>Farewell to Manzanar: A True Story of Japanese...</td>\n",
              "      <td>0553272586</td>\n",
              "    </tr>\n",
              "  </tbody>\n",
              "</table>\n",
              "</div>\n",
              "      <button class=\"colab-df-convert\" onclick=\"convertToInteractive('df-4f01e531-b27f-4e0b-af18-183d5fb0faf7')\"\n",
              "              title=\"Convert this dataframe to an interactive table.\"\n",
              "              style=\"display:none;\">\n",
              "        \n",
              "  <svg xmlns=\"http://www.w3.org/2000/svg\" height=\"24px\"viewBox=\"0 0 24 24\"\n",
              "       width=\"24px\">\n",
              "    <path d=\"M0 0h24v24H0V0z\" fill=\"none\"/>\n",
              "    <path d=\"M18.56 5.44l.94 2.06.94-2.06 2.06-.94-2.06-.94-.94-2.06-.94 2.06-2.06.94zm-11 1L8.5 8.5l.94-2.06 2.06-.94-2.06-.94L8.5 2.5l-.94 2.06-2.06.94zm10 10l.94 2.06.94-2.06 2.06-.94-2.06-.94-.94-2.06-.94 2.06-2.06.94z\"/><path d=\"M17.41 7.96l-1.37-1.37c-.4-.4-.92-.59-1.43-.59-.52 0-1.04.2-1.43.59L10.3 9.45l-7.72 7.72c-.78.78-.78 2.05 0 2.83L4 21.41c.39.39.9.59 1.41.59.51 0 1.02-.2 1.41-.59l7.78-7.78 2.81-2.81c.8-.78.8-2.07 0-2.86zM5.41 20L4 18.59l7.72-7.72 1.47 1.35L5.41 20z\"/>\n",
              "  </svg>\n",
              "      </button>\n",
              "      \n",
              "  <style>\n",
              "    .colab-df-container {\n",
              "      display:flex;\n",
              "      flex-wrap:wrap;\n",
              "      gap: 12px;\n",
              "    }\n",
              "\n",
              "    .colab-df-convert {\n",
              "      background-color: #E8F0FE;\n",
              "      border: none;\n",
              "      border-radius: 50%;\n",
              "      cursor: pointer;\n",
              "      display: none;\n",
              "      fill: #1967D2;\n",
              "      height: 32px;\n",
              "      padding: 0 0 0 0;\n",
              "      width: 32px;\n",
              "    }\n",
              "\n",
              "    .colab-df-convert:hover {\n",
              "      background-color: #E2EBFA;\n",
              "      box-shadow: 0px 1px 2px rgba(60, 64, 67, 0.3), 0px 1px 3px 1px rgba(60, 64, 67, 0.15);\n",
              "      fill: #174EA6;\n",
              "    }\n",
              "\n",
              "    [theme=dark] .colab-df-convert {\n",
              "      background-color: #3B4455;\n",
              "      fill: #D2E3FC;\n",
              "    }\n",
              "\n",
              "    [theme=dark] .colab-df-convert:hover {\n",
              "      background-color: #434B5C;\n",
              "      box-shadow: 0px 1px 3px 1px rgba(0, 0, 0, 0.15);\n",
              "      filter: drop-shadow(0px 1px 2px rgba(0, 0, 0, 0.3));\n",
              "      fill: #FFFFFF;\n",
              "    }\n",
              "  </style>\n",
              "\n",
              "      <script>\n",
              "        const buttonEl =\n",
              "          document.querySelector('#df-4f01e531-b27f-4e0b-af18-183d5fb0faf7 button.colab-df-convert');\n",
              "        buttonEl.style.display =\n",
              "          google.colab.kernel.accessAllowed ? 'block' : 'none';\n",
              "\n",
              "        async function convertToInteractive(key) {\n",
              "          const element = document.querySelector('#df-4f01e531-b27f-4e0b-af18-183d5fb0faf7');\n",
              "          const dataTable =\n",
              "            await google.colab.kernel.invokeFunction('convertToInteractive',\n",
              "                                                     [key], {});\n",
              "          if (!dataTable) return;\n",
              "\n",
              "          const docLinkHtml = 'Like what you see? Visit the ' +\n",
              "            '<a target=\"_blank\" href=https://colab.research.google.com/notebooks/data_table.ipynb>data table notebook</a>'\n",
              "            + ' to learn more about interactive tables.';\n",
              "          element.innerHTML = '';\n",
              "          dataTable['output_type'] = 'display_data';\n",
              "          await google.colab.output.renderOutput(dataTable, element);\n",
              "          const docLink = document.createElement('div');\n",
              "          docLink.innerHTML = docLinkHtml;\n",
              "          element.appendChild(docLink);\n",
              "        }\n",
              "      </script>\n",
              "    </div>\n",
              "  </div>\n",
              "  "
            ]
          },
          "metadata": {},
          "execution_count": 78
        }
      ]
    },
    {
      "cell_type": "markdown",
      "source": [
        "### Recommendation Based on ISBN"
      ],
      "metadata": {
        "id": "PiLxfeJYMThn"
      }
    },
    {
      "cell_type": "code",
      "source": [
        "# Define a function to get the top K similar books for each book\n",
        "def get_similar_books(ISBN, cosine_sim, k):\n",
        "\n",
        "    # Get the row index of the book in the cosine similarity matrix\n",
        "    idx = book_merged[book_merged['ISBN'] == ISBN].index[0]\n",
        "\n",
        "    # Get the pairwise cosine similarity scores for the book\n",
        "    sim_scores = list(enumerate(cosine_sim[idx]))\n",
        "\n",
        "    # Sort the books based on the similarity scores\n",
        "    sim_scores = sorted(sim_scores, key=lambda x: x[1], reverse=True)\n",
        "\n",
        "    # Get the book indices of the top K similar books\n",
        "    book_indices = [i[0] for i in sim_scores[1:k+1]]\n",
        "\n",
        "    # Return the top K similar books\n",
        "    return df2[['Book_Title','ISBN']].iloc[book_indices]"
      ],
      "metadata": {
        "id": "oXYY6fAADx0O"
      },
      "execution_count": null,
      "outputs": []
    },
    {
      "cell_type": "code",
      "source": [
        "df_recommend = get_similar_books(\"0743203984\", cosine_sim2,20)\n",
        "df_recommend=df_recommend.drop_duplicates(subset='Book_Title')\n",
        "df_recommend"
      ],
      "metadata": {
        "colab": {
          "base_uri": "https://localhost:8080/",
          "height": 394
        },
        "id": "X5Y88_zxFNJD",
        "outputId": "96f3bc0c-805c-4c92-da34-1323ff68f3a2"
      },
      "execution_count": null,
      "outputs": [
        {
          "output_type": "execute_result",
          "data": {
            "text/plain": [
              "                                              Book_Title        ISBN\n",
              "12698    Flu : The Story Of The Great Influenza Pandemic  0743203984\n",
              "5704                                            Outbreak  042510687X\n",
              "8667                                          Fatherland  0061006629\n",
              "1910         The Illustrated Man (Grand Master Editions)  055327449X\n",
              "10301  Farewell to Manzanar: A True Story of Japanese...  0553272586\n",
              "7820                                     Spandau Phoenix  0451179803\n",
              "6632                          The Years of Rice and Salt  0553580078\n",
              "9406                                 My American Journey  0345407288\n",
              "7154                            The Demon in the Freezer  0345466632\n",
              "7736             The Demon in the Freezer : A True Story  0375508562\n",
              "9291   The Coming Plague: Newly Emerging Diseases in ...  0374126461"
            ],
            "text/html": [
              "\n",
              "  <div id=\"df-dbd3c71b-ffb5-496a-acfe-97b68d2c8b01\">\n",
              "    <div class=\"colab-df-container\">\n",
              "      <div>\n",
              "<style scoped>\n",
              "    .dataframe tbody tr th:only-of-type {\n",
              "        vertical-align: middle;\n",
              "    }\n",
              "\n",
              "    .dataframe tbody tr th {\n",
              "        vertical-align: top;\n",
              "    }\n",
              "\n",
              "    .dataframe thead th {\n",
              "        text-align: right;\n",
              "    }\n",
              "</style>\n",
              "<table border=\"1\" class=\"dataframe\">\n",
              "  <thead>\n",
              "    <tr style=\"text-align: right;\">\n",
              "      <th></th>\n",
              "      <th>Book_Title</th>\n",
              "      <th>ISBN</th>\n",
              "    </tr>\n",
              "  </thead>\n",
              "  <tbody>\n",
              "    <tr>\n",
              "      <th>12698</th>\n",
              "      <td>Flu : The Story Of The Great Influenza Pandemic</td>\n",
              "      <td>0743203984</td>\n",
              "    </tr>\n",
              "    <tr>\n",
              "      <th>5704</th>\n",
              "      <td>Outbreak</td>\n",
              "      <td>042510687X</td>\n",
              "    </tr>\n",
              "    <tr>\n",
              "      <th>8667</th>\n",
              "      <td>Fatherland</td>\n",
              "      <td>0061006629</td>\n",
              "    </tr>\n",
              "    <tr>\n",
              "      <th>1910</th>\n",
              "      <td>The Illustrated Man (Grand Master Editions)</td>\n",
              "      <td>055327449X</td>\n",
              "    </tr>\n",
              "    <tr>\n",
              "      <th>10301</th>\n",
              "      <td>Farewell to Manzanar: A True Story of Japanese...</td>\n",
              "      <td>0553272586</td>\n",
              "    </tr>\n",
              "    <tr>\n",
              "      <th>7820</th>\n",
              "      <td>Spandau Phoenix</td>\n",
              "      <td>0451179803</td>\n",
              "    </tr>\n",
              "    <tr>\n",
              "      <th>6632</th>\n",
              "      <td>The Years of Rice and Salt</td>\n",
              "      <td>0553580078</td>\n",
              "    </tr>\n",
              "    <tr>\n",
              "      <th>9406</th>\n",
              "      <td>My American Journey</td>\n",
              "      <td>0345407288</td>\n",
              "    </tr>\n",
              "    <tr>\n",
              "      <th>7154</th>\n",
              "      <td>The Demon in the Freezer</td>\n",
              "      <td>0345466632</td>\n",
              "    </tr>\n",
              "    <tr>\n",
              "      <th>7736</th>\n",
              "      <td>The Demon in the Freezer : A True Story</td>\n",
              "      <td>0375508562</td>\n",
              "    </tr>\n",
              "    <tr>\n",
              "      <th>9291</th>\n",
              "      <td>The Coming Plague: Newly Emerging Diseases in ...</td>\n",
              "      <td>0374126461</td>\n",
              "    </tr>\n",
              "  </tbody>\n",
              "</table>\n",
              "</div>\n",
              "      <button class=\"colab-df-convert\" onclick=\"convertToInteractive('df-dbd3c71b-ffb5-496a-acfe-97b68d2c8b01')\"\n",
              "              title=\"Convert this dataframe to an interactive table.\"\n",
              "              style=\"display:none;\">\n",
              "        \n",
              "  <svg xmlns=\"http://www.w3.org/2000/svg\" height=\"24px\"viewBox=\"0 0 24 24\"\n",
              "       width=\"24px\">\n",
              "    <path d=\"M0 0h24v24H0V0z\" fill=\"none\"/>\n",
              "    <path d=\"M18.56 5.44l.94 2.06.94-2.06 2.06-.94-2.06-.94-.94-2.06-.94 2.06-2.06.94zm-11 1L8.5 8.5l.94-2.06 2.06-.94-2.06-.94L8.5 2.5l-.94 2.06-2.06.94zm10 10l.94 2.06.94-2.06 2.06-.94-2.06-.94-.94-2.06-.94 2.06-2.06.94z\"/><path d=\"M17.41 7.96l-1.37-1.37c-.4-.4-.92-.59-1.43-.59-.52 0-1.04.2-1.43.59L10.3 9.45l-7.72 7.72c-.78.78-.78 2.05 0 2.83L4 21.41c.39.39.9.59 1.41.59.51 0 1.02-.2 1.41-.59l7.78-7.78 2.81-2.81c.8-.78.8-2.07 0-2.86zM5.41 20L4 18.59l7.72-7.72 1.47 1.35L5.41 20z\"/>\n",
              "  </svg>\n",
              "      </button>\n",
              "      \n",
              "  <style>\n",
              "    .colab-df-container {\n",
              "      display:flex;\n",
              "      flex-wrap:wrap;\n",
              "      gap: 12px;\n",
              "    }\n",
              "\n",
              "    .colab-df-convert {\n",
              "      background-color: #E8F0FE;\n",
              "      border: none;\n",
              "      border-radius: 50%;\n",
              "      cursor: pointer;\n",
              "      display: none;\n",
              "      fill: #1967D2;\n",
              "      height: 32px;\n",
              "      padding: 0 0 0 0;\n",
              "      width: 32px;\n",
              "    }\n",
              "\n",
              "    .colab-df-convert:hover {\n",
              "      background-color: #E2EBFA;\n",
              "      box-shadow: 0px 1px 2px rgba(60, 64, 67, 0.3), 0px 1px 3px 1px rgba(60, 64, 67, 0.15);\n",
              "      fill: #174EA6;\n",
              "    }\n",
              "\n",
              "    [theme=dark] .colab-df-convert {\n",
              "      background-color: #3B4455;\n",
              "      fill: #D2E3FC;\n",
              "    }\n",
              "\n",
              "    [theme=dark] .colab-df-convert:hover {\n",
              "      background-color: #434B5C;\n",
              "      box-shadow: 0px 1px 3px 1px rgba(0, 0, 0, 0.15);\n",
              "      filter: drop-shadow(0px 1px 2px rgba(0, 0, 0, 0.3));\n",
              "      fill: #FFFFFF;\n",
              "    }\n",
              "  </style>\n",
              "\n",
              "      <script>\n",
              "        const buttonEl =\n",
              "          document.querySelector('#df-dbd3c71b-ffb5-496a-acfe-97b68d2c8b01 button.colab-df-convert');\n",
              "        buttonEl.style.display =\n",
              "          google.colab.kernel.accessAllowed ? 'block' : 'none';\n",
              "\n",
              "        async function convertToInteractive(key) {\n",
              "          const element = document.querySelector('#df-dbd3c71b-ffb5-496a-acfe-97b68d2c8b01');\n",
              "          const dataTable =\n",
              "            await google.colab.kernel.invokeFunction('convertToInteractive',\n",
              "                                                     [key], {});\n",
              "          if (!dataTable) return;\n",
              "\n",
              "          const docLinkHtml = 'Like what you see? Visit the ' +\n",
              "            '<a target=\"_blank\" href=https://colab.research.google.com/notebooks/data_table.ipynb>data table notebook</a>'\n",
              "            + ' to learn more about interactive tables.';\n",
              "          element.innerHTML = '';\n",
              "          dataTable['output_type'] = 'display_data';\n",
              "          await google.colab.output.renderOutput(dataTable, element);\n",
              "          const docLink = document.createElement('div');\n",
              "          docLink.innerHTML = docLinkHtml;\n",
              "          element.appendChild(docLink);\n",
              "        }\n",
              "      </script>\n",
              "    </div>\n",
              "  </div>\n",
              "  "
            ]
          },
          "metadata": {},
          "execution_count": 80
        }
      ]
    },
    {
      "cell_type": "markdown",
      "source": [
        "## Coverage Evaluation"
      ],
      "metadata": {
        "id": "KDEBFsGb-TSq"
      }
    },
    {
      "cell_type": "markdown",
      "source": [
        "#### k=10"
      ],
      "metadata": {
        "id": "91QDpLEGW67F"
      }
    },
    {
      "cell_type": "code",
      "source": [
        "# Define recommendation function\n",
        "def get_recommendations(ISBN, cosine_similarities=cosine_sim2, indices=indices):\n",
        "    # Get index of book\n",
        "    idx = indices[ISBN]\n",
        "\n",
        "    # Get pairwise similarity scores\n",
        "    sim_scores = list(enumerate(cosine_sim2[idx]))\n",
        "\n",
        "    # Sort by similarity scores\n",
        "    sim_scores = sorted(sim_scores, key=lambda x: x[1], reverse=True)\n",
        "\n",
        "    # Get top 10 most similar books\n",
        "    sim_scores = sim_scores[1:11]\n",
        "\n",
        "    # Get book indices\n",
        "    book_indices = [i[0] for i in sim_scores]\n",
        "\n",
        "    # Return recommended book ISBNs\n",
        "    return df[['Book_Title','ISBN']].iloc[book_indices]"
      ],
      "metadata": {
        "id": "5r16owWc5ucK"
      },
      "execution_count": null,
      "outputs": []
    },
    {
      "cell_type": "code",
      "source": [
        "# Get all unique book titles in the dataset\n",
        "all_books = set(df['ISBN'])\n",
        "\n",
        "# Define function to get recommended books for all titles\n",
        "def get_all_recommendations(cosine_similarities=cosine_sim2, indices=indices):\n",
        "    all_recommendations = []\n",
        "    for title in all_books:\n",
        "        recommendations = get_recommendations(title, cosine_sim2, indices)\n",
        "        all_recommendations.extend(list(recommendations))\n",
        "    return all_recommendations\n",
        "\n",
        "# Get all recommended books\n",
        "all_recommendations = set(get_all_recommendations())\n",
        "\n",
        "# Calculate coverage\n",
        "coverage = len(all_recommendations) / len(all_books) * 100\n",
        "\n",
        "print(f\"Coverage of content-based system: {coverage:.2f}%\")"
      ],
      "metadata": {
        "colab": {
          "base_uri": "https://localhost:8080/"
        },
        "id": "Y9KYqwUhUqT7",
        "outputId": "07fc57cf-1332-490d-eecb-0d0c239323d2"
      },
      "execution_count": null,
      "outputs": [
        {
          "output_type": "stream",
          "name": "stdout",
          "text": [
            "Coverage of content-based system with only Book data: 88.55%\n"
          ]
        }
      ]
    },
    {
      "cell_type": "code",
      "source": [],
      "metadata": {
        "id": "tYEK0y1OWhhp"
      },
      "execution_count": null,
      "outputs": []
    }
  ]
}