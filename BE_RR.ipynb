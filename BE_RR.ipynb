{
  "nbformat": 4,
  "nbformat_minor": 0,
  "metadata": {
    "colab": {
      "provenance": [],
      "mount_file_id": "1lu0K0lciIUaAgb-798ncXXAiwWl2mivB",
      "authorship_tag": "ABX9TyOoz+bEEjtb4W5/gALQAS3T",
      "include_colab_link": true
    },
    "kernelspec": {
      "name": "python3",
      "display_name": "Python 3"
    },
    "language_info": {
      "name": "python"
    }
  },
  "cells": [
    {
      "cell_type": "markdown",
      "metadata": {
        "id": "view-in-github",
        "colab_type": "text"
      },
      "source": [
        "<a href=\"https://colab.research.google.com/github/Sarvesh1814/US-Book-Recommendation-System-/blob/main/BE_RR.ipynb\" target=\"_parent\"><img src=\"https://colab.research.google.com/assets/colab-badge.svg\" alt=\"Open In Colab\"/></a>"
      ]
    },
    {
      "cell_type": "markdown",
      "source": [
        "# Mathematics Behind the Baseline Estimate Model"
      ],
      "metadata": {
        "id": "eBkmuXCJoQyE"
      }
    },
    {
      "cell_type": "markdown",
      "source": [
        "\n",
        "---\n",
        "* **Baseline Equation**\n",
        "---\n",
        "\\begin{equation}\n",
        "b_{ui} = \\mu + b_u + b_i\n",
        "\\end{equation}\n",
        "---\n",
        "---\n",
        "* **Optimization Problem**\n",
        "---\n",
        "\\begin{equation}\n",
        "\\min_{b_u, b_i} \\sum_{(u,i) \\in R_{train}} (r_{ui} - b_{ui})^2 + \\lambda (||b_u||^2 + ||b_i||^2)\n",
        "\\end{equation}\n",
        "---\n",
        "---\n",
        "* **Gradient Descent**\n",
        "---\n",
        "\\begin{equation}\n",
        "\\frac{\\partial}{\\partial b_u} = -2 \\sum_{i \\in I_u} (r_{ui} - \\mu - b_u - b_i) + 2 \\lambda b_u\n",
        "\\end{equation}\n",
        "\n",
        "\\begin{equation}\n",
        "\\frac{\\partial}{\\partial b_i} = -2 \\sum_{u \\in U_i} (r_{ui} - \\mu - b_u - b_i) + 2 \\lambda b_i\n",
        "\\end{equation}\n",
        "\n",
        "\\begin{equation}\n",
        "b_{u}^{(k+1)} = b_{u}^{(k)} - \\gamma \\cdot \\frac{\\partial}{\\partial b_u} J(b_u^{(k)}, b_i^{(k)})\n",
        "\\end{equation}\n",
        "\n",
        "\\begin{equation}\n",
        "b_{i}^{(k+1)} = b_{i}^{(k)} - \\gamma \\cdot \\frac{\\partial}{\\partial b_i} J(b_u^{(k)}, b_i^{(k)})\n",
        "\\end{equation}\n",
        "\n",
        "\\begin{aligned}\n",
        "b_{u}^{(k+1)} &= b_{u}^{(k)} + \\gamma \\cdot \\left( \\sum_{i \\in I_u} (r_{ui} - \\mu - b_u^{(k)} - b_i^{(k)}) - \\lambda b_u^{(k)} \\right) \\\\\n",
        "b_{i}^{(k+1)} &= b_{i}^{(k)} + \\gamma \\cdot \\left( \\sum_{u \\in U_i} (r_{ui} - \\mu - b_u^{(k)} - b_i^{(k)}) - \\lambda b_i^{(k)} \\right)\n",
        "\\end{aligned}\n",
        "\n",
        "---\n",
        "* **Update Rule**\n",
        "---\n",
        "\\begin{equation}\n",
        "b_{u}^{(k+1)} = b_{u}^{(k)} + \\gamma \\cdot \\left( e_{ui} - \\lambda \\cdot b_{u}^{(k)} \\right)\n",
        "\\end{equation}\n"
      ],
      "metadata": {
        "id": "7rgvEkKuoVYF"
      }
    },
    {
      "cell_type": "markdown",
      "source": [
        "# Importing Libraries"
      ],
      "metadata": {
        "id": "cLY80GIIoLnu"
      }
    },
    {
      "cell_type": "code",
      "execution_count": null,
      "metadata": {
        "colab": {
          "base_uri": "https://localhost:8080/"
        },
        "id": "AQqXVz7EoC5t",
        "outputId": "adff9c2e-9864-4ec6-9ec6-2a8eeb79362c"
      },
      "outputs": [
        {
          "output_type": "stream",
          "name": "stdout",
          "text": [
            "Looking in indexes: https://pypi.org/simple, https://us-python.pkg.dev/colab-wheels/public/simple/\n",
            "Requirement already satisfied: surprise in /usr/local/lib/python3.10/dist-packages (0.1)\n",
            "Requirement already satisfied: scikit-surprise in /usr/local/lib/python3.10/dist-packages (from surprise) (1.1.3)\n",
            "Requirement already satisfied: joblib>=1.0.0 in /usr/local/lib/python3.10/dist-packages (from scikit-surprise->surprise) (1.2.0)\n",
            "Requirement already satisfied: scipy>=1.3.2 in /usr/local/lib/python3.10/dist-packages (from scikit-surprise->surprise) (1.10.1)\n",
            "Requirement already satisfied: numpy>=1.17.3 in /usr/local/lib/python3.10/dist-packages (from scikit-surprise->surprise) (1.22.4)\n"
          ]
        }
      ],
      "source": [
        "!pip install surprise\n",
        "from surprise import Dataset, Reader\n",
        "import numpy as np\n",
        "import pandas as pd\n",
        "from surprise.model_selection import GridSearchCV\n",
        "from surprise import SVD\n",
        "from surprise.model_selection import cross_validate, train_test_split\n",
        "from surprise import accuracy\n",
        "from surprise import dump\n",
        "import pickle\n"
      ]
    },
    {
      "cell_type": "markdown",
      "source": [
        "# Data "
      ],
      "metadata": {
        "id": "fgHIWt6PoZCV"
      }
    },
    {
      "cell_type": "code",
      "source": [
        "Base = \"/content/drive/MyDrive/RS Data/Assignment 3/Processed_data/\"\n",
        "train=pd.read_csv(Base+\"Train_df_final.csv\")\n",
        "test = pd.read_csv(Base+\"Test_df_final.csv\")"
      ],
      "metadata": {
        "id": "SP4O8FN9oNFV"
      },
      "execution_count": null,
      "outputs": []
    },
    {
      "cell_type": "code",
      "source": [
        "# Extracting import columns\n",
        "train = train[[\"User-ID\"\t,\"ISBN\",\t\"Book-Rating\"\t,\"book_name\"]]\n",
        "test = test[[\"User-ID\"\t,\"ISBN\",\t\"Book-Rating\"\t,\"book_name\"]]"
      ],
      "metadata": {
        "id": "X6BqGslHobnn"
      },
      "execution_count": null,
      "outputs": []
    },
    {
      "cell_type": "code",
      "source": [
        "# Creating Surpise Dataset\n",
        "reader = Reader(rating_scale=(1, 10)) # Rating Scale from 1-10\n",
        "data = Dataset.load_from_df(train[['User-ID', 'ISBN', 'Book-Rating']], reader) \n",
        "trainset = data.build_full_trainset()\n"
      ],
      "metadata": {
        "id": "9Fef1LXaocqM"
      },
      "execution_count": null,
      "outputs": []
    },
    {
      "cell_type": "code",
      "source": [
        "users= pd.read_csv(\"/content/drive/MyDrive/RS Data/Assignment 3/Processed_data/users_features.csv\")"
      ],
      "metadata": {
        "id": "ZeuskMTUogOV"
      },
      "execution_count": null,
      "outputs": []
    },
    {
      "cell_type": "code",
      "source": [
        "books=pd.read_csv(\"/content/drive/MyDrive/RS Data/Assignment 3/Processed_data/book_features.csv\")\n",
        "books.head()"
      ],
      "metadata": {
        "colab": {
          "base_uri": "https://localhost:8080/",
          "height": 369
        },
        "id": "925DOJ64ohZe",
        "outputId": "9352ec69-4d09-410f-cbd5-6def6b7844e6"
      },
      "execution_count": null,
      "outputs": [
        {
          "output_type": "execute_result",
          "data": {
            "text/plain": [
              "   Book-Title        ISBN  page_count  categories  Year-Of-Publication  \\\n",
              "0    Footfall  0345323440       706.0         330                 1996   \n",
              "1    Footfall  0345323475       706.0         330                 1985   \n",
              "2  The Reader  0679442790       224.0         330                 1997   \n",
              "3  The Reader  0375707972       224.0         330                 1999   \n",
              "4  The Reader  0679781307       224.0         330                 1998   \n",
              "\n",
              "   feature_1  feature_2  feature_3  feature_4  feature_5  ...  feature_91  \\\n",
              "0  -0.324090   0.178090   0.085679   0.051699  -0.233513  ...    0.382992   \n",
              "1  -0.324090   0.178090   0.085679   0.051699  -0.233513  ...    0.382992   \n",
              "2  -0.265439   0.180581  -0.044998   0.521798   0.064341  ...    0.527207   \n",
              "3  -0.265439   0.180581  -0.044998   0.521798   0.064341  ...    0.527207   \n",
              "4  -0.265439   0.180581  -0.044998   0.521798   0.064341  ...    0.527207   \n",
              "\n",
              "   feature_92  feature_93  feature_94  feature_95  feature_96  feature_97  \\\n",
              "0   -0.090160   -0.040599   -0.159770    0.468369    0.346564    0.053775   \n",
              "1   -0.090160   -0.040599   -0.159770    0.468369    0.346564    0.053775   \n",
              "2   -0.152366   -0.067668    0.264588    0.671669    0.287058    0.089154   \n",
              "3   -0.152366   -0.067668    0.264588    0.671669    0.287058    0.089154   \n",
              "4   -0.152366   -0.067668    0.264588    0.671669    0.287058    0.089154   \n",
              "\n",
              "   feature_98  feature_99  feature_100  \n",
              "0   -0.575963    0.202055     0.013086  \n",
              "1   -0.575963    0.202055     0.013086  \n",
              "2   -0.696850   -0.135784     0.029446  \n",
              "3   -0.696850   -0.135784     0.029446  \n",
              "4   -0.696850   -0.135784     0.029446  \n",
              "\n",
              "[5 rows x 105 columns]"
            ],
            "text/html": [
              "\n",
              "  <div id=\"df-2d7df16b-89eb-472d-88cc-0a202c2b3c70\">\n",
              "    <div class=\"colab-df-container\">\n",
              "      <div>\n",
              "<style scoped>\n",
              "    .dataframe tbody tr th:only-of-type {\n",
              "        vertical-align: middle;\n",
              "    }\n",
              "\n",
              "    .dataframe tbody tr th {\n",
              "        vertical-align: top;\n",
              "    }\n",
              "\n",
              "    .dataframe thead th {\n",
              "        text-align: right;\n",
              "    }\n",
              "</style>\n",
              "<table border=\"1\" class=\"dataframe\">\n",
              "  <thead>\n",
              "    <tr style=\"text-align: right;\">\n",
              "      <th></th>\n",
              "      <th>Book-Title</th>\n",
              "      <th>ISBN</th>\n",
              "      <th>page_count</th>\n",
              "      <th>categories</th>\n",
              "      <th>Year-Of-Publication</th>\n",
              "      <th>feature_1</th>\n",
              "      <th>feature_2</th>\n",
              "      <th>feature_3</th>\n",
              "      <th>feature_4</th>\n",
              "      <th>feature_5</th>\n",
              "      <th>...</th>\n",
              "      <th>feature_91</th>\n",
              "      <th>feature_92</th>\n",
              "      <th>feature_93</th>\n",
              "      <th>feature_94</th>\n",
              "      <th>feature_95</th>\n",
              "      <th>feature_96</th>\n",
              "      <th>feature_97</th>\n",
              "      <th>feature_98</th>\n",
              "      <th>feature_99</th>\n",
              "      <th>feature_100</th>\n",
              "    </tr>\n",
              "  </thead>\n",
              "  <tbody>\n",
              "    <tr>\n",
              "      <th>0</th>\n",
              "      <td>Footfall</td>\n",
              "      <td>0345323440</td>\n",
              "      <td>706.0</td>\n",
              "      <td>330</td>\n",
              "      <td>1996</td>\n",
              "      <td>-0.324090</td>\n",
              "      <td>0.178090</td>\n",
              "      <td>0.085679</td>\n",
              "      <td>0.051699</td>\n",
              "      <td>-0.233513</td>\n",
              "      <td>...</td>\n",
              "      <td>0.382992</td>\n",
              "      <td>-0.090160</td>\n",
              "      <td>-0.040599</td>\n",
              "      <td>-0.159770</td>\n",
              "      <td>0.468369</td>\n",
              "      <td>0.346564</td>\n",
              "      <td>0.053775</td>\n",
              "      <td>-0.575963</td>\n",
              "      <td>0.202055</td>\n",
              "      <td>0.013086</td>\n",
              "    </tr>\n",
              "    <tr>\n",
              "      <th>1</th>\n",
              "      <td>Footfall</td>\n",
              "      <td>0345323475</td>\n",
              "      <td>706.0</td>\n",
              "      <td>330</td>\n",
              "      <td>1985</td>\n",
              "      <td>-0.324090</td>\n",
              "      <td>0.178090</td>\n",
              "      <td>0.085679</td>\n",
              "      <td>0.051699</td>\n",
              "      <td>-0.233513</td>\n",
              "      <td>...</td>\n",
              "      <td>0.382992</td>\n",
              "      <td>-0.090160</td>\n",
              "      <td>-0.040599</td>\n",
              "      <td>-0.159770</td>\n",
              "      <td>0.468369</td>\n",
              "      <td>0.346564</td>\n",
              "      <td>0.053775</td>\n",
              "      <td>-0.575963</td>\n",
              "      <td>0.202055</td>\n",
              "      <td>0.013086</td>\n",
              "    </tr>\n",
              "    <tr>\n",
              "      <th>2</th>\n",
              "      <td>The Reader</td>\n",
              "      <td>0679442790</td>\n",
              "      <td>224.0</td>\n",
              "      <td>330</td>\n",
              "      <td>1997</td>\n",
              "      <td>-0.265439</td>\n",
              "      <td>0.180581</td>\n",
              "      <td>-0.044998</td>\n",
              "      <td>0.521798</td>\n",
              "      <td>0.064341</td>\n",
              "      <td>...</td>\n",
              "      <td>0.527207</td>\n",
              "      <td>-0.152366</td>\n",
              "      <td>-0.067668</td>\n",
              "      <td>0.264588</td>\n",
              "      <td>0.671669</td>\n",
              "      <td>0.287058</td>\n",
              "      <td>0.089154</td>\n",
              "      <td>-0.696850</td>\n",
              "      <td>-0.135784</td>\n",
              "      <td>0.029446</td>\n",
              "    </tr>\n",
              "    <tr>\n",
              "      <th>3</th>\n",
              "      <td>The Reader</td>\n",
              "      <td>0375707972</td>\n",
              "      <td>224.0</td>\n",
              "      <td>330</td>\n",
              "      <td>1999</td>\n",
              "      <td>-0.265439</td>\n",
              "      <td>0.180581</td>\n",
              "      <td>-0.044998</td>\n",
              "      <td>0.521798</td>\n",
              "      <td>0.064341</td>\n",
              "      <td>...</td>\n",
              "      <td>0.527207</td>\n",
              "      <td>-0.152366</td>\n",
              "      <td>-0.067668</td>\n",
              "      <td>0.264588</td>\n",
              "      <td>0.671669</td>\n",
              "      <td>0.287058</td>\n",
              "      <td>0.089154</td>\n",
              "      <td>-0.696850</td>\n",
              "      <td>-0.135784</td>\n",
              "      <td>0.029446</td>\n",
              "    </tr>\n",
              "    <tr>\n",
              "      <th>4</th>\n",
              "      <td>The Reader</td>\n",
              "      <td>0679781307</td>\n",
              "      <td>224.0</td>\n",
              "      <td>330</td>\n",
              "      <td>1998</td>\n",
              "      <td>-0.265439</td>\n",
              "      <td>0.180581</td>\n",
              "      <td>-0.044998</td>\n",
              "      <td>0.521798</td>\n",
              "      <td>0.064341</td>\n",
              "      <td>...</td>\n",
              "      <td>0.527207</td>\n",
              "      <td>-0.152366</td>\n",
              "      <td>-0.067668</td>\n",
              "      <td>0.264588</td>\n",
              "      <td>0.671669</td>\n",
              "      <td>0.287058</td>\n",
              "      <td>0.089154</td>\n",
              "      <td>-0.696850</td>\n",
              "      <td>-0.135784</td>\n",
              "      <td>0.029446</td>\n",
              "    </tr>\n",
              "  </tbody>\n",
              "</table>\n",
              "<p>5 rows × 105 columns</p>\n",
              "</div>\n",
              "      <button class=\"colab-df-convert\" onclick=\"convertToInteractive('df-2d7df16b-89eb-472d-88cc-0a202c2b3c70')\"\n",
              "              title=\"Convert this dataframe to an interactive table.\"\n",
              "              style=\"display:none;\">\n",
              "        \n",
              "  <svg xmlns=\"http://www.w3.org/2000/svg\" height=\"24px\"viewBox=\"0 0 24 24\"\n",
              "       width=\"24px\">\n",
              "    <path d=\"M0 0h24v24H0V0z\" fill=\"none\"/>\n",
              "    <path d=\"M18.56 5.44l.94 2.06.94-2.06 2.06-.94-2.06-.94-.94-2.06-.94 2.06-2.06.94zm-11 1L8.5 8.5l.94-2.06 2.06-.94-2.06-.94L8.5 2.5l-.94 2.06-2.06.94zm10 10l.94 2.06.94-2.06 2.06-.94-2.06-.94-.94-2.06-.94 2.06-2.06.94z\"/><path d=\"M17.41 7.96l-1.37-1.37c-.4-.4-.92-.59-1.43-.59-.52 0-1.04.2-1.43.59L10.3 9.45l-7.72 7.72c-.78.78-.78 2.05 0 2.83L4 21.41c.39.39.9.59 1.41.59.51 0 1.02-.2 1.41-.59l7.78-7.78 2.81-2.81c.8-.78.8-2.07 0-2.86zM5.41 20L4 18.59l7.72-7.72 1.47 1.35L5.41 20z\"/>\n",
              "  </svg>\n",
              "      </button>\n",
              "      \n",
              "  <style>\n",
              "    .colab-df-container {\n",
              "      display:flex;\n",
              "      flex-wrap:wrap;\n",
              "      gap: 12px;\n",
              "    }\n",
              "\n",
              "    .colab-df-convert {\n",
              "      background-color: #E8F0FE;\n",
              "      border: none;\n",
              "      border-radius: 50%;\n",
              "      cursor: pointer;\n",
              "      display: none;\n",
              "      fill: #1967D2;\n",
              "      height: 32px;\n",
              "      padding: 0 0 0 0;\n",
              "      width: 32px;\n",
              "    }\n",
              "\n",
              "    .colab-df-convert:hover {\n",
              "      background-color: #E2EBFA;\n",
              "      box-shadow: 0px 1px 2px rgba(60, 64, 67, 0.3), 0px 1px 3px 1px rgba(60, 64, 67, 0.15);\n",
              "      fill: #174EA6;\n",
              "    }\n",
              "\n",
              "    [theme=dark] .colab-df-convert {\n",
              "      background-color: #3B4455;\n",
              "      fill: #D2E3FC;\n",
              "    }\n",
              "\n",
              "    [theme=dark] .colab-df-convert:hover {\n",
              "      background-color: #434B5C;\n",
              "      box-shadow: 0px 1px 3px 1px rgba(0, 0, 0, 0.15);\n",
              "      filter: drop-shadow(0px 1px 2px rgba(0, 0, 0, 0.3));\n",
              "      fill: #FFFFFF;\n",
              "    }\n",
              "  </style>\n",
              "\n",
              "      <script>\n",
              "        const buttonEl =\n",
              "          document.querySelector('#df-2d7df16b-89eb-472d-88cc-0a202c2b3c70 button.colab-df-convert');\n",
              "        buttonEl.style.display =\n",
              "          google.colab.kernel.accessAllowed ? 'block' : 'none';\n",
              "\n",
              "        async function convertToInteractive(key) {\n",
              "          const element = document.querySelector('#df-2d7df16b-89eb-472d-88cc-0a202c2b3c70');\n",
              "          const dataTable =\n",
              "            await google.colab.kernel.invokeFunction('convertToInteractive',\n",
              "                                                     [key], {});\n",
              "          if (!dataTable) return;\n",
              "\n",
              "          const docLinkHtml = 'Like what you see? Visit the ' +\n",
              "            '<a target=\"_blank\" href=https://colab.research.google.com/notebooks/data_table.ipynb>data table notebook</a>'\n",
              "            + ' to learn more about interactive tables.';\n",
              "          element.innerHTML = '';\n",
              "          dataTable['output_type'] = 'display_data';\n",
              "          await google.colab.output.renderOutput(dataTable, element);\n",
              "          const docLink = document.createElement('div');\n",
              "          docLink.innerHTML = docLinkHtml;\n",
              "          element.appendChild(docLink);\n",
              "        }\n",
              "      </script>\n",
              "    </div>\n",
              "  </div>\n",
              "  "
            ]
          },
          "metadata": {},
          "execution_count": 6
        }
      ]
    },
    {
      "cell_type": "markdown",
      "source": [
        "# Loading Models"
      ],
      "metadata": {
        "id": "nEASCE13oma_"
      }
    },
    {
      "cell_type": "markdown",
      "source": [
        "## Recommendation Algorithm"
      ],
      "metadata": {
        "id": "muw8hBxDoqRf"
      }
    },
    {
      "cell_type": "code",
      "source": [
        "algo = dump.load('/content/drive/MyDrive/RS Data/Assignment 3/Processed_data/baseline_model.pkl')[1]"
      ],
      "metadata": {
        "id": "Q_ZYFZoFok5U"
      },
      "execution_count": null,
      "outputs": []
    },
    {
      "cell_type": "markdown",
      "source": [
        "## Reranking Algorithm"
      ],
      "metadata": {
        "id": "Dr8XYPqvo9QI"
      }
    },
    {
      "cell_type": "code",
      "source": [
        "with open('/content/drive/MyDrive/RS Data/Assignment 3/Processed_data/XGB_Ranker.pkl', 'rb') as file:\n",
        "    model = pickle.load(file)\n",
        "\n"
      ],
      "metadata": {
        "id": "PpQcAgyjo8QF"
      },
      "execution_count": null,
      "outputs": []
    },
    {
      "cell_type": "markdown",
      "source": [
        "# Recommendation system with Reranking (BE + XGB Ranker)"
      ],
      "metadata": {
        "id": "0Yc4cQKMpB7f"
      }
    },
    {
      "cell_type": "code",
      "source": [
        "def BaseLine():\n",
        "\n",
        "  k = int(input(\"Value of K for top-K Recommendations: \"))\n",
        "  user_id = int(input(\"Enter User-ID: \"))  \n",
        "  \n",
        "  # Mapping user id to surprise's uid\n",
        "  uid = trainset.to_inner_uid(user_id)\n",
        "  all_items = trainset.all_items()\n",
        "  x = trainset.ur[int(uid)]\n",
        "  a = [x[i][0] for i in range(len(x))]\n",
        "\n",
        "  # Finding unrated Items for user\n",
        "  not_rated_items = [item for item in all_items if item not in a]\n",
        "  \n",
        "  # saving predictions for unrated items\n",
        "  predictions = []\n",
        "  for iid in not_rated_items:\n",
        "      pred = algo.predict(uid, trainset.to_raw_iid(iid))\n",
        "      predictions.append((iid, pred.est))\n",
        "  \n",
        "  # sorting top 1000 items based on predicted ratings of unkown items for the user\n",
        "  predictions_sorted = sorted(predictions, key=lambda x: x[1], reverse=True)[:100]\n",
        "\n",
        "  # converting it into dataframe for further processing of reranking of the candidates\n",
        "  lst =()\n",
        "  for item, rating in predictions_sorted:\n",
        "      lst+= ((trainset.to_raw_iid(item),rating),)\n",
        "  dx = pd.DataFrame(lst,columns=[\"ISBN\",\"Predicted Rating\"])\n",
        "  \n",
        "  # Fetching features of the user \n",
        "  uf =users.loc[users['User-ID'] ==user_id ].drop(columns=['User-ID'])\n",
        "  \n",
        "  # Fetching features of the top items to make a combined user-item feature vector \n",
        "  temp = dx.merge(books,on=\"ISBN\",how=\"inner\").drop(columns=['page_count',\"Predicted Rating\",\"Book-Title\"])\n",
        "  temp[\"Age\"] = users[\"Age\"].iloc[0]\n",
        "  temp[\"State\"] =users[\"State\"].iloc[0]\n",
        "  \n",
        "  # Providing features to reranker\n",
        "  X_test = temp.iloc[:,1:]\n",
        "  \n",
        "  #predicting the rank of the items \n",
        "  y_pred = model.predict(X_test)\n",
        "  temp['predicted_score'] = y_pred\n",
        "  \n",
        "  # Reranking the items\n",
        "  temp = temp.sort_values(by='predicted_score', ascending=False)\n",
        "  temp = temp[[\"ISBN\"]].merge(books[[\"Book-Title\",\"ISBN\"]],on = 'ISBN',how = 'inner')\n",
        "  \n",
        "  print(\"\\n\")\n",
        "  print(f\"Top {k} Book recommendations for User {user_id} are: \")\n",
        "  display(temp.head(k))\n",
        "  data_dict = temp.iloc[0:k].to_dict(orient='records')\n",
        "  return "
      ],
      "metadata": {
        "id": "dycsm-ZGpBX1"
      },
      "execution_count": null,
      "outputs": []
    },
    {
      "cell_type": "code",
      "source": [
        "BaseLine()"
      ],
      "metadata": {
        "colab": {
          "base_uri": "https://localhost:8080/",
          "height": 297
        },
        "id": "voC6VQ5TpRm1",
        "outputId": "2c91a8b2-8cb7-4fd9-adeb-a7a74ff6b19c"
      },
      "execution_count": null,
      "outputs": [
        {
          "output_type": "stream",
          "name": "stdout",
          "text": [
            "Value of K for top-K Recommendations: 5\n",
            "Enter User-ID: 151824\n",
            "\n",
            "\n",
            "Top 5 Book recommendations for User 151824 are: \n"
          ]
        },
        {
          "output_type": "display_data",
          "data": {
            "text/plain": [
              "         ISBN                                    Book-Title\n",
              "0  0439139600  Harry Potter and the Goblet of Fire (Book 4)\n",
              "1  0439139597  Harry Potter and the Goblet of Fire (Book 4)\n",
              "2  0394800184                            Are You My Mother?\n",
              "3  0441172717                   Dune (Remembering Tomorrow)\n",
              "4  0060256656                               The Giving Tree"
            ],
            "text/html": [
              "\n",
              "  <div id=\"df-844f848b-735f-4f26-8585-8ee28228f14d\">\n",
              "    <div class=\"colab-df-container\">\n",
              "      <div>\n",
              "<style scoped>\n",
              "    .dataframe tbody tr th:only-of-type {\n",
              "        vertical-align: middle;\n",
              "    }\n",
              "\n",
              "    .dataframe tbody tr th {\n",
              "        vertical-align: top;\n",
              "    }\n",
              "\n",
              "    .dataframe thead th {\n",
              "        text-align: right;\n",
              "    }\n",
              "</style>\n",
              "<table border=\"1\" class=\"dataframe\">\n",
              "  <thead>\n",
              "    <tr style=\"text-align: right;\">\n",
              "      <th></th>\n",
              "      <th>ISBN</th>\n",
              "      <th>Book-Title</th>\n",
              "    </tr>\n",
              "  </thead>\n",
              "  <tbody>\n",
              "    <tr>\n",
              "      <th>0</th>\n",
              "      <td>0439139600</td>\n",
              "      <td>Harry Potter and the Goblet of Fire (Book 4)</td>\n",
              "    </tr>\n",
              "    <tr>\n",
              "      <th>1</th>\n",
              "      <td>0439139597</td>\n",
              "      <td>Harry Potter and the Goblet of Fire (Book 4)</td>\n",
              "    </tr>\n",
              "    <tr>\n",
              "      <th>2</th>\n",
              "      <td>0394800184</td>\n",
              "      <td>Are You My Mother?</td>\n",
              "    </tr>\n",
              "    <tr>\n",
              "      <th>3</th>\n",
              "      <td>0441172717</td>\n",
              "      <td>Dune (Remembering Tomorrow)</td>\n",
              "    </tr>\n",
              "    <tr>\n",
              "      <th>4</th>\n",
              "      <td>0060256656</td>\n",
              "      <td>The Giving Tree</td>\n",
              "    </tr>\n",
              "  </tbody>\n",
              "</table>\n",
              "</div>\n",
              "      <button class=\"colab-df-convert\" onclick=\"convertToInteractive('df-844f848b-735f-4f26-8585-8ee28228f14d')\"\n",
              "              title=\"Convert this dataframe to an interactive table.\"\n",
              "              style=\"display:none;\">\n",
              "        \n",
              "  <svg xmlns=\"http://www.w3.org/2000/svg\" height=\"24px\"viewBox=\"0 0 24 24\"\n",
              "       width=\"24px\">\n",
              "    <path d=\"M0 0h24v24H0V0z\" fill=\"none\"/>\n",
              "    <path d=\"M18.56 5.44l.94 2.06.94-2.06 2.06-.94-2.06-.94-.94-2.06-.94 2.06-2.06.94zm-11 1L8.5 8.5l.94-2.06 2.06-.94-2.06-.94L8.5 2.5l-.94 2.06-2.06.94zm10 10l.94 2.06.94-2.06 2.06-.94-2.06-.94-.94-2.06-.94 2.06-2.06.94z\"/><path d=\"M17.41 7.96l-1.37-1.37c-.4-.4-.92-.59-1.43-.59-.52 0-1.04.2-1.43.59L10.3 9.45l-7.72 7.72c-.78.78-.78 2.05 0 2.83L4 21.41c.39.39.9.59 1.41.59.51 0 1.02-.2 1.41-.59l7.78-7.78 2.81-2.81c.8-.78.8-2.07 0-2.86zM5.41 20L4 18.59l7.72-7.72 1.47 1.35L5.41 20z\"/>\n",
              "  </svg>\n",
              "      </button>\n",
              "      \n",
              "  <style>\n",
              "    .colab-df-container {\n",
              "      display:flex;\n",
              "      flex-wrap:wrap;\n",
              "      gap: 12px;\n",
              "    }\n",
              "\n",
              "    .colab-df-convert {\n",
              "      background-color: #E8F0FE;\n",
              "      border: none;\n",
              "      border-radius: 50%;\n",
              "      cursor: pointer;\n",
              "      display: none;\n",
              "      fill: #1967D2;\n",
              "      height: 32px;\n",
              "      padding: 0 0 0 0;\n",
              "      width: 32px;\n",
              "    }\n",
              "\n",
              "    .colab-df-convert:hover {\n",
              "      background-color: #E2EBFA;\n",
              "      box-shadow: 0px 1px 2px rgba(60, 64, 67, 0.3), 0px 1px 3px 1px rgba(60, 64, 67, 0.15);\n",
              "      fill: #174EA6;\n",
              "    }\n",
              "\n",
              "    [theme=dark] .colab-df-convert {\n",
              "      background-color: #3B4455;\n",
              "      fill: #D2E3FC;\n",
              "    }\n",
              "\n",
              "    [theme=dark] .colab-df-convert:hover {\n",
              "      background-color: #434B5C;\n",
              "      box-shadow: 0px 1px 3px 1px rgba(0, 0, 0, 0.15);\n",
              "      filter: drop-shadow(0px 1px 2px rgba(0, 0, 0, 0.3));\n",
              "      fill: #FFFFFF;\n",
              "    }\n",
              "  </style>\n",
              "\n",
              "      <script>\n",
              "        const buttonEl =\n",
              "          document.querySelector('#df-844f848b-735f-4f26-8585-8ee28228f14d button.colab-df-convert');\n",
              "        buttonEl.style.display =\n",
              "          google.colab.kernel.accessAllowed ? 'block' : 'none';\n",
              "\n",
              "        async function convertToInteractive(key) {\n",
              "          const element = document.querySelector('#df-844f848b-735f-4f26-8585-8ee28228f14d');\n",
              "          const dataTable =\n",
              "            await google.colab.kernel.invokeFunction('convertToInteractive',\n",
              "                                                     [key], {});\n",
              "          if (!dataTable) return;\n",
              "\n",
              "          const docLinkHtml = 'Like what you see? Visit the ' +\n",
              "            '<a target=\"_blank\" href=https://colab.research.google.com/notebooks/data_table.ipynb>data table notebook</a>'\n",
              "            + ' to learn more about interactive tables.';\n",
              "          element.innerHTML = '';\n",
              "          dataTable['output_type'] = 'display_data';\n",
              "          await google.colab.output.renderOutput(dataTable, element);\n",
              "          const docLink = document.createElement('div');\n",
              "          docLink.innerHTML = docLinkHtml;\n",
              "          element.appendChild(docLink);\n",
              "        }\n",
              "      </script>\n",
              "    </div>\n",
              "  </div>\n",
              "  "
            ]
          },
          "metadata": {}
        }
      ]
    },
    {
      "cell_type": "markdown",
      "source": [
        "# Coverage"
      ],
      "metadata": {
        "id": "w-Em4u3Xa8PO"
      }
    },
    {
      "cell_type": "code",
      "source": [
        "def BaseTest(user_id, trainset, algo, model, books, users,k):\n",
        "  \n",
        "  # Mapping user id to surprise's uid\n",
        "  uid = trainset.to_inner_uid(user_id)\n",
        "  all_items = trainset.all_items()\n",
        "  x = trainset.ur[int(uid)]\n",
        "  a = [x[i][0] for i in range(len(x))]\n",
        "\n",
        "  # Finding unrated Items for user\n",
        "  not_rated_items = [item for item in all_items if item not in a]\n",
        "  \n",
        "  # saving predictions for unrated items\n",
        "  predictions = []\n",
        "  for iid in not_rated_items:\n",
        "      pred = algo.predict(uid, trainset.to_raw_iid(iid))\n",
        "      predictions.append((iid, pred.est))\n",
        "  \n",
        "  # sorting top 1000 items based on predicted ratings of unkown items for the user\n",
        "  predictions_sorted = sorted(predictions, key=lambda x: x[1], reverse=True)[:1000]\n",
        "\n",
        "  # converting it into dataframe for further processing of reranking of the candidates\n",
        "  lst =()\n",
        "  for item, rating in predictions_sorted:\n",
        "      lst+= ((trainset.to_raw_iid(item),rating),)\n",
        "  dx = pd.DataFrame(lst,columns=[\"ISBN\",\"Predicted Rating\"])\n",
        "  \n",
        "  # Fetching features of the user \n",
        "  uf =users.loc[users['User-ID'] ==user_id ].drop(columns=['User-ID'])\n",
        "  \n",
        "  # Fetching features of the top items to make a combined user-item feature vector \n",
        "  temp = dx.merge(books,on=\"ISBN\",how=\"inner\").drop(columns=['page_count',\"Predicted Rating\",\"Book-Title\"])\n",
        "  temp[\"Age\"] = users[\"Age\"].iloc[0]\n",
        "  temp[\"State\"] =users[\"State\"].iloc[0]\n",
        "  \n",
        "  # Providing features to reranker\n",
        "  X_test = temp.iloc[:,1:]\n",
        "  \n",
        "  #predicting the rank of the items \n",
        "  y_pred = model.predict(X_test)\n",
        "  temp['predicted_score'] = y_pred\n",
        "  \n",
        "  # Reranking the items\n",
        "  temp = temp.sort_values(by='predicted_score', ascending=False)\n",
        "  temp = temp[[\"ISBN\"]].merge(books[[\"Book-Title\",\"ISBN\"]],on = 'ISBN',how = 'inner')\n",
        "  \n",
        "  data_dict = temp.iloc[0:k].to_dict(orient='records')\n",
        "  return [x['ISBN'] for x in data_dict]\n"
      ],
      "metadata": {
        "id": "zJHq7AHQa9Ga"
      },
      "execution_count": null,
      "outputs": []
    },
    {
      "cell_type": "code",
      "source": [
        "true = test[test['Book-Rating'] == 10]\n",
        "true = true[true['User-ID'].isin(list(train[\"User-ID\"]))]\n",
        "true   "
      ],
      "metadata": {
        "colab": {
          "base_uri": "https://localhost:8080/",
          "height": 423
        },
        "id": "qQvp0_k8eVjH",
        "outputId": "f824b852-1e88-42b3-af83-9335fc8ea1a6"
      },
      "execution_count": null,
      "outputs": [
        {
          "output_type": "execute_result",
          "data": {
            "text/plain": [
              "       User-ID        ISBN  Book-Rating  \\\n",
              "9        31315  051513452X           10   \n",
              "15       16634  0452261341           10   \n",
              "18       46003  1583224890           10   \n",
              "29       83287  0553563521           10   \n",
              "30       51883  0425077047           10   \n",
              "...        ...         ...          ...   \n",
              "23403   116122  0345434684           10   \n",
              "23409   198781  0060961325           10   \n",
              "23410   219259  0767915054           10   \n",
              "23416   145449  0316107255           10   \n",
              "23425   153927  0842329293           10   \n",
              "\n",
              "                                               book_name  \n",
              "9      The Lunatic Cafe (Anita Blake Vampire Hunter (...  \n",
              "15                 Gunslinger Tower 1 (Dark Tower, No 1)  \n",
              "18                                                  9-11  \n",
              "29      Devil's Waltz (Alex Delaware Novels (Paperback))  \n",
              "30                                And Ladies of the Club  \n",
              "...                                                  ...  \n",
              "23403                                  The Skies Of Pern  \n",
              "23409  The Celluloid Closet: Homosexuality in the Movies  \n",
              "23410  A Girl Named Zippy: Growing Up Small in Moorel...  \n",
              "23416  Penguin Dreams and Stranger Things (A Bloom Co...  \n",
              "23425  The Indwelling: The Beast Takes Possession (Le...  \n",
              "\n",
              "[3875 rows x 4 columns]"
            ],
            "text/html": [
              "\n",
              "  <div id=\"df-729c3fe5-9904-412c-accd-2a780439a4ab\">\n",
              "    <div class=\"colab-df-container\">\n",
              "      <div>\n",
              "<style scoped>\n",
              "    .dataframe tbody tr th:only-of-type {\n",
              "        vertical-align: middle;\n",
              "    }\n",
              "\n",
              "    .dataframe tbody tr th {\n",
              "        vertical-align: top;\n",
              "    }\n",
              "\n",
              "    .dataframe thead th {\n",
              "        text-align: right;\n",
              "    }\n",
              "</style>\n",
              "<table border=\"1\" class=\"dataframe\">\n",
              "  <thead>\n",
              "    <tr style=\"text-align: right;\">\n",
              "      <th></th>\n",
              "      <th>User-ID</th>\n",
              "      <th>ISBN</th>\n",
              "      <th>Book-Rating</th>\n",
              "      <th>book_name</th>\n",
              "    </tr>\n",
              "  </thead>\n",
              "  <tbody>\n",
              "    <tr>\n",
              "      <th>9</th>\n",
              "      <td>31315</td>\n",
              "      <td>051513452X</td>\n",
              "      <td>10</td>\n",
              "      <td>The Lunatic Cafe (Anita Blake Vampire Hunter (...</td>\n",
              "    </tr>\n",
              "    <tr>\n",
              "      <th>15</th>\n",
              "      <td>16634</td>\n",
              "      <td>0452261341</td>\n",
              "      <td>10</td>\n",
              "      <td>Gunslinger Tower 1 (Dark Tower, No 1)</td>\n",
              "    </tr>\n",
              "    <tr>\n",
              "      <th>18</th>\n",
              "      <td>46003</td>\n",
              "      <td>1583224890</td>\n",
              "      <td>10</td>\n",
              "      <td>9-11</td>\n",
              "    </tr>\n",
              "    <tr>\n",
              "      <th>29</th>\n",
              "      <td>83287</td>\n",
              "      <td>0553563521</td>\n",
              "      <td>10</td>\n",
              "      <td>Devil's Waltz (Alex Delaware Novels (Paperback))</td>\n",
              "    </tr>\n",
              "    <tr>\n",
              "      <th>30</th>\n",
              "      <td>51883</td>\n",
              "      <td>0425077047</td>\n",
              "      <td>10</td>\n",
              "      <td>And Ladies of the Club</td>\n",
              "    </tr>\n",
              "    <tr>\n",
              "      <th>...</th>\n",
              "      <td>...</td>\n",
              "      <td>...</td>\n",
              "      <td>...</td>\n",
              "      <td>...</td>\n",
              "    </tr>\n",
              "    <tr>\n",
              "      <th>23403</th>\n",
              "      <td>116122</td>\n",
              "      <td>0345434684</td>\n",
              "      <td>10</td>\n",
              "      <td>The Skies Of Pern</td>\n",
              "    </tr>\n",
              "    <tr>\n",
              "      <th>23409</th>\n",
              "      <td>198781</td>\n",
              "      <td>0060961325</td>\n",
              "      <td>10</td>\n",
              "      <td>The Celluloid Closet: Homosexuality in the Movies</td>\n",
              "    </tr>\n",
              "    <tr>\n",
              "      <th>23410</th>\n",
              "      <td>219259</td>\n",
              "      <td>0767915054</td>\n",
              "      <td>10</td>\n",
              "      <td>A Girl Named Zippy: Growing Up Small in Moorel...</td>\n",
              "    </tr>\n",
              "    <tr>\n",
              "      <th>23416</th>\n",
              "      <td>145449</td>\n",
              "      <td>0316107255</td>\n",
              "      <td>10</td>\n",
              "      <td>Penguin Dreams and Stranger Things (A Bloom Co...</td>\n",
              "    </tr>\n",
              "    <tr>\n",
              "      <th>23425</th>\n",
              "      <td>153927</td>\n",
              "      <td>0842329293</td>\n",
              "      <td>10</td>\n",
              "      <td>The Indwelling: The Beast Takes Possession (Le...</td>\n",
              "    </tr>\n",
              "  </tbody>\n",
              "</table>\n",
              "<p>3875 rows × 4 columns</p>\n",
              "</div>\n",
              "      <button class=\"colab-df-convert\" onclick=\"convertToInteractive('df-729c3fe5-9904-412c-accd-2a780439a4ab')\"\n",
              "              title=\"Convert this dataframe to an interactive table.\"\n",
              "              style=\"display:none;\">\n",
              "        \n",
              "  <svg xmlns=\"http://www.w3.org/2000/svg\" height=\"24px\"viewBox=\"0 0 24 24\"\n",
              "       width=\"24px\">\n",
              "    <path d=\"M0 0h24v24H0V0z\" fill=\"none\"/>\n",
              "    <path d=\"M18.56 5.44l.94 2.06.94-2.06 2.06-.94-2.06-.94-.94-2.06-.94 2.06-2.06.94zm-11 1L8.5 8.5l.94-2.06 2.06-.94-2.06-.94L8.5 2.5l-.94 2.06-2.06.94zm10 10l.94 2.06.94-2.06 2.06-.94-2.06-.94-.94-2.06-.94 2.06-2.06.94z\"/><path d=\"M17.41 7.96l-1.37-1.37c-.4-.4-.92-.59-1.43-.59-.52 0-1.04.2-1.43.59L10.3 9.45l-7.72 7.72c-.78.78-.78 2.05 0 2.83L4 21.41c.39.39.9.59 1.41.59.51 0 1.02-.2 1.41-.59l7.78-7.78 2.81-2.81c.8-.78.8-2.07 0-2.86zM5.41 20L4 18.59l7.72-7.72 1.47 1.35L5.41 20z\"/>\n",
              "  </svg>\n",
              "      </button>\n",
              "      \n",
              "  <style>\n",
              "    .colab-df-container {\n",
              "      display:flex;\n",
              "      flex-wrap:wrap;\n",
              "      gap: 12px;\n",
              "    }\n",
              "\n",
              "    .colab-df-convert {\n",
              "      background-color: #E8F0FE;\n",
              "      border: none;\n",
              "      border-radius: 50%;\n",
              "      cursor: pointer;\n",
              "      display: none;\n",
              "      fill: #1967D2;\n",
              "      height: 32px;\n",
              "      padding: 0 0 0 0;\n",
              "      width: 32px;\n",
              "    }\n",
              "\n",
              "    .colab-df-convert:hover {\n",
              "      background-color: #E2EBFA;\n",
              "      box-shadow: 0px 1px 2px rgba(60, 64, 67, 0.3), 0px 1px 3px 1px rgba(60, 64, 67, 0.15);\n",
              "      fill: #174EA6;\n",
              "    }\n",
              "\n",
              "    [theme=dark] .colab-df-convert {\n",
              "      background-color: #3B4455;\n",
              "      fill: #D2E3FC;\n",
              "    }\n",
              "\n",
              "    [theme=dark] .colab-df-convert:hover {\n",
              "      background-color: #434B5C;\n",
              "      box-shadow: 0px 1px 3px 1px rgba(0, 0, 0, 0.15);\n",
              "      filter: drop-shadow(0px 1px 2px rgba(0, 0, 0, 0.3));\n",
              "      fill: #FFFFFF;\n",
              "    }\n",
              "  </style>\n",
              "\n",
              "      <script>\n",
              "        const buttonEl =\n",
              "          document.querySelector('#df-729c3fe5-9904-412c-accd-2a780439a4ab button.colab-df-convert');\n",
              "        buttonEl.style.display =\n",
              "          google.colab.kernel.accessAllowed ? 'block' : 'none';\n",
              "\n",
              "        async function convertToInteractive(key) {\n",
              "          const element = document.querySelector('#df-729c3fe5-9904-412c-accd-2a780439a4ab');\n",
              "          const dataTable =\n",
              "            await google.colab.kernel.invokeFunction('convertToInteractive',\n",
              "                                                     [key], {});\n",
              "          if (!dataTable) return;\n",
              "\n",
              "          const docLinkHtml = 'Like what you see? Visit the ' +\n",
              "            '<a target=\"_blank\" href=https://colab.research.google.com/notebooks/data_table.ipynb>data table notebook</a>'\n",
              "            + ' to learn more about interactive tables.';\n",
              "          element.innerHTML = '';\n",
              "          dataTable['output_type'] = 'display_data';\n",
              "          await google.colab.output.renderOutput(dataTable, element);\n",
              "          const docLink = document.createElement('div');\n",
              "          docLink.innerHTML = docLinkHtml;\n",
              "          element.appendChild(docLink);\n",
              "        }\n",
              "      </script>\n",
              "    </div>\n",
              "  </div>\n",
              "  "
            ]
          },
          "metadata": {},
          "execution_count": 13
        }
      ]
    },
    {
      "cell_type": "markdown",
      "source": [
        "### Coverage @ 5"
      ],
      "metadata": {
        "id": "PV0sDVRGiaFc"
      }
    },
    {
      "cell_type": "code",
      "source": [
        "all_recommendations = []\n",
        "for user_id in true[\"User-ID\"]:\n",
        "    recommendations = BaseTest(user_id, trainset, algo, model, books, users,5)\n",
        "    all_recommendations.extend(recommendations)\n",
        "intersection = list(set(all_recommendations).intersection(set(books[\"ISBN\"])))\n",
        "coverage = len(intersection)/len(set(books[\"ISBN\"]))\n",
        "coverage"
      ],
      "metadata": {
        "colab": {
          "base_uri": "https://localhost:8080/"
        },
        "id": "ajD8f6BVbAuk",
        "outputId": "1c4fd9cf-e978-42a4-c230-b33f9c5671ae"
      },
      "execution_count": null,
      "outputs": [
        {
          "output_type": "execute_result",
          "data": {
            "text/plain": [
              "0.0006262721152340692"
            ]
          },
          "metadata": {},
          "execution_count": 14
        }
      ]
    },
    {
      "cell_type": "markdown",
      "source": [
        "### Coverage @ 10 "
      ],
      "metadata": {
        "id": "JLY5LXRaicgU"
      }
    },
    {
      "cell_type": "code",
      "source": [
        "all_recommendations = []\n",
        "for user_id in true[\"User-ID\"]:\n",
        "    recommendations = BaseTest(user_id, trainset, algo, model, books, users,10)\n",
        "    all_recommendations.extend(recommendations)\n",
        "intersection = list(set(all_recommendations).intersection(set(books[\"ISBN\"])))\n",
        "coverage = len(intersection)/len(set(books[\"ISBN\"]))\n",
        "coverage"
      ],
      "metadata": {
        "colab": {
          "base_uri": "https://localhost:8080/"
        },
        "id": "LMkptWE1en5B",
        "outputId": "763f3434-3818-4608-aafa-b30c92ada678"
      },
      "execution_count": null,
      "outputs": [
        {
          "output_type": "execute_result",
          "data": {
            "text/plain": [
              "0.0011742602160638798"
            ]
          },
          "metadata": {},
          "execution_count": 15
        }
      ]
    },
    {
      "cell_type": "markdown",
      "source": [
        "### Coverage @100"
      ],
      "metadata": {
        "id": "Gp96Wy8aig8o"
      }
    },
    {
      "cell_type": "code",
      "source": [
        "all_recommendations = []\n",
        "for user_id in true[\"User-ID\"]:\n",
        "    recommendations = BaseTest(user_id, trainset, algo, model, books, users,100)\n",
        "    all_recommendations.extend(recommendations)\n",
        "intersection = list(set(all_recommendations).intersection(set(books[\"ISBN\"])))\n",
        "coverage = len(intersection)/len(set(books[\"ISBN\"]))\n",
        "coverage"
      ],
      "metadata": {
        "id": "dCRR3ZQNfbm5",
        "colab": {
          "base_uri": "https://localhost:8080/"
        },
        "outputId": "79b5efc6-91cc-41bd-d55e-1b532b5b7ea6"
      },
      "execution_count": 16,
      "outputs": [
        {
          "output_type": "execute_result",
          "data": {
            "text/plain": [
              "0.008767809613276969"
            ]
          },
          "metadata": {},
          "execution_count": 16
        }
      ]
    },
    {
      "cell_type": "markdown",
      "source": [
        "### Coverage @ 1000"
      ],
      "metadata": {
        "id": "9rlZpZeLilEy"
      }
    },
    {
      "cell_type": "code",
      "source": [
        "all_recommendations = []\n",
        "for user_id in true[\"User-ID\"]:\n",
        "    recommendations = BaseTest(user_id, trainset, algo, model, books, users,1000)\n",
        "    all_recommendations.extend(recommendations)\n",
        "intersection = list(set(all_recommendations).intersection(set(books[\"ISBN\"])))\n",
        "coverage = len(intersection)/len(set(books[\"ISBN\"]))\n",
        "coverage"
      ],
      "metadata": {
        "id": "TzLJqF2Qh-eg",
        "colab": {
          "base_uri": "https://localhost:8080/"
        },
        "outputId": "35521259-b282-4ff7-9c2b-97c77cc95887"
      },
      "execution_count": 17,
      "outputs": [
        {
          "output_type": "execute_result",
          "data": {
            "text/plain": [
              "0.08251135118208862"
            ]
          },
          "metadata": {},
          "execution_count": 17
        }
      ]
    }
  ]
}