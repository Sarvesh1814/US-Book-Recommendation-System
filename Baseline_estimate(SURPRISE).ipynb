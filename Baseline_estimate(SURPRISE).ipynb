{
  "nbformat": 4,
  "nbformat_minor": 0,
  "metadata": {
    "colab": {
      "provenance": [],
      "mount_file_id": "1LlUc2D-Ti6wmUs36PngEdJhS6vSZS9U0",
      "authorship_tag": "ABX9TyMcKj8fphiAHCnHKpcD+ubY",
      "include_colab_link": true
    },
    "kernelspec": {
      "name": "python3",
      "display_name": "Python 3"
    },
    "language_info": {
      "name": "python"
    }
  },
  "cells": [
    {
      "cell_type": "markdown",
      "metadata": {
        "id": "view-in-github",
        "colab_type": "text"
      },
      "source": [
        "<a href=\"https://colab.research.google.com/github/Sarvesh1814/US-Book-Recommendation-System-/blob/main/Baseline_estimate(SURPRISE).ipynb\" target=\"_parent\"><img src=\"https://colab.research.google.com/assets/colab-badge.svg\" alt=\"Open In Colab\"/></a>"
      ]
    },
    {
      "cell_type": "markdown",
      "source": [
        "# Mathematics Behind Baseline Model\n"
      ],
      "metadata": {
        "id": "wOhRDrRMeFH3"
      }
    },
    {
      "cell_type": "markdown",
      "source": [
        "\n",
        "---\n",
        "* **Baseline Equation**\n",
        "---\n",
        "\\begin{equation}\n",
        "b_{ui} = \\mu + b_u + b_i\n",
        "\\end{equation}\n",
        "---\n",
        "---\n",
        "* **Optimization Problem**\n",
        "---\n",
        "\\begin{equation}\n",
        "\\min_{b_u, b_i} \\sum_{(u,i) \\in R_{train}} (r_{ui} - b_{ui})^2 + \\lambda (||b_u||^2 + ||b_i||^2)\n",
        "\\end{equation}\n",
        "---\n",
        "---\n",
        "* **Gradient Descent**\n",
        "---\n",
        "\\begin{equation}\n",
        "\\frac{\\partial}{\\partial b_u} = -2 \\sum_{i \\in I_u} (r_{ui} - \\mu - b_u - b_i) + 2 \\lambda b_u\n",
        "\\end{equation}\n",
        "\n",
        "\\begin{equation}\n",
        "\\frac{\\partial}{\\partial b_i} = -2 \\sum_{u \\in U_i} (r_{ui} - \\mu - b_u - b_i) + 2 \\lambda b_i\n",
        "\\end{equation}\n",
        "\n",
        "\\begin{equation}\n",
        "b_{u}^{(k+1)} = b_{u}^{(k)} - \\gamma \\cdot \\frac{\\partial}{\\partial b_u} J(b_u^{(k)}, b_i^{(k)})\n",
        "\\end{equation}\n",
        "\n",
        "\\begin{equation}\n",
        "b_{i}^{(k+1)} = b_{i}^{(k)} - \\gamma \\cdot \\frac{\\partial}{\\partial b_i} J(b_u^{(k)}, b_i^{(k)})\n",
        "\\end{equation}\n",
        "\n",
        "\\begin{aligned}\n",
        "b_{u}^{(k+1)} &= b_{u}^{(k)} + \\gamma \\cdot \\left( \\sum_{i \\in I_u} (r_{ui} - \\mu - b_u^{(k)} - b_i^{(k)}) - \\lambda b_u^{(k)} \\right) \\\\\n",
        "b_{i}^{(k+1)} &= b_{i}^{(k)} + \\gamma \\cdot \\left( \\sum_{u \\in U_i} (r_{ui} - \\mu - b_u^{(k)} - b_i^{(k)}) - \\lambda b_i^{(k)} \\right)\n",
        "\\end{aligned}\n",
        "\n",
        "---\n",
        "* **Update Rule**\n",
        "---\n",
        "\\begin{equation}\n",
        "b_{u}^{(k+1)} = b_{u}^{(k)} + \\gamma \\cdot \\left( e_{ui} - \\lambda \\cdot b_{u}^{(k)} \\right)\n",
        "\\end{equation}\n"
      ],
      "metadata": {
        "id": "fGZLGF1MeLcD"
      }
    },
    {
      "cell_type": "markdown",
      "source": [
        "# Importing Data and Libraries "
      ],
      "metadata": {
        "id": "jNSaMnnlpCZ4"
      }
    },
    {
      "cell_type": "code",
      "source": [
        "!pip install surprise\n"
      ],
      "metadata": {
        "colab": {
          "base_uri": "https://localhost:8080/"
        },
        "id": "KFK8cHYdLZc2",
        "outputId": "816d6e47-f09e-4f54-81c2-0263308421b6"
      },
      "execution_count": 1,
      "outputs": [
        {
          "output_type": "stream",
          "name": "stdout",
          "text": [
            "Looking in indexes: https://pypi.org/simple, https://us-python.pkg.dev/colab-wheels/public/simple/\n",
            "Collecting surprise\n",
            "  Downloading surprise-0.1-py2.py3-none-any.whl (1.8 kB)\n",
            "Collecting scikit-surprise\n",
            "  Downloading scikit-surprise-1.1.3.tar.gz (771 kB)\n",
            "\u001b[2K     \u001b[90m━━━━━━━━━━━━━━━━━━━━━━━━━━━━━━━━━━━━━━\u001b[0m \u001b[32m772.0/772.0 kB\u001b[0m \u001b[31m11.9 MB/s\u001b[0m eta \u001b[36m0:00:00\u001b[0m\n",
            "\u001b[?25h  Preparing metadata (setup.py) ... \u001b[?25l\u001b[?25hdone\n",
            "Requirement already satisfied: joblib>=1.0.0 in /usr/local/lib/python3.10/dist-packages (from scikit-surprise->surprise) (1.2.0)\n",
            "Requirement already satisfied: numpy>=1.17.3 in /usr/local/lib/python3.10/dist-packages (from scikit-surprise->surprise) (1.22.4)\n",
            "Requirement already satisfied: scipy>=1.3.2 in /usr/local/lib/python3.10/dist-packages (from scikit-surprise->surprise) (1.10.1)\n",
            "Building wheels for collected packages: scikit-surprise\n",
            "  Building wheel for scikit-surprise (setup.py) ... \u001b[?25l\u001b[?25hdone\n",
            "  Created wheel for scikit-surprise: filename=scikit_surprise-1.1.3-cp310-cp310-linux_x86_64.whl size=3095441 sha256=0386ac658aaa02b26731c45d303e2bc0be7102e01994a7e6d89663ee5d415904\n",
            "  Stored in directory: /root/.cache/pip/wheels/a5/ca/a8/4e28def53797fdc4363ca4af740db15a9c2f1595ebc51fb445\n",
            "Successfully built scikit-surprise\n",
            "Installing collected packages: scikit-surprise, surprise\n",
            "Successfully installed scikit-surprise-1.1.3 surprise-0.1\n"
          ]
        }
      ]
    },
    {
      "cell_type": "code",
      "execution_count": 2,
      "metadata": {
        "id": "Oqn23Pk1LKHM"
      },
      "outputs": [],
      "source": [
        "from surprise import Dataset, Reader\n",
        "from surprise import BaselineOnly\n",
        "from surprise.model_selection import cross_validate, train_test_split\n",
        "import numpy as np\n",
        "import pandas as pd\n",
        "from surprise import accuracy"
      ]
    },
    {
      "cell_type": "markdown",
      "source": [
        "# Dataset Preparation "
      ],
      "metadata": {
        "id": "S63ULk4MeQ0h"
      }
    },
    {
      "cell_type": "code",
      "source": [
        "Base = \"/content/drive/MyDrive/RS Data/Assignment 3/Processed_data/\"\n",
        "train=pd.read_csv(Base+\"train_df.csv\")\n",
        "test = pd.read_csv(Base+\"test_df.csv\")"
      ],
      "metadata": {
        "id": "m4IdlWnBLjhW"
      },
      "execution_count": 3,
      "outputs": []
    },
    {
      "cell_type": "code",
      "source": [
        "train = train[[\"User-ID\"\t,\"ISBN\",\t\"Book-Rating\"\t,\"book_name\"]]\n",
        "test = test[[\"User-ID\"\t,\"ISBN\",\t\"Book-Rating\"\t,\"book_name\"]]"
      ],
      "metadata": {
        "id": "4X_Szhi4S5Zw"
      },
      "execution_count": 4,
      "outputs": []
    },
    {
      "cell_type": "code",
      "source": [
        "reader = Reader(rating_scale=(1, 10))\n",
        "data = Dataset.load_from_df(train[['User-ID', 'book_name', 'Book-Rating']], reader)\n",
        "trainset = data.build_full_trainset()\n",
        "\n"
      ],
      "metadata": {
        "id": "_tTdGxyyLRR5"
      },
      "execution_count": 5,
      "outputs": []
    },
    {
      "cell_type": "markdown",
      "source": [
        "# Grid Search Cross-Validation"
      ],
      "metadata": {
        "id": "NF0O9KxbSwtl"
      }
    },
    {
      "cell_type": "code",
      "source": [
        "from surprise.model_selection import GridSearchCV\n",
        "param_grid = {'bsl_options': {'method': ['als', 'sgd'],\n",
        "                              'reg_i': [5, 10, 15,20],\n",
        "                              'reg_u': [10, 15, 20]},}\n",
        "\n",
        "# Perform a grid search to find the best set of parameters\n",
        "grid_search = GridSearchCV(BaselineOnly, param_grid, measures=['rmse', 'mae'], cv=3)\n",
        "grid_search.fit(data)\n",
        "\n"
      ],
      "metadata": {
        "id": "n4MNfxsgSQuG"
      },
      "execution_count": null,
      "outputs": []
    },
    {
      "cell_type": "code",
      "source": [
        "# Print the best RMSE score and the corresponding parameters\n",
        "print(grid_search.best_score['rmse'])\n",
        "print(grid_search.best_params['rmse'])"
      ],
      "metadata": {
        "id": "b5FNLFDCefqU",
        "colab": {
          "base_uri": "https://localhost:8080/"
        },
        "outputId": "5af6dd11-e2fb-4bf9-e8ee-9da55893e8ee"
      },
      "execution_count": 7,
      "outputs": [
        {
          "output_type": "stream",
          "name": "stdout",
          "text": [
            "1.6145892054613513\n",
            "{'bsl_options': {'method': 'sgd', 'reg_i': 5, 'reg_u': 10}}\n"
          ]
        }
      ]
    },
    {
      "cell_type": "markdown",
      "source": [
        "# Model Training"
      ],
      "metadata": {
        "id": "iapWx8mreZ87"
      }
    },
    {
      "cell_type": "code",
      "source": [
        "trainset, valset = train_test_split(data, test_size=0.2)\n",
        "reader = Reader(rating_scale=(1, 10))\n",
        "data = Dataset.load_from_df(train[['User-ID', 'ISBN', 'Book-Rating']], reader)\n",
        "algo = BaselineOnly({'method': 'sgd', 'reg_i': 5, 'reg_u': 10},True)\n",
        "cv_results = cross_validate(algo, data, measures=['RMSE'], cv=5, verbose=True)\n",
        "trainset = data.build_full_trainset()\n",
        "algo.fit(trainset)\n",
        "predictions = algo.test(valset)\n",
        "print(\"RMSE:\", accuracy.rmse(predictions))\n",
        "print(\"MAE:\", accuracy.mae(predictions))"
      ],
      "metadata": {
        "id": "8l7TXh2ySci3",
        "colab": {
          "base_uri": "https://localhost:8080/"
        },
        "outputId": "0fe42109-3ec8-4f11-dd2d-e7e972ee4de9"
      },
      "execution_count": 8,
      "outputs": [
        {
          "output_type": "stream",
          "name": "stdout",
          "text": [
            "Estimating biases using sgd...\n",
            "Estimating biases using sgd...\n",
            "Estimating biases using sgd...\n",
            "Estimating biases using sgd...\n",
            "Estimating biases using sgd...\n",
            "Evaluating RMSE of algorithm BaselineOnly on 5 split(s).\n",
            "\n",
            "                  Fold 1  Fold 2  Fold 3  Fold 4  Fold 5  Mean    Std     \n",
            "RMSE (testset)    1.6010  1.6113  1.5995  1.6180  1.6075  1.6075  0.0068  \n",
            "Fit time          0.75    0.72    0.79    0.75    1.04    0.81    0.12    \n",
            "Test time         0.09    0.09    0.11    0.09    0.16    0.11    0.03    \n",
            "Estimating biases using sgd...\n",
            "RMSE: 1.5404\n",
            "RMSE: 1.540403474525308\n",
            "MAE:  1.1900\n",
            "MAE: 1.189950254669012\n"
          ]
        }
      ]
    },
    {
      "cell_type": "markdown",
      "source": [
        "# Recommendation System"
      ],
      "metadata": {
        "id": "_rp06Jf9lh96"
      }
    },
    {
      "cell_type": "code",
      "source": [
        "def BaseLine():\n",
        "  k = int(input(\"Value of K for top-K Recommendations: \"))\n",
        "  user_id = int(input(\"Enter User-ID: \"))  \n",
        "  uid = trainset.to_inner_uid(user_id)\n",
        "  all_items = trainset.all_items()\n",
        "  x = trainset.ur[int(uid)]\n",
        "  a = [x[i][0] for i in range(len(x))]\n",
        "  not_rated_items = [item for item in all_items if item not in a]\n",
        "  predictions = []\n",
        "  for iid in not_rated_items:\n",
        "      pred = algo.predict(uid, trainset.to_raw_iid(iid))\n",
        "      predictions.append((iid, pred.est))\n",
        "  predictions_sorted = sorted(predictions, key=lambda x: x[1], reverse=True)[:k]\n",
        "  print(\"\\n\")\n",
        "  print(f\"Top {k} Book recommendations for User {user_id} are: \")\n",
        "  lst =()\n",
        "  for item, rating in predictions_sorted:\n",
        "      lst+= ((trainset.to_raw_iid(item),rating),)\n",
        "  dx = pd.DataFrame(lst,columns=[\"ISBN\",\"Predicted Rating\"])\n",
        "  \n",
        "  display(dx)\n",
        " "
      ],
      "metadata": {
        "id": "PRgwAFdDUphp"
      },
      "execution_count": 9,
      "outputs": []
    },
    {
      "cell_type": "code",
      "source": [
        "BaseLine()\n"
      ],
      "metadata": {
        "id": "lK-knzNpvr8a",
        "colab": {
          "base_uri": "https://localhost:8080/",
          "height": 297
        },
        "outputId": "565e9990-7a9f-4a48-d4b0-ec99fa86537f"
      },
      "execution_count": 10,
      "outputs": [
        {
          "output_type": "stream",
          "name": "stdout",
          "text": [
            "Value of K for top-K Recommendations: 5\n",
            "Enter User-ID: 151824\n",
            "\n",
            "\n",
            "Top 5 Book recommendations for User 151824 are: \n"
          ]
        },
        {
          "output_type": "display_data",
          "data": {
            "text/plain": [
              "         ISBN  Predicted Rating\n",
              "0  0877017883          9.223929\n",
              "1  0140143505          9.203793\n",
              "2  0743454529          9.173125\n",
              "3  0060256656          9.120538\n",
              "4  067168390X          9.118640"
            ],
            "text/html": [
              "\n",
              "  <div id=\"df-dbbcb45c-ac0e-47e1-933b-1f186f38f8a6\">\n",
              "    <div class=\"colab-df-container\">\n",
              "      <div>\n",
              "<style scoped>\n",
              "    .dataframe tbody tr th:only-of-type {\n",
              "        vertical-align: middle;\n",
              "    }\n",
              "\n",
              "    .dataframe tbody tr th {\n",
              "        vertical-align: top;\n",
              "    }\n",
              "\n",
              "    .dataframe thead th {\n",
              "        text-align: right;\n",
              "    }\n",
              "</style>\n",
              "<table border=\"1\" class=\"dataframe\">\n",
              "  <thead>\n",
              "    <tr style=\"text-align: right;\">\n",
              "      <th></th>\n",
              "      <th>ISBN</th>\n",
              "      <th>Predicted Rating</th>\n",
              "    </tr>\n",
              "  </thead>\n",
              "  <tbody>\n",
              "    <tr>\n",
              "      <th>0</th>\n",
              "      <td>0877017883</td>\n",
              "      <td>9.223929</td>\n",
              "    </tr>\n",
              "    <tr>\n",
              "      <th>1</th>\n",
              "      <td>0140143505</td>\n",
              "      <td>9.203793</td>\n",
              "    </tr>\n",
              "    <tr>\n",
              "      <th>2</th>\n",
              "      <td>0743454529</td>\n",
              "      <td>9.173125</td>\n",
              "    </tr>\n",
              "    <tr>\n",
              "      <th>3</th>\n",
              "      <td>0060256656</td>\n",
              "      <td>9.120538</td>\n",
              "    </tr>\n",
              "    <tr>\n",
              "      <th>4</th>\n",
              "      <td>067168390X</td>\n",
              "      <td>9.118640</td>\n",
              "    </tr>\n",
              "  </tbody>\n",
              "</table>\n",
              "</div>\n",
              "      <button class=\"colab-df-convert\" onclick=\"convertToInteractive('df-dbbcb45c-ac0e-47e1-933b-1f186f38f8a6')\"\n",
              "              title=\"Convert this dataframe to an interactive table.\"\n",
              "              style=\"display:none;\">\n",
              "        \n",
              "  <svg xmlns=\"http://www.w3.org/2000/svg\" height=\"24px\"viewBox=\"0 0 24 24\"\n",
              "       width=\"24px\">\n",
              "    <path d=\"M0 0h24v24H0V0z\" fill=\"none\"/>\n",
              "    <path d=\"M18.56 5.44l.94 2.06.94-2.06 2.06-.94-2.06-.94-.94-2.06-.94 2.06-2.06.94zm-11 1L8.5 8.5l.94-2.06 2.06-.94-2.06-.94L8.5 2.5l-.94 2.06-2.06.94zm10 10l.94 2.06.94-2.06 2.06-.94-2.06-.94-.94-2.06-.94 2.06-2.06.94z\"/><path d=\"M17.41 7.96l-1.37-1.37c-.4-.4-.92-.59-1.43-.59-.52 0-1.04.2-1.43.59L10.3 9.45l-7.72 7.72c-.78.78-.78 2.05 0 2.83L4 21.41c.39.39.9.59 1.41.59.51 0 1.02-.2 1.41-.59l7.78-7.78 2.81-2.81c.8-.78.8-2.07 0-2.86zM5.41 20L4 18.59l7.72-7.72 1.47 1.35L5.41 20z\"/>\n",
              "  </svg>\n",
              "      </button>\n",
              "      \n",
              "  <style>\n",
              "    .colab-df-container {\n",
              "      display:flex;\n",
              "      flex-wrap:wrap;\n",
              "      gap: 12px;\n",
              "    }\n",
              "\n",
              "    .colab-df-convert {\n",
              "      background-color: #E8F0FE;\n",
              "      border: none;\n",
              "      border-radius: 50%;\n",
              "      cursor: pointer;\n",
              "      display: none;\n",
              "      fill: #1967D2;\n",
              "      height: 32px;\n",
              "      padding: 0 0 0 0;\n",
              "      width: 32px;\n",
              "    }\n",
              "\n",
              "    .colab-df-convert:hover {\n",
              "      background-color: #E2EBFA;\n",
              "      box-shadow: 0px 1px 2px rgba(60, 64, 67, 0.3), 0px 1px 3px 1px rgba(60, 64, 67, 0.15);\n",
              "      fill: #174EA6;\n",
              "    }\n",
              "\n",
              "    [theme=dark] .colab-df-convert {\n",
              "      background-color: #3B4455;\n",
              "      fill: #D2E3FC;\n",
              "    }\n",
              "\n",
              "    [theme=dark] .colab-df-convert:hover {\n",
              "      background-color: #434B5C;\n",
              "      box-shadow: 0px 1px 3px 1px rgba(0, 0, 0, 0.15);\n",
              "      filter: drop-shadow(0px 1px 2px rgba(0, 0, 0, 0.3));\n",
              "      fill: #FFFFFF;\n",
              "    }\n",
              "  </style>\n",
              "\n",
              "      <script>\n",
              "        const buttonEl =\n",
              "          document.querySelector('#df-dbbcb45c-ac0e-47e1-933b-1f186f38f8a6 button.colab-df-convert');\n",
              "        buttonEl.style.display =\n",
              "          google.colab.kernel.accessAllowed ? 'block' : 'none';\n",
              "\n",
              "        async function convertToInteractive(key) {\n",
              "          const element = document.querySelector('#df-dbbcb45c-ac0e-47e1-933b-1f186f38f8a6');\n",
              "          const dataTable =\n",
              "            await google.colab.kernel.invokeFunction('convertToInteractive',\n",
              "                                                     [key], {});\n",
              "          if (!dataTable) return;\n",
              "\n",
              "          const docLinkHtml = 'Like what you see? Visit the ' +\n",
              "            '<a target=\"_blank\" href=https://colab.research.google.com/notebooks/data_table.ipynb>data table notebook</a>'\n",
              "            + ' to learn more about interactive tables.';\n",
              "          element.innerHTML = '';\n",
              "          dataTable['output_type'] = 'display_data';\n",
              "          await google.colab.output.renderOutput(dataTable, element);\n",
              "          const docLink = document.createElement('div');\n",
              "          docLink.innerHTML = docLinkHtml;\n",
              "          element.appendChild(docLink);\n",
              "        }\n",
              "      </script>\n",
              "    </div>\n",
              "  </div>\n",
              "  "
            ]
          },
          "metadata": {}
        }
      ]
    },
    {
      "cell_type": "markdown",
      "source": [
        "#Saving the Model"
      ],
      "metadata": {
        "id": "LFi0CkIBm0Hu"
      }
    },
    {
      "cell_type": "code",
      "source": [
        "from surprise import dump\n",
        "\n",
        "# Define the file name for the saved model\n",
        "file_name = '/content/drive/MyDrive/RS Data/Assignment 3/Processed_data/baseline_model.pkl'\n",
        "\n",
        "# Save the model to a file\n",
        "dump.dump(file_name, algo=algo)"
      ],
      "metadata": {
        "id": "32QrCArsm1r2"
      },
      "execution_count": 11,
      "outputs": []
    }
  ]
}