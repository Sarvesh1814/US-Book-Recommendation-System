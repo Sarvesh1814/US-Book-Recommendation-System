{
  "cells": [
    {
      "cell_type": "markdown",
      "metadata": {
        "id": "view-in-github",
        "colab_type": "text"
      },
      "source": [
        "<a href=\"https://colab.research.google.com/github/Sarvesh1814/US-Book-Recommendation-System-/blob/main/Matrix_Factorisation_(SURPRISE).ipynb\" target=\"_parent\"><img src=\"https://colab.research.google.com/assets/colab-badge.svg\" alt=\"Open In Colab\"/></a>"
      ]
    },
    {
      "cell_type": "markdown",
      "metadata": {
        "id": "EPRmC4RjbyrF"
      },
      "source": [
        "# Mathematics Behind Matrix Factorisation Model\n"
      ]
    },
    {
      "cell_type": "markdown",
      "metadata": {
        "id": "YUG58SZkb8bS"
      },
      "source": [
        "---\n",
        "* **Latent factor SVD**\n",
        "---\n",
        "\\begin{equation}\n",
        "\\hat{r}_{ui} = \\mu + b_u + b_i + \\sum{f=1}^{k} (q_{if} + p_{uf})\n",
        "\\end{equation}\n",
        "\n",
        "---\n",
        "* **Optimization Problem**\n",
        "---\n",
        "\\begin{equation}\n",
        "\\min_{b_u, b_i, q_i, p_u} \\sum_{(u,i) \\in R_{train}} (r_{ui} - \\hat{r}_{ui})^2 + \\lambda (||q_i||^2 + ||p_u||^2 + ||b_u||^2 + ||b_i||^2)\n",
        "\\end{equation}\n",
        "\n",
        "---\n",
        "* **Gradient Descent**\n",
        "---\n",
        "\n",
        "\\begin{equation}\n",
        "\\frac{\\partial}{\\partial b_u} = -2 (r_{ui} - \\hat{r}_{ui}) + 2 \\lambda b_u\n",
        "\\end{equation}\n",
        "\n",
        "\\begin{equation}\n",
        "\\frac{\\partial}{\\partial b_i} = -2 (r_{ui} - \\hat{r}_{ui}) + 2 \\lambda b_i\n",
        "\\end{equation}\n",
        "\n",
        "\\begin{equation}\n",
        "\\frac{\\partial}{\\partial p_{uf}} = -2 (r_{ui} - \\hat{r}{ui}) q{if} + 2 \\lambda p_{uf}\n",
        "\\end{equation}\n",
        "\n",
        "\\begin{equation}\n",
        "\\frac{\\partial}{\\partial q_{if}} = -2 (r_{ui} - \\hat{r}{ui}) p{uf} + 2 \\lambda q_{if}\n",
        "\\end{equation}\n",
        "\n",
        "---\n",
        "* **Update Rule**\n",
        "---\n",
        "\n",
        "\n",
        "\\begin{aligned}\n",
        "b_{u}^{(k+1)} &= b_{u}^{(k)} + \\gamma \\cdot \\left( \\sum_{i \\in I_u} (r_{ui} - \\mu - b_u^{(k)} - b_i^{(k)}) - \\lambda b_u^{(k)} \\right) \\\\\n",
        "b_{i}^{(k+1)} &= b_{i}^{(k)} + \\gamma \\cdot \\left( \\sum_{u \\in U_i} (r_{ui} - \\mu - b_u^{(k)} - b_i^{(k)}) - \\lambda b_i^{(k)} \\right)\n",
        "\\end{aligned}\n",
        "\n",
        "\\begin{equation}\n",
        "p_{uk}^{(t+1)} = p_{uk}^{(t)} - \\gamma \\cdot \\frac{\\partial}{\\partial p_{uk}} J(p_{uk}^{(t)}, q_{ik}^{(t)}, b_u^{(t)}, b_i^{(t)})\n",
        "\\end{equation}\n",
        "\n",
        "\\begin{equation}\n",
        "q_{ik}^{(t+1)} = q_{ik}^{(t)} - \\gamma \\cdot \\frac{\\partial}{\\partial q_{ik}} J(p_{uk}^{(t)}, q_{ik}^{(t)}, b_u^{(t)}, b_i^{(t)})\n",
        "\\end{equation}"
      ]
    },
    {
      "cell_type": "markdown",
      "metadata": {
        "id": "d7-9O_FJabM_"
      },
      "source": [
        "# Installing and Importing Libraires"
      ]
    },
    {
      "cell_type": "code",
      "execution_count": null,
      "metadata": {
        "colab": {
          "base_uri": "https://localhost:8080/"
        },
        "id": "KFK8cHYdLZc2",
        "outputId": "b8180f8b-f5c9-46fc-952c-dfc16681575b"
      },
      "outputs": [
        {
          "output_type": "stream",
          "name": "stdout",
          "text": [
            "Looking in indexes: https://pypi.org/simple, https://us-python.pkg.dev/colab-wheels/public/simple/\n",
            "Collecting surprise\n",
            "  Downloading surprise-0.1-py2.py3-none-any.whl (1.8 kB)\n",
            "Collecting scikit-surprise\n",
            "  Downloading scikit-surprise-1.1.3.tar.gz (771 kB)\n",
            "\u001b[2K     \u001b[90m━━━━━━━━━━━━━━━━━━━━━━━━━━━━━━━━━━━━━━\u001b[0m \u001b[32m772.0/772.0 kB\u001b[0m \u001b[31m24.4 MB/s\u001b[0m eta \u001b[36m0:00:00\u001b[0m\n",
            "\u001b[?25h  Preparing metadata (setup.py) ... \u001b[?25l\u001b[?25hdone\n",
            "Requirement already satisfied: joblib>=1.0.0 in /usr/local/lib/python3.10/dist-packages (from scikit-surprise->surprise) (1.2.0)\n",
            "Requirement already satisfied: numpy>=1.17.3 in /usr/local/lib/python3.10/dist-packages (from scikit-surprise->surprise) (1.22.4)\n",
            "Requirement already satisfied: scipy>=1.3.2 in /usr/local/lib/python3.10/dist-packages (from scikit-surprise->surprise) (1.10.1)\n",
            "Building wheels for collected packages: scikit-surprise\n",
            "  Building wheel for scikit-surprise (setup.py) ... \u001b[?25l\u001b[?25hdone\n",
            "  Created wheel for scikit-surprise: filename=scikit_surprise-1.1.3-cp310-cp310-linux_x86_64.whl size=3095440 sha256=aad72f9b6ecd007cbe48a011aab7a54f70153c213c9d042d9f39257281030b6c\n",
            "  Stored in directory: /root/.cache/pip/wheels/a5/ca/a8/4e28def53797fdc4363ca4af740db15a9c2f1595ebc51fb445\n",
            "Successfully built scikit-surprise\n",
            "Installing collected packages: scikit-surprise, surprise\n",
            "Successfully installed scikit-surprise-1.1.3 surprise-0.1\n"
          ]
        }
      ],
      "source": [
        "!pip install surprise\n"
      ]
    },
    {
      "cell_type": "code",
      "execution_count": null,
      "metadata": {
        "id": "Oqn23Pk1LKHM"
      },
      "outputs": [],
      "source": [
        "from surprise import Dataset, Reader\n",
        "import numpy as np\n",
        "import pandas as pd\n",
        "from surprise.model_selection import GridSearchCV\n",
        "from surprise import SVD\n",
        "from surprise.model_selection import cross_validate, train_test_split\n",
        "from surprise import accuracy\n",
        "from surprise import dump\n",
        "import matplotlib.pyplot as plt"
      ]
    },
    {
      "cell_type": "markdown",
      "metadata": {
        "id": "llgftgLBahiz"
      },
      "source": [
        "# Dataset Preparation"
      ]
    },
    {
      "cell_type": "code",
      "execution_count": null,
      "metadata": {
        "id": "m4IdlWnBLjhW"
      },
      "outputs": [],
      "source": [
        "Base = \"/content/drive/MyDrive/RS Data/Assignment 3/Processed_data/\"\n",
        "train=pd.read_csv(Base+\"Train_df_final.csv\")\n",
        "test = pd.read_csv(Base+\"Test_df_final.csv\")"
      ]
    },
    {
      "cell_type": "code",
      "execution_count": null,
      "metadata": {
        "id": "4X_Szhi4S5Zw"
      },
      "outputs": [],
      "source": [
        "train = train[[\"User-ID\"\t,\"ISBN\",\t\"Book-Rating\"\t,\"book_name\"]]\n",
        "test = test[[\"User-ID\"\t,\"ISBN\",\t\"Book-Rating\"\t,\"book_name\"]]"
      ]
    },
    {
      "cell_type": "code",
      "execution_count": null,
      "metadata": {
        "colab": {
          "base_uri": "https://localhost:8080/",
          "height": 206
        },
        "id": "SOxGbFWBL33r",
        "outputId": "5d15adda-176b-467a-f200-90608a3b3f47"
      },
      "outputs": [
        {
          "output_type": "execute_result",
          "data": {
            "text/plain": [
              "   User-ID        ISBN  Book-Rating  \\\n",
              "0    68436  0345323440            8   \n",
              "1   216829  0375707972            5   \n",
              "2   153718  0373484887            7   \n",
              "3    62862  0140244824            5   \n",
              "4    17003  0312305060           10   \n",
              "\n",
              "                                           book_name  \n",
              "0                                           Footfall  \n",
              "1                                         The Reader  \n",
              "2                      Hidden Star (The Star Series)  \n",
              "3  Songs in Ordinary Time (Oprah's Book Club (Pap...  \n",
              "4                                 The Hours: A Novel  "
            ],
            "text/html": [
              "\n",
              "  <div id=\"df-0c6f9bc5-3313-481f-9bd3-ad41ff918ce8\">\n",
              "    <div class=\"colab-df-container\">\n",
              "      <div>\n",
              "<style scoped>\n",
              "    .dataframe tbody tr th:only-of-type {\n",
              "        vertical-align: middle;\n",
              "    }\n",
              "\n",
              "    .dataframe tbody tr th {\n",
              "        vertical-align: top;\n",
              "    }\n",
              "\n",
              "    .dataframe thead th {\n",
              "        text-align: right;\n",
              "    }\n",
              "</style>\n",
              "<table border=\"1\" class=\"dataframe\">\n",
              "  <thead>\n",
              "    <tr style=\"text-align: right;\">\n",
              "      <th></th>\n",
              "      <th>User-ID</th>\n",
              "      <th>ISBN</th>\n",
              "      <th>Book-Rating</th>\n",
              "      <th>book_name</th>\n",
              "    </tr>\n",
              "  </thead>\n",
              "  <tbody>\n",
              "    <tr>\n",
              "      <th>0</th>\n",
              "      <td>68436</td>\n",
              "      <td>0345323440</td>\n",
              "      <td>8</td>\n",
              "      <td>Footfall</td>\n",
              "    </tr>\n",
              "    <tr>\n",
              "      <th>1</th>\n",
              "      <td>216829</td>\n",
              "      <td>0375707972</td>\n",
              "      <td>5</td>\n",
              "      <td>The Reader</td>\n",
              "    </tr>\n",
              "    <tr>\n",
              "      <th>2</th>\n",
              "      <td>153718</td>\n",
              "      <td>0373484887</td>\n",
              "      <td>7</td>\n",
              "      <td>Hidden Star (The Star Series)</td>\n",
              "    </tr>\n",
              "    <tr>\n",
              "      <th>3</th>\n",
              "      <td>62862</td>\n",
              "      <td>0140244824</td>\n",
              "      <td>5</td>\n",
              "      <td>Songs in Ordinary Time (Oprah's Book Club (Pap...</td>\n",
              "    </tr>\n",
              "    <tr>\n",
              "      <th>4</th>\n",
              "      <td>17003</td>\n",
              "      <td>0312305060</td>\n",
              "      <td>10</td>\n",
              "      <td>The Hours: A Novel</td>\n",
              "    </tr>\n",
              "  </tbody>\n",
              "</table>\n",
              "</div>\n",
              "      <button class=\"colab-df-convert\" onclick=\"convertToInteractive('df-0c6f9bc5-3313-481f-9bd3-ad41ff918ce8')\"\n",
              "              title=\"Convert this dataframe to an interactive table.\"\n",
              "              style=\"display:none;\">\n",
              "        \n",
              "  <svg xmlns=\"http://www.w3.org/2000/svg\" height=\"24px\"viewBox=\"0 0 24 24\"\n",
              "       width=\"24px\">\n",
              "    <path d=\"M0 0h24v24H0V0z\" fill=\"none\"/>\n",
              "    <path d=\"M18.56 5.44l.94 2.06.94-2.06 2.06-.94-2.06-.94-.94-2.06-.94 2.06-2.06.94zm-11 1L8.5 8.5l.94-2.06 2.06-.94-2.06-.94L8.5 2.5l-.94 2.06-2.06.94zm10 10l.94 2.06.94-2.06 2.06-.94-2.06-.94-.94-2.06-.94 2.06-2.06.94z\"/><path d=\"M17.41 7.96l-1.37-1.37c-.4-.4-.92-.59-1.43-.59-.52 0-1.04.2-1.43.59L10.3 9.45l-7.72 7.72c-.78.78-.78 2.05 0 2.83L4 21.41c.39.39.9.59 1.41.59.51 0 1.02-.2 1.41-.59l7.78-7.78 2.81-2.81c.8-.78.8-2.07 0-2.86zM5.41 20L4 18.59l7.72-7.72 1.47 1.35L5.41 20z\"/>\n",
              "  </svg>\n",
              "      </button>\n",
              "      \n",
              "  <style>\n",
              "    .colab-df-container {\n",
              "      display:flex;\n",
              "      flex-wrap:wrap;\n",
              "      gap: 12px;\n",
              "    }\n",
              "\n",
              "    .colab-df-convert {\n",
              "      background-color: #E8F0FE;\n",
              "      border: none;\n",
              "      border-radius: 50%;\n",
              "      cursor: pointer;\n",
              "      display: none;\n",
              "      fill: #1967D2;\n",
              "      height: 32px;\n",
              "      padding: 0 0 0 0;\n",
              "      width: 32px;\n",
              "    }\n",
              "\n",
              "    .colab-df-convert:hover {\n",
              "      background-color: #E2EBFA;\n",
              "      box-shadow: 0px 1px 2px rgba(60, 64, 67, 0.3), 0px 1px 3px 1px rgba(60, 64, 67, 0.15);\n",
              "      fill: #174EA6;\n",
              "    }\n",
              "\n",
              "    [theme=dark] .colab-df-convert {\n",
              "      background-color: #3B4455;\n",
              "      fill: #D2E3FC;\n",
              "    }\n",
              "\n",
              "    [theme=dark] .colab-df-convert:hover {\n",
              "      background-color: #434B5C;\n",
              "      box-shadow: 0px 1px 3px 1px rgba(0, 0, 0, 0.15);\n",
              "      filter: drop-shadow(0px 1px 2px rgba(0, 0, 0, 0.3));\n",
              "      fill: #FFFFFF;\n",
              "    }\n",
              "  </style>\n",
              "\n",
              "      <script>\n",
              "        const buttonEl =\n",
              "          document.querySelector('#df-0c6f9bc5-3313-481f-9bd3-ad41ff918ce8 button.colab-df-convert');\n",
              "        buttonEl.style.display =\n",
              "          google.colab.kernel.accessAllowed ? 'block' : 'none';\n",
              "\n",
              "        async function convertToInteractive(key) {\n",
              "          const element = document.querySelector('#df-0c6f9bc5-3313-481f-9bd3-ad41ff918ce8');\n",
              "          const dataTable =\n",
              "            await google.colab.kernel.invokeFunction('convertToInteractive',\n",
              "                                                     [key], {});\n",
              "          if (!dataTable) return;\n",
              "\n",
              "          const docLinkHtml = 'Like what you see? Visit the ' +\n",
              "            '<a target=\"_blank\" href=https://colab.research.google.com/notebooks/data_table.ipynb>data table notebook</a>'\n",
              "            + ' to learn more about interactive tables.';\n",
              "          element.innerHTML = '';\n",
              "          dataTable['output_type'] = 'display_data';\n",
              "          await google.colab.output.renderOutput(dataTable, element);\n",
              "          const docLink = document.createElement('div');\n",
              "          docLink.innerHTML = docLinkHtml;\n",
              "          element.appendChild(docLink);\n",
              "        }\n",
              "      </script>\n",
              "    </div>\n",
              "  </div>\n",
              "  "
            ]
          },
          "metadata": {},
          "execution_count": 7
        }
      ],
      "source": [
        "train.head()"
      ]
    },
    {
      "cell_type": "markdown",
      "metadata": {
        "id": "QREpHdnkaocY"
      },
      "source": [
        "# Collaborative System Using Matrix Factorisation"
      ]
    },
    {
      "cell_type": "code",
      "execution_count": null,
      "metadata": {
        "id": "_tTdGxyyLRR5"
      },
      "outputs": [],
      "source": [
        "reader = Reader(rating_scale=(1, 10))\n",
        "data = Dataset.load_from_df(train[['User-ID', 'ISBN', 'Book-Rating']], reader)\n",
        "trainset = data.build_full_trainset()\n"
      ]
    },
    {
      "cell_type": "code",
      "execution_count": null,
      "metadata": {
        "colab": {
          "base_uri": "https://localhost:8080/"
        },
        "id": "8l7TXh2ySci3",
        "outputId": "515bae02-6d02-4125-d034-9e1880dd025a"
      },
      "outputs": [
        {
          "output_type": "stream",
          "name": "stdout",
          "text": [
            "Evaluating RMSE of algorithm SVD on 5 split(s).\n",
            "\n",
            "                  Fold 1  Fold 2  Fold 3  Fold 4  Fold 5  Mean    Std     \n",
            "RMSE (testset)    1.8505  1.8282  1.8179  1.8481  1.8066  1.8303  0.0170  \n",
            "Fit time          97.54   83.41   110.46  89.40   100.87  96.34   9.34    \n",
            "Test time         0.42    0.52    0.46    0.67    0.60    0.54    0.09    \n",
            "RMSE: 0.1094\n",
            "RMSE: 0.1093665551834273\n",
            "MAE:  0.0497\n",
            "MAE: 0.049743711744872486\n"
          ]
        }
      ],
      "source": [
        "trainset, valset = train_test_split(data, test_size=0.2)\n",
        "algo = SVD(n_factors=10000, reg_all=0.1)\n",
        "cv_results = cross_validate(algo, data, measures=['RMSE'], cv=5, verbose=True)\n",
        "trainset = data.build_full_trainset()\n",
        "algo.fit(trainset)\n",
        "predictions = algo.test(valset)\n",
        "print(\"RMSE:\", accuracy.rmse(predictions))\n",
        "print(\"MAE:\", accuracy.mae(predictions))"
      ]
    },
    {
      "cell_type": "markdown",
      "metadata": {
        "id": "dujclm8O_Q3i"
      },
      "source": [
        "# Evaluation"
      ]
    },
    {
      "cell_type": "code",
      "execution_count": null,
      "metadata": {
        "id": "HaDOj_nKhdeQ"
      },
      "outputs": [],
      "source": [
        "true = test[test['Book-Rating'] == 10]\n",
        "true = true[true['User-ID'].isin(list(train[\"User-ID\"]))]"
      ]
    },
    {
      "cell_type": "code",
      "execution_count": null,
      "metadata": {
        "colab": {
          "base_uri": "https://localhost:8080/",
          "height": 423
        },
        "id": "gXnqz1mBkCUt",
        "outputId": "8fc2404a-b201-4f40-c328-d627dfcb5ba5"
      },
      "outputs": [
        {
          "data": {
            "text/html": [
              "\n",
              "  <div id=\"df-c79bb9b1-90ec-443a-aaae-a3d031c9c0ea\">\n",
              "    <div class=\"colab-df-container\">\n",
              "      <div>\n",
              "<style scoped>\n",
              "    .dataframe tbody tr th:only-of-type {\n",
              "        vertical-align: middle;\n",
              "    }\n",
              "\n",
              "    .dataframe tbody tr th {\n",
              "        vertical-align: top;\n",
              "    }\n",
              "\n",
              "    .dataframe thead th {\n",
              "        text-align: right;\n",
              "    }\n",
              "</style>\n",
              "<table border=\"1\" class=\"dataframe\">\n",
              "  <thead>\n",
              "    <tr style=\"text-align: right;\">\n",
              "      <th></th>\n",
              "      <th>User-ID</th>\n",
              "      <th>ISBN</th>\n",
              "      <th>Book-Rating</th>\n",
              "      <th>book_name</th>\n",
              "    </tr>\n",
              "  </thead>\n",
              "  <tbody>\n",
              "    <tr>\n",
              "      <th>9</th>\n",
              "      <td>31315</td>\n",
              "      <td>051513452X</td>\n",
              "      <td>10</td>\n",
              "      <td>The Lunatic Cafe (Anita Blake Vampire Hunter (...</td>\n",
              "    </tr>\n",
              "    <tr>\n",
              "      <th>15</th>\n",
              "      <td>16634</td>\n",
              "      <td>0452261341</td>\n",
              "      <td>10</td>\n",
              "      <td>Gunslinger Tower 1 (Dark Tower, No 1)</td>\n",
              "    </tr>\n",
              "    <tr>\n",
              "      <th>18</th>\n",
              "      <td>46003</td>\n",
              "      <td>1583224890</td>\n",
              "      <td>10</td>\n",
              "      <td>9-11</td>\n",
              "    </tr>\n",
              "    <tr>\n",
              "      <th>19</th>\n",
              "      <td>46398</td>\n",
              "      <td>0517542099</td>\n",
              "      <td>10</td>\n",
              "      <td>The Hitchhiker's Guide to the Galaxy</td>\n",
              "    </tr>\n",
              "    <tr>\n",
              "      <th>30</th>\n",
              "      <td>83287</td>\n",
              "      <td>0553563521</td>\n",
              "      <td>10</td>\n",
              "      <td>Devil's Waltz (Alex Delaware Novels (Paperback))</td>\n",
              "    </tr>\n",
              "    <tr>\n",
              "      <th>...</th>\n",
              "      <td>...</td>\n",
              "      <td>...</td>\n",
              "      <td>...</td>\n",
              "      <td>...</td>\n",
              "    </tr>\n",
              "    <tr>\n",
              "      <th>24049</th>\n",
              "      <td>116122</td>\n",
              "      <td>0345434684</td>\n",
              "      <td>10</td>\n",
              "      <td>The Skies Of Pern</td>\n",
              "    </tr>\n",
              "    <tr>\n",
              "      <th>24055</th>\n",
              "      <td>198781</td>\n",
              "      <td>0060961325</td>\n",
              "      <td>10</td>\n",
              "      <td>The Celluloid Closet: Homosexuality in the Movies</td>\n",
              "    </tr>\n",
              "    <tr>\n",
              "      <th>24056</th>\n",
              "      <td>219259</td>\n",
              "      <td>0767915054</td>\n",
              "      <td>10</td>\n",
              "      <td>A Girl Named Zippy: Growing Up Small in Moorel...</td>\n",
              "    </tr>\n",
              "    <tr>\n",
              "      <th>24062</th>\n",
              "      <td>145449</td>\n",
              "      <td>0316107255</td>\n",
              "      <td>10</td>\n",
              "      <td>Penguin Dreams and Stranger Things (A Bloom Co...</td>\n",
              "    </tr>\n",
              "    <tr>\n",
              "      <th>24071</th>\n",
              "      <td>153927</td>\n",
              "      <td>0842329293</td>\n",
              "      <td>10</td>\n",
              "      <td>The Indwelling: The Beast Takes Possession (Le...</td>\n",
              "    </tr>\n",
              "  </tbody>\n",
              "</table>\n",
              "<p>4010 rows × 4 columns</p>\n",
              "</div>\n",
              "      <button class=\"colab-df-convert\" onclick=\"convertToInteractive('df-c79bb9b1-90ec-443a-aaae-a3d031c9c0ea')\"\n",
              "              title=\"Convert this dataframe to an interactive table.\"\n",
              "              style=\"display:none;\">\n",
              "        \n",
              "  <svg xmlns=\"http://www.w3.org/2000/svg\" height=\"24px\"viewBox=\"0 0 24 24\"\n",
              "       width=\"24px\">\n",
              "    <path d=\"M0 0h24v24H0V0z\" fill=\"none\"/>\n",
              "    <path d=\"M18.56 5.44l.94 2.06.94-2.06 2.06-.94-2.06-.94-.94-2.06-.94 2.06-2.06.94zm-11 1L8.5 8.5l.94-2.06 2.06-.94-2.06-.94L8.5 2.5l-.94 2.06-2.06.94zm10 10l.94 2.06.94-2.06 2.06-.94-2.06-.94-.94-2.06-.94 2.06-2.06.94z\"/><path d=\"M17.41 7.96l-1.37-1.37c-.4-.4-.92-.59-1.43-.59-.52 0-1.04.2-1.43.59L10.3 9.45l-7.72 7.72c-.78.78-.78 2.05 0 2.83L4 21.41c.39.39.9.59 1.41.59.51 0 1.02-.2 1.41-.59l7.78-7.78 2.81-2.81c.8-.78.8-2.07 0-2.86zM5.41 20L4 18.59l7.72-7.72 1.47 1.35L5.41 20z\"/>\n",
              "  </svg>\n",
              "      </button>\n",
              "      \n",
              "  <style>\n",
              "    .colab-df-container {\n",
              "      display:flex;\n",
              "      flex-wrap:wrap;\n",
              "      gap: 12px;\n",
              "    }\n",
              "\n",
              "    .colab-df-convert {\n",
              "      background-color: #E8F0FE;\n",
              "      border: none;\n",
              "      border-radius: 50%;\n",
              "      cursor: pointer;\n",
              "      display: none;\n",
              "      fill: #1967D2;\n",
              "      height: 32px;\n",
              "      padding: 0 0 0 0;\n",
              "      width: 32px;\n",
              "    }\n",
              "\n",
              "    .colab-df-convert:hover {\n",
              "      background-color: #E2EBFA;\n",
              "      box-shadow: 0px 1px 2px rgba(60, 64, 67, 0.3), 0px 1px 3px 1px rgba(60, 64, 67, 0.15);\n",
              "      fill: #174EA6;\n",
              "    }\n",
              "\n",
              "    [theme=dark] .colab-df-convert {\n",
              "      background-color: #3B4455;\n",
              "      fill: #D2E3FC;\n",
              "    }\n",
              "\n",
              "    [theme=dark] .colab-df-convert:hover {\n",
              "      background-color: #434B5C;\n",
              "      box-shadow: 0px 1px 3px 1px rgba(0, 0, 0, 0.15);\n",
              "      filter: drop-shadow(0px 1px 2px rgba(0, 0, 0, 0.3));\n",
              "      fill: #FFFFFF;\n",
              "    }\n",
              "  </style>\n",
              "\n",
              "      <script>\n",
              "        const buttonEl =\n",
              "          document.querySelector('#df-c79bb9b1-90ec-443a-aaae-a3d031c9c0ea button.colab-df-convert');\n",
              "        buttonEl.style.display =\n",
              "          google.colab.kernel.accessAllowed ? 'block' : 'none';\n",
              "\n",
              "        async function convertToInteractive(key) {\n",
              "          const element = document.querySelector('#df-c79bb9b1-90ec-443a-aaae-a3d031c9c0ea');\n",
              "          const dataTable =\n",
              "            await google.colab.kernel.invokeFunction('convertToInteractive',\n",
              "                                                     [key], {});\n",
              "          if (!dataTable) return;\n",
              "\n",
              "          const docLinkHtml = 'Like what you see? Visit the ' +\n",
              "            '<a target=\"_blank\" href=https://colab.research.google.com/notebooks/data_table.ipynb>data table notebook</a>'\n",
              "            + ' to learn more about interactive tables.';\n",
              "          element.innerHTML = '';\n",
              "          dataTable['output_type'] = 'display_data';\n",
              "          await google.colab.output.renderOutput(dataTable, element);\n",
              "          const docLink = document.createElement('div');\n",
              "          docLink.innerHTML = docLinkHtml;\n",
              "          element.appendChild(docLink);\n",
              "        }\n",
              "      </script>\n",
              "    </div>\n",
              "  </div>\n",
              "  "
            ],
            "text/plain": [
              "       User-ID        ISBN  Book-Rating  \\\n",
              "9        31315  051513452X           10   \n",
              "15       16634  0452261341           10   \n",
              "18       46003  1583224890           10   \n",
              "19       46398  0517542099           10   \n",
              "30       83287  0553563521           10   \n",
              "...        ...         ...          ...   \n",
              "24049   116122  0345434684           10   \n",
              "24055   198781  0060961325           10   \n",
              "24056   219259  0767915054           10   \n",
              "24062   145449  0316107255           10   \n",
              "24071   153927  0842329293           10   \n",
              "\n",
              "                                               book_name  \n",
              "9      The Lunatic Cafe (Anita Blake Vampire Hunter (...  \n",
              "15                 Gunslinger Tower 1 (Dark Tower, No 1)  \n",
              "18                                                  9-11  \n",
              "19                  The Hitchhiker's Guide to the Galaxy  \n",
              "30      Devil's Waltz (Alex Delaware Novels (Paperback))  \n",
              "...                                                  ...  \n",
              "24049                                  The Skies Of Pern  \n",
              "24055  The Celluloid Closet: Homosexuality in the Movies  \n",
              "24056  A Girl Named Zippy: Growing Up Small in Moorel...  \n",
              "24062  Penguin Dreams and Stranger Things (A Bloom Co...  \n",
              "24071  The Indwelling: The Beast Takes Possession (Le...  \n",
              "\n",
              "[4010 rows x 4 columns]"
            ]
          },
          "execution_count": 11,
          "metadata": {},
          "output_type": "execute_result"
        }
      ],
      "source": [
        "true"
      ]
    },
    {
      "cell_type": "code",
      "execution_count": null,
      "metadata": {
        "colab": {
          "base_uri": "https://localhost:8080/"
        },
        "id": "ziTlLWHojjFQ",
        "outputId": "963364d7-44ee-4b39-8d9e-b87f1eedc2f9"
      },
      "outputs": [
        {
          "data": {
            "text/plain": [
              "2169"
            ]
          },
          "execution_count": 12,
          "metadata": {},
          "output_type": "execute_result"
        }
      ],
      "source": [
        "len(set(true[\"User-ID\"])) # Unique Users in Testset"
      ]
    },
    {
      "cell_type": "markdown",
      "metadata": {
        "id": "-PlbCM_WgNyz"
      },
      "source": [
        "## Precision @ K"
      ]
    },
    {
      "cell_type": "code",
      "execution_count": null,
      "metadata": {
        "id": "GjdbidaKi1Je"
      },
      "outputs": [],
      "source": [
        "def precision(true,k,user):\n",
        "  final = true[true['User-ID'] == user]\n",
        "  user_id = user  \n",
        "  uid = trainset.to_inner_uid(user_id)\n",
        "  all_items = trainset.all_items()\n",
        "  x = trainset.ur[int(uid)]\n",
        "  a = [x[i][0] for i in range(len(x))]\n",
        "  not_rated_items = [item for item in all_items if item not in a]\n",
        "  predictions = []\n",
        "  for iid in not_rated_items:\n",
        "      pred = algo.predict(uid, trainset.to_raw_iid(iid))\n",
        "      predictions.append((iid, pred.est))\n",
        "  predictions_sorted = sorted(predictions, key=lambda x: x[1], reverse=True)[:k]\n",
        "  lst =()\n",
        "  for item, rating in predictions_sorted:\n",
        "      lst+= ((trainset.to_raw_iid(item),rating),)\n",
        "  dx = pd.DataFrame(lst,columns=[\"book_name\",\"Predicted Rating\"])\n",
        "\n",
        "  common_items = final['book_name'].isin(dx['book_name'])\n",
        "  num = common_items.sum()\n",
        "  num1=num/k\n",
        "  return num ,num1"
      ]
    },
    {
      "cell_type": "code",
      "execution_count": null,
      "metadata": {
        "id": "AtWdblcmgQy2"
      },
      "outputs": [],
      "source": [
        "def precision_at_k(true,k):\n",
        "  pre = 0\n",
        "  users = list(true[\"User-ID\"])\n",
        "  for user in users:\n",
        "    temp,temp1=precision(true,k,user)\n",
        "    pre+=temp1\n",
        "    \n",
        "  return pre/len(users) , temp\n",
        "\n"
      ]
    },
    {
      "cell_type": "code",
      "execution_count": null,
      "metadata": {
        "colab": {
          "base_uri": "https://localhost:8080/"
        },
        "id": "XHA4hTj9lVHY",
        "outputId": "5d3b6043-5816-4de6-fb65-97b57c65f54b"
      },
      "outputs": [
        {
          "data": {
            "text/plain": [
              "0.023640897755611116"
            ]
          },
          "execution_count": 15,
          "metadata": {},
          "output_type": "execute_result"
        }
      ],
      "source": [
        "p_5,t_5=precision_at_k(true,5)\n",
        "p_5"
      ]
    },
    {
      "cell_type": "code",
      "execution_count": null,
      "metadata": {
        "colab": {
          "base_uri": "https://localhost:8080/"
        },
        "id": "IwAm4ZRLmfbm",
        "outputId": "9dd02f45-4c35-4d20-8960-3547e6b31559"
      },
      "outputs": [
        {
          "data": {
            "text/plain": [
              "0.014788029925187149"
            ]
          },
          "execution_count": 16,
          "metadata": {},
          "output_type": "execute_result"
        }
      ],
      "source": [
        "p_10,t_10=precision_at_k(true,10)\n",
        "p_10"
      ]
    },
    {
      "cell_type": "code",
      "execution_count": null,
      "metadata": {
        "colab": {
          "background_save": true
        },
        "id": "oLyTAKAdmjZW",
        "outputId": "615fe9f0-e052-447f-e0e7-947b3dc16761"
      },
      "outputs": [
        {
          "data": {
            "text/plain": [
              "0.004448877805486262"
            ]
          },
          "execution_count": 17,
          "metadata": {},
          "output_type": "execute_result"
        }
      ],
      "source": [
        "p_100,t_100=precision_at_k(true,100)\n",
        "p_100"
      ]
    },
    {
      "cell_type": "code",
      "execution_count": null,
      "metadata": {
        "id": "QwURSM31mnto",
        "colab": {
          "base_uri": "https://localhost:8080/"
        },
        "outputId": "753800ef-9827-43d7-a87d-dbc5a857f560"
      },
      "outputs": [
        {
          "output_type": "execute_result",
          "data": {
            "text/plain": [
              "0.0014635910224438848"
            ]
          },
          "metadata": {},
          "execution_count": 18
        }
      ],
      "source": [
        "p_1000,t_1000=precision_at_k(true,1000)\n",
        "p_1000"
      ]
    },
    {
      "cell_type": "code",
      "execution_count": null,
      "metadata": {
        "id": "4SzyvJ5emsfw",
        "colab": {
          "base_uri": "https://localhost:8080/"
        },
        "outputId": "ae5e87c3-2417-4c13-90a5-bd6040e40759"
      },
      "outputs": [
        {
          "output_type": "execute_result",
          "data": {
            "text/plain": [
              "0.0009404488778054549"
            ]
          },
          "metadata": {},
          "execution_count": 19
        }
      ],
      "source": [
        "p_2500,t_2500=precision_at_k(true,2500)\n",
        "p_2500"
      ]
    },
    {
      "cell_type": "code",
      "execution_count": null,
      "metadata": {
        "id": "AsPUwx_wmwjS"
      },
      "outputs": [],
      "source": [
        "p_5000,t_5000=precision_at_k(true,5000)\n",
        "p_5000"
      ]
    },
    {
      "cell_type": "code",
      "execution_count": null,
      "metadata": {
        "id": "ebjMsCCf-4aQ",
        "colab": {
          "base_uri": "https://localhost:8080/",
          "height": 479
        },
        "outputId": "a30a90be-592c-46a1-d42f-37f4d9ede8b8"
      },
      "outputs": [
        {
          "output_type": "display_data",
          "data": {
            "text/plain": [
              "<Figure size 640x480 with 1 Axes>"
            ],
            "image/png": "[encoded data removed]"
          },
          "metadata": {}
        }
      ],
      "source": [
        "K = [5, 10, 100, 1000, 2500,5000]\n",
        "t_K = [t_5,t_10, t_100, t_1000, t_2500,t_5000]\n",
        "\n",
        "fig, ax = plt.subplots()\n",
        "ax.plot(K, t_K)\n",
        "ax.set_xlabel('Value of K', fontsize=14)\n",
        "ax.set_ylabel('No of used book from Test Case', fontsize=14)\n",
        "ax.set_title('No of used book from Test Case @ different values of K', fontsize=16)\n",
        "plt.show()\n"
      ]
    },
    {
      "cell_type": "code",
      "execution_count": null,
      "metadata": {
        "id": "50YQfKlyn9eG"
      },
      "outputs": [],
      "source": [
        "K = [5, 10, 100, 1000, 2500,5000]\n",
        "P_K = [p_5,p_10, p_100, p_1000, p_2500,p_5000]\n",
        "\n",
        "fig, ax = plt.subplots()\n",
        "ax.plot(K, P_K)\n",
        "ax.set_xlabel('Value of K', fontsize=14)\n",
        "ax.set_ylabel('Precision @ K', fontsize=14)\n",
        "ax.set_title('Precision @ different values of K', fontsize=16)\n",
        "plt.show()\n"
      ]
    },
    {
      "cell_type": "markdown",
      "metadata": {
        "id": "duvFLwvAa2Mg"
      },
      "source": [
        "# Recommendation System"
      ]
    },
    {
      "cell_type": "code",
      "execution_count": null,
      "metadata": {
        "id": "cGmtOJB-4E0e"
      },
      "outputs": [],
      "source": [
        "def MF_RS():\n",
        "  k = int(input(\"Value of K for top-K Recommendations: \"))\n",
        "  user_id = int(input(\"Enter User-ID: \"))  \n",
        "  uid = trainset.to_inner_uid(user_id)\n",
        "  all_items = trainset.all_items()\n",
        "  x = trainset.ur[int(uid)]\n",
        "  a = [x[i][0] for i in range(len(x))]\n",
        "  not_rated_items = [item for item in all_items if item not in a]\n",
        "  predictions = []\n",
        "  for iid in not_rated_items:\n",
        "      pred = algo.predict(uid, trainset.to_raw_iid(iid))\n",
        "      predictions.append((iid, pred.est))\n",
        "  predictions_sorted = sorted(predictions, key=lambda x: x[1], reverse=True)[:k]\n",
        "  print(\"\\n\")\n",
        "  print(f\"Top {k} Book recommendations for User {user_id} are: \")\n",
        "  lst =()\n",
        "  for item, rating in predictions_sorted:\n",
        "      lst+= ((trainset.to_raw_iid(item),rating),)\n",
        "  dx = pd.DataFrame(lst,columns=[\"Book Name\",\"Predicted Rating\"])\n",
        "  \n",
        "  display(dx)\n",
        "  return dx"
      ]
    },
    {
      "cell_type": "code",
      "execution_count": null,
      "metadata": {
        "id": "KQmiI0mA48h0",
        "colab": {
          "base_uri": "https://localhost:8080/",
          "height": 297
        },
        "outputId": "bdfdc03b-c7cc-4233-d9bf-66cf4a59746d"
      },
      "outputs": [
        {
          "output_type": "stream",
          "name": "stdout",
          "text": [
            "Value of K for top-K Recommendations: 5\n",
            "Enter User-ID: 46398\n",
            "\n",
            "\n",
            "Top 5 Book recommendations for User 46398 are: \n"
          ]
        },
        {
          "output_type": "display_data",
          "data": {
            "text/plain": [
              "    Book Name  Predicted Rating\n",
              "0  059035342X          8.527599\n",
              "1  043935806X          8.434885\n",
              "2  0439139597          8.406533\n",
              "3  0446310786          8.369887\n",
              "4  0439136350          8.299950"
            ],
            "text/html": [
              "\n",
              "  <div id=\"df-1430a16c-ea6c-42d8-a21b-8d31e430c831\">\n",
              "    <div class=\"colab-df-container\">\n",
              "      <div>\n",
              "<style scoped>\n",
              "    .dataframe tbody tr th:only-of-type {\n",
              "        vertical-align: middle;\n",
              "    }\n",
              "\n",
              "    .dataframe tbody tr th {\n",
              "        vertical-align: top;\n",
              "    }\n",
              "\n",
              "    .dataframe thead th {\n",
              "        text-align: right;\n",
              "    }\n",
              "</style>\n",
              "<table border=\"1\" class=\"dataframe\">\n",
              "  <thead>\n",
              "    <tr style=\"text-align: right;\">\n",
              "      <th></th>\n",
              "      <th>Book Name</th>\n",
              "      <th>Predicted Rating</th>\n",
              "    </tr>\n",
              "  </thead>\n",
              "  <tbody>\n",
              "    <tr>\n",
              "      <th>0</th>\n",
              "      <td>059035342X</td>\n",
              "      <td>8.527599</td>\n",
              "    </tr>\n",
              "    <tr>\n",
              "      <th>1</th>\n",
              "      <td>043935806X</td>\n",
              "      <td>8.434885</td>\n",
              "    </tr>\n",
              "    <tr>\n",
              "      <th>2</th>\n",
              "      <td>0439139597</td>\n",
              "      <td>8.406533</td>\n",
              "    </tr>\n",
              "    <tr>\n",
              "      <th>3</th>\n",
              "      <td>0446310786</td>\n",
              "      <td>8.369887</td>\n",
              "    </tr>\n",
              "    <tr>\n",
              "      <th>4</th>\n",
              "      <td>0439136350</td>\n",
              "      <td>8.299950</td>\n",
              "    </tr>\n",
              "  </tbody>\n",
              "</table>\n",
              "</div>\n",
              "      <button class=\"colab-df-convert\" onclick=\"convertToInteractive('df-1430a16c-ea6c-42d8-a21b-8d31e430c831')\"\n",
              "              title=\"Convert this dataframe to an interactive table.\"\n",
              "              style=\"display:none;\">\n",
              "        \n",
              "  <svg xmlns=\"http://www.w3.org/2000/svg\" height=\"24px\"viewBox=\"0 0 24 24\"\n",
              "       width=\"24px\">\n",
              "    <path d=\"M0 0h24v24H0V0z\" fill=\"none\"/>\n",
              "    <path d=\"M18.56 5.44l.94 2.06.94-2.06 2.06-.94-2.06-.94-.94-2.06-.94 2.06-2.06.94zm-11 1L8.5 8.5l.94-2.06 2.06-.94-2.06-.94L8.5 2.5l-.94 2.06-2.06.94zm10 10l.94 2.06.94-2.06 2.06-.94-2.06-.94-.94-2.06-.94 2.06-2.06.94z\"/><path d=\"M17.41 7.96l-1.37-1.37c-.4-.4-.92-.59-1.43-.59-.52 0-1.04.2-1.43.59L10.3 9.45l-7.72 7.72c-.78.78-.78 2.05 0 2.83L4 21.41c.39.39.9.59 1.41.59.51 0 1.02-.2 1.41-.59l7.78-7.78 2.81-2.81c.8-.78.8-2.07 0-2.86zM5.41 20L4 18.59l7.72-7.72 1.47 1.35L5.41 20z\"/>\n",
              "  </svg>\n",
              "      </button>\n",
              "      \n",
              "  <style>\n",
              "    .colab-df-container {\n",
              "      display:flex;\n",
              "      flex-wrap:wrap;\n",
              "      gap: 12px;\n",
              "    }\n",
              "\n",
              "    .colab-df-convert {\n",
              "      background-color: #E8F0FE;\n",
              "      border: none;\n",
              "      border-radius: 50%;\n",
              "      cursor: pointer;\n",
              "      display: none;\n",
              "      fill: #1967D2;\n",
              "      height: 32px;\n",
              "      padding: 0 0 0 0;\n",
              "      width: 32px;\n",
              "    }\n",
              "\n",
              "    .colab-df-convert:hover {\n",
              "      background-color: #E2EBFA;\n",
              "      box-shadow: 0px 1px 2px rgba(60, 64, 67, 0.3), 0px 1px 3px 1px rgba(60, 64, 67, 0.15);\n",
              "      fill: #174EA6;\n",
              "    }\n",
              "\n",
              "    [theme=dark] .colab-df-convert {\n",
              "      background-color: #3B4455;\n",
              "      fill: #D2E3FC;\n",
              "    }\n",
              "\n",
              "    [theme=dark] .colab-df-convert:hover {\n",
              "      background-color: #434B5C;\n",
              "      box-shadow: 0px 1px 3px 1px rgba(0, 0, 0, 0.15);\n",
              "      filter: drop-shadow(0px 1px 2px rgba(0, 0, 0, 0.3));\n",
              "      fill: #FFFFFF;\n",
              "    }\n",
              "  </style>\n",
              "\n",
              "      <script>\n",
              "        const buttonEl =\n",
              "          document.querySelector('#df-1430a16c-ea6c-42d8-a21b-8d31e430c831 button.colab-df-convert');\n",
              "        buttonEl.style.display =\n",
              "          google.colab.kernel.accessAllowed ? 'block' : 'none';\n",
              "\n",
              "        async function convertToInteractive(key) {\n",
              "          const element = document.querySelector('#df-1430a16c-ea6c-42d8-a21b-8d31e430c831');\n",
              "          const dataTable =\n",
              "            await google.colab.kernel.invokeFunction('convertToInteractive',\n",
              "                                                     [key], {});\n",
              "          if (!dataTable) return;\n",
              "\n",
              "          const docLinkHtml = 'Like what you see? Visit the ' +\n",
              "            '<a target=\"_blank\" href=https://colab.research.google.com/notebooks/data_table.ipynb>data table notebook</a>'\n",
              "            + ' to learn more about interactive tables.';\n",
              "          element.innerHTML = '';\n",
              "          dataTable['output_type'] = 'display_data';\n",
              "          await google.colab.output.renderOutput(dataTable, element);\n",
              "          const docLink = document.createElement('div');\n",
              "          docLink.innerHTML = docLinkHtml;\n",
              "          element.appendChild(docLink);\n",
              "        }\n",
              "      </script>\n",
              "    </div>\n",
              "  </div>\n",
              "  "
            ]
          },
          "metadata": {}
        }
      ],
      "source": [
        "dx = MF_RS()"
      ]
    },
    {
      "cell_type": "code",
      "source": [
        "MF_RS()"
      ],
      "metadata": {
        "colab": {
          "base_uri": "https://localhost:8080/",
          "height": 293
        },
        "id": "qmTzDwh9FQ1D",
        "outputId": "fedcb18a-c0f4-4353-b8ad-13a88bca70a8"
      },
      "execution_count": null,
      "outputs": [
        {
          "output_type": "stream",
          "name": "stdout",
          "text": [
            "Value of K for top-K Recommendations: 5\n",
            "Enter User-ID: 2033\n",
            "\n",
            "\n",
            "Top 5 Book recommendations for User 2033 are: \n"
          ]
        },
        {
          "output_type": "display_data",
          "data": {
            "text/plain": [
              "                                           Book Name  Predicted Rating\n",
              "0       Harry Potter and the Goblet of Fire (Book 4)          8.592347\n",
              "1  Harry Potter and the Sorcerer's Stone (Harry P...          8.514908\n",
              "2                              To Kill a Mockingbird          8.445719\n",
              "3   Harry Potter and the Chamber of Secrets (Book 2)          8.445549\n",
              "4     The Two Towers (The Lord of the Rings, Part 2)          8.344572"
            ],
            "text/html": [
              "\n",
              "  <div id=\"df-07c2931e-7a6c-46ca-b856-697b023de18b\">\n",
              "    <div class=\"colab-df-container\">\n",
              "      <div>\n",
              "<style scoped>\n",
              "    .dataframe tbody tr th:only-of-type {\n",
              "        vertical-align: middle;\n",
              "    }\n",
              "\n",
              "    .dataframe tbody tr th {\n",
              "        vertical-align: top;\n",
              "    }\n",
              "\n",
              "    .dataframe thead th {\n",
              "        text-align: right;\n",
              "    }\n",
              "</style>\n",
              "<table border=\"1\" class=\"dataframe\">\n",
              "  <thead>\n",
              "    <tr style=\"text-align: right;\">\n",
              "      <th></th>\n",
              "      <th>Book Name</th>\n",
              "      <th>Predicted Rating</th>\n",
              "    </tr>\n",
              "  </thead>\n",
              "  <tbody>\n",
              "    <tr>\n",
              "      <th>0</th>\n",
              "      <td>Harry Potter and the Goblet of Fire (Book 4)</td>\n",
              "      <td>8.592347</td>\n",
              "    </tr>\n",
              "    <tr>\n",
              "      <th>1</th>\n",
              "      <td>Harry Potter and the Sorcerer's Stone (Harry P...</td>\n",
              "      <td>8.514908</td>\n",
              "    </tr>\n",
              "    <tr>\n",
              "      <th>2</th>\n",
              "      <td>To Kill a Mockingbird</td>\n",
              "      <td>8.445719</td>\n",
              "    </tr>\n",
              "    <tr>\n",
              "      <th>3</th>\n",
              "      <td>Harry Potter and the Chamber of Secrets (Book 2)</td>\n",
              "      <td>8.445549</td>\n",
              "    </tr>\n",
              "    <tr>\n",
              "      <th>4</th>\n",
              "      <td>The Two Towers (The Lord of the Rings, Part 2)</td>\n",
              "      <td>8.344572</td>\n",
              "    </tr>\n",
              "  </tbody>\n",
              "</table>\n",
              "</div>\n",
              "      <button class=\"colab-df-convert\" onclick=\"convertToInteractive('df-07c2931e-7a6c-46ca-b856-697b023de18b')\"\n",
              "              title=\"Convert this dataframe to an interactive table.\"\n",
              "              style=\"display:none;\">\n",
              "        \n",
              "  <svg xmlns=\"http://www.w3.org/2000/svg\" height=\"24px\"viewBox=\"0 0 24 24\"\n",
              "       width=\"24px\">\n",
              "    <path d=\"M0 0h24v24H0V0z\" fill=\"none\"/>\n",
              "    <path d=\"M18.56 5.44l.94 2.06.94-2.06 2.06-.94-2.06-.94-.94-2.06-.94 2.06-2.06.94zm-11 1L8.5 8.5l.94-2.06 2.06-.94-2.06-.94L8.5 2.5l-.94 2.06-2.06.94zm10 10l.94 2.06.94-2.06 2.06-.94-2.06-.94-.94-2.06-.94 2.06-2.06.94z\"/><path d=\"M17.41 7.96l-1.37-1.37c-.4-.4-.92-.59-1.43-.59-.52 0-1.04.2-1.43.59L10.3 9.45l-7.72 7.72c-.78.78-.78 2.05 0 2.83L4 21.41c.39.39.9.59 1.41.59.51 0 1.02-.2 1.41-.59l7.78-7.78 2.81-2.81c.8-.78.8-2.07 0-2.86zM5.41 20L4 18.59l7.72-7.72 1.47 1.35L5.41 20z\"/>\n",
              "  </svg>\n",
              "      </button>\n",
              "      \n",
              "  <style>\n",
              "    .colab-df-container {\n",
              "      display:flex;\n",
              "      flex-wrap:wrap;\n",
              "      gap: 12px;\n",
              "    }\n",
              "\n",
              "    .colab-df-convert {\n",
              "      background-color: #E8F0FE;\n",
              "      border: none;\n",
              "      border-radius: 50%;\n",
              "      cursor: pointer;\n",
              "      display: none;\n",
              "      fill: #1967D2;\n",
              "      height: 32px;\n",
              "      padding: 0 0 0 0;\n",
              "      width: 32px;\n",
              "    }\n",
              "\n",
              "    .colab-df-convert:hover {\n",
              "      background-color: #E2EBFA;\n",
              "      box-shadow: 0px 1px 2px rgba(60, 64, 67, 0.3), 0px 1px 3px 1px rgba(60, 64, 67, 0.15);\n",
              "      fill: #174EA6;\n",
              "    }\n",
              "\n",
              "    [theme=dark] .colab-df-convert {\n",
              "      background-color: #3B4455;\n",
              "      fill: #D2E3FC;\n",
              "    }\n",
              "\n",
              "    [theme=dark] .colab-df-convert:hover {\n",
              "      background-color: #434B5C;\n",
              "      box-shadow: 0px 1px 3px 1px rgba(0, 0, 0, 0.15);\n",
              "      filter: drop-shadow(0px 1px 2px rgba(0, 0, 0, 0.3));\n",
              "      fill: #FFFFFF;\n",
              "    }\n",
              "  </style>\n",
              "\n",
              "      <script>\n",
              "        const buttonEl =\n",
              "          document.querySelector('#df-07c2931e-7a6c-46ca-b856-697b023de18b button.colab-df-convert');\n",
              "        buttonEl.style.display =\n",
              "          google.colab.kernel.accessAllowed ? 'block' : 'none';\n",
              "\n",
              "        async function convertToInteractive(key) {\n",
              "          const element = document.querySelector('#df-07c2931e-7a6c-46ca-b856-697b023de18b');\n",
              "          const dataTable =\n",
              "            await google.colab.kernel.invokeFunction('convertToInteractive',\n",
              "                                                     [key], {});\n",
              "          if (!dataTable) return;\n",
              "\n",
              "          const docLinkHtml = 'Like what you see? Visit the ' +\n",
              "            '<a target=\"_blank\" href=https://colab.research.google.com/notebooks/data_table.ipynb>data table notebook</a>'\n",
              "            + ' to learn more about interactive tables.';\n",
              "          element.innerHTML = '';\n",
              "          dataTable['output_type'] = 'display_data';\n",
              "          await google.colab.output.renderOutput(dataTable, element);\n",
              "          const docLink = document.createElement('div');\n",
              "          docLink.innerHTML = docLinkHtml;\n",
              "          element.appendChild(docLink);\n",
              "        }\n",
              "      </script>\n",
              "    </div>\n",
              "  </div>\n",
              "  "
            ]
          },
          "metadata": {}
        }
      ]
    },
    {
      "cell_type": "code",
      "execution_count": null,
      "metadata": {
        "id": "czzDjUM6vb_k"
      },
      "outputs": [],
      "source": [
        "dump.dump('/content/drive/MyDrive/RS Data/Assignment 3/Processed_data/Matrix_Factorisation.pkl', algo=algo)"
      ]
    },
    {
      "cell_type": "markdown",
      "metadata": {
        "id": "hRC1HgSlbEFb"
      },
      "source": [
        "### **Original Movies from test set**"
      ]
    },
    {
      "cell_type": "markdown",
      "metadata": {
        "id": "effyQbMibJPQ"
      },
      "source": [
        "![image.png](data:image/png;base64,iVBORw0KGgoAAAANSUhEUgAAA3MAAACoCAYAAABKWLcLAAAAAXNSR0IArs4c6QAAAARnQU1BAACxjwv8YQUAAAAJcEhZcwAADsMAAA7DAcdvqGQAAFG3SURBVHhe7b2xb+NKlv97+v0d6obR3tlg8VPeGgOdOBjsvGCU6Bm4DhZOPOEKwt1x1oEzYweCJvx5AuMGbsBPiZI3gwmcNOBhx63FL9gdN4xu/R/9zqkqkkWySFaRlC3a388Fb1tUkaw6dVh1TtWp0qvlcvnjD5//TAAAAAAAAAAA+sOrL1++/PjdLz+rD1//+Df1LwAAAAAAAACA3eXtz7+BM9cVHz9+pLdv35pPIJSvX79Cfi2A/AAALxW0f+2A/NoB+bUD8mvOu3fvlDP3f5nPAAAAAAAAAAB6BJw5AAAAAAAAAOghcOYAAAAAAAAAoIfAmQMAAAAAAACAHgJnDgDwdGxu6HQ0opEcpze0Maf92dDNadi10QWnv4jMpy6I6ILz3+ktH5WiDJWMGtXHNuinfLvXMzfVdaXr9vTG/tZ1DgAAQF/poTP3V/r9q1f0yjp+/1fzlcU//nSQSfOqkMjnPn7PqmJzc6oN1fjIde6qI7a/N4fTBogu9PeOL7u6D3+pDKfaezCFZ2YS+t0nvgcop1rO5ajr8kaeqfvdMOTYqDxf0Ho8pyiKKLo8ooH5JoPK8yntqu25ubmi1XBKx0aNH1/uxhmzdSR/eOrMLpKXb6FN7Xn5tsuAjk7GtF5cc4sc4zoHAACgr/TMmfsH/engt0R/+UE/fujjL6dEl7/NOlniyP1qSrT4nzjdX+j08rcZh+6vv3fd54D+9A+TgPFJU4UYHZMF0XTJhqoYq9GcxqtZ0fBgQ2Wpvk+Ps4x/Y4y12cp8LqGD+0QXM6J5ev18TLSa5Q1pfZ/Zfe55ycPke9d9sg6dGL2z1ZiTwaRwUyfnQGQWTOqenafLI6fb9Mh8p4c1q+3ea/O5CWyYXrJMyhzBpng7kBu6u13T8PCg/Plbl7uRQawf8rLR0Gp3+KjUmS3JsBNK5Jtp60y7ujMziTvG6D2NaUWf7GbWdQ4AAEAv6Zkz90/073c/6H//q/nI/Ot/LOjX/O9//XfsYf2V/nP6d/r14hf6938yp+hf6T8WnOpyxd+aM//bdZ+/0//7/6Wemk+aciK6XrARMv1Aqf02ouPpkL2aT0Ejopubc1qsxThbklzeFJ/7jM6yDuDoeMpm4Zpu71IzSd+HnbBS408bh8X7EN1/i++zoW/3/M/4PUsFuKiXcwgRXUwWtBYjuKkzCIps7uiW36nDg7IagtxbUStfwbSr61uymimQMKL3MpiW9eYc5wAAAPSR57dm7h//Tf/F//yvf048OcU//fP/4v9f0qomTDJ/nQufNLT5RuKr7L/JGiGDN/v8/7AR0cHRJUXRpeUUNqPNfdJymJHy6XFLJ2xAShT33zCa7qQrOQt6pnRFJY5hHHYbH9YMhw7xvCgMPjhDCW3stXDmyExIq2dKntgGX0zU901DEIt5MTPQuefny5EJ18uXWc1er2kx0d+X5W1zd8up9in3mhueQO41qOu5IvT903t53beuThXlsr9oUKZq+abodjVLUsb4yGVWvpd6zYZtFvPHCa3v+cjlVT3HIdOEzPUl5U++56Mo1Fweq9+VOK2d5vVecRDRdQ4AAED/6L8z9z//h/7O/yQOlvr8a/qXX+mPCb/6FzWD5+Yf9Kd/m9Lff72g/7Bm4rL4pLH4/sBGyJAKEWSv99QMVYb1giaeHXUlXd0ngQ0zWdM0TNerxKFx9HCdM+xqQtKUPLLO7ehsTmOV51NzBqQ0lLODu4uJnuGLzgqOoTL8VERsHLK2pClxnRiDVM+o5gYf2Ki/kqjBk5IZQzFeJwvat8JsJfRPwmwTnRyd8Xmuf/5zOF2qNN2EIIozweXdN+vw+FBRh+JQ2eVfzWjycGLSaD08N3mT2el8qGJZ3r7rOFFyBYo+utx94bLPqGadYh6fOq2R/VmDMlXJ12ajpvlTxEG62tN6pY4lP5vLnfeTZCAh1QOJWFjRzHLG6uopoUymEv756X3p/X3yKXnIhusv6fD23N0OcD1NFmsacz3ZOqud3XtKAiMY1zkAAAD9o+fO3F/p97+9JPJ1sDLI+rt4Y5Nf0fTvp/SXu3+n7JybT5p2KMMx7sj5WE6HysAIdcS6uo82yGLHwRijDoNvfb9HH5LniZEisxiOUW1FRBcy05FxCoURnSmDXrwW4CJMzg7YSVnIJJPTINahwOO57WzozRGSkLXBAR2qAfz0iXq2ZEzv8x6KgvVHWefz7HpNdt7EsN/+pgvaCR5bmRtJPFneaJVNV5IM6pCz9e1d1kCvxYQK778pOiKPLvcQ+J0OCvn0rdMa2TfQpVL52rBDeM7yZI8wiTqQ9jDjgDuerciEv+bqwKeeEkpkWnl/n3zGM/R2uD7f59IRYSEON7ez4sgVsqIGEdf08N18FlznAAAA9I5eO3OyQckl/ZoWvzRxsPT6u3hzk/9Z/Bf9lp22g8zuJj5pukVCIZWBFGxYZml+HzEUYudBnMJ7mrFjl3cKsxsSGCMlP+pukE1VVjLL8SHrFOpwIL1RCnATImcnYkzKaL/MgOanJUwosMyupDN/fKgQw5gBHWjr0hjs2rgsX+tYNOhjnE5V57wmHT2WljX6JOWpD9XrlEeXewDB9/Ct0zrZd1gmkWssNz1tldvkxR6UkkMGpsxXNnlH0XZwvOrJUFaGqvsravKp1gzKbWqUV+TB+ZJZbpdPCQAA4PnSW2fur79/Rb+9ZEfuf+6sjU4YFU75d/o//2M+x5SFXxr+6d9/Idkj5e/T/0w2ScnjkyahbNSzLPwyz/qBTagOaHmfwdEHtVlK7YyKKm8RCSOarSRcLTeSbEbTYXwEUiLnSgZHdCmevSPMTJCR/Nh5T4+0vgZHJyQ7312JQ2+MS5dhrzAGcDmP5FRJeJsxkPWOqcVQx84oW/f5mHLfJqF1WiH7RmVyyVecZUtu2TBYcZDYKSI7jcxqm68Dqaun5nSYT5bH3ERjuHQNAADA86WXzpx25IhO/5Jz5IR/+meSrU7S3S01//hvtS0K1e5d8ut/oRJ/L8UnzeANmzhih2TNEL22o8qgNaFFHutEqunqPobkPnr0vTDj53BStSMnxpDD8HGsoQM2/nL2woTEZX5mokRHi6RhiJGExbHhmA2XtTD3LISzMWqWpit9LMPsfpjZln9rjpzZxKeKx5L7NvGtUy/Zh5TJQ74uYifRZ21h3lG03y/veqqg6v4++QzIw2sTjVH8KRnG1W40bUsAAADsFL1z5uQ35LQjl/3ZgJR/pfGpzJ79W/p7cP/4E/2b+rmC/+BvBfkx8N9nZ9f++p/ESejX/8//bUI2fdJUYYyWhbVQPZmNMjsU8ufT3EJ6vR29pyES09V9SH7oO7ceK7pW90nD/eJ1Hwu6ThKaNXHWmhUJodSOnGP9hqB+54gNj6vcRgLA4CfnEEZn+TV3ekv3jI4KsvYmp08qnI7zMhP9rfpNNXPPwmwU31NnPUQfG6CM33QXyuTIb1hRR9nMeg61I2DN7PfjyH2beNapp+xDyuQj3wIO5zNSm9GYDzacjzQMNv9++ddTKVX398qnKw8yo+feCKmoaxrXIGL9wCIAAIA+0DNnTv+GnCA/FK43JomP9Me85ffh/nL6d5r+ynynf0Gc7pJpPPndOb3+LbmePURxEMPSVCOL2+djy7gxazuSkCBZ7C47o1mGz2Sxr3ZOsx0gvbZMvjcdfRLGZDrsru6jDAe9Ri6+T7ygPhPGNDpTG6yka0lmtMpsKKE3DhAK602S3RjN5idi7PB54KBWzqGwg/hB7yg4MwamrK1cyuthG+BXe7TMb3ozOjbhX3W/+aXvGe90mNxzdq9mbBpn3eEkuDf30TOa2dA4NnBdOxBWMTgi8aXjMmScGAu/HQEfR+7bxK9OPWUfokuNdlzktsXsChnnVXaalFmrAvw+LfeuTDp+vyR801JS73oqQcLIy+/vl89iHiZ0e2hviGLDunYpm0qluia4dgX13SkUAADAbvPqy5cvP373y8/qw9c//k39C8L5+PEjvX371nwCoXz9+hXya8H25Wet7/E0ZJ8CvY27DGRkw/vKzrdHZrNndG8P0nRKP+Qu+Ms+pEzbk68KA5efE2g+wtATXDLctt4+Lug/2gH5tQPyawfk15x3797R259/0+/dLAEAj0TIOqQnJ7/bp5kp7mInyAImDC6/trEreiV3wUP2QWXasnxfAtEnrpUxndhOm+scAACAXgJnDgBQS3S9oG5+42y76JA0OzRVDj0Dsa0ZGLVD49pe29gdfZG74Cv70DJtU77Pn436jcBknbbCdQ4AAEBfQZhlRyDMsh2YZm8H5AcAeKmg/WsH5NcOyK8dkF9zEGYJAAAAAAAAAD3m1XK5/PGHz39WH2RmTmaYAAAAAAAAAADsJj/99JOamSuEWX7+/Fn9DcLANHE7IL92QH4AgJcK2r92QH7tgPzaAfk1B2GWAAAAAAAAANBj4MwBAAAAAAAAQA+BMwcAAAAAAAAAPQTOHAAAAAAAAAD0EDhzAAAAAAAAANBD4MwBABoTXYxodBGZTy42dHPKaU5v+C9/1H2Ta8w9Kp/Tnvqy9IGILkYjesxiPCcd2G20DE5vQqQIAADgudNDZ04bKyPrcPXvm5vTTJqiEeBzH79nebO5odPc/ezD597KwLGvsy4qfGcO+74FucRHoKEl1MvYkacGz3nWRBelshN8ZFxG1hg2mOf1yyAc0Jt982cbHO/fczOMNzdXtBpO6XikP0MHDKrMp9Tv6h7Q0cmY1otr7pkAAAAATc+cORmZnBHNI4oifczHRKtZ0WGZLIimyzjdnMarWc7xcd0n29n7pAlicESX5l72sZwO+csxvTcGmBs9Kju7n9LSvv4sdxEbcpnv+cgnkWfNc2miyyM2FfzxkzHnd2U/i9OsFzSBQ8eYmYbZynwu4iPjIMSZkeeN53R5FFLbbWAD9JLzHqhfXaOcGhbmvvU+R9GSDm8nz8ih29Dd7ZqGhwflsn7BOvAsGL3n1ntFn+DNAQAAMPTMmdNGge2cjI6nJK7Q/bfYIIvoesEGzfQDpbbKiI7FYVp9SkY0R2eu+6zp9i417HzStEfnl8bvOZflbG7OabFmx+gxDSI1k+FyXn1kvKFv9/xPplwmzfqBvpszLxVdn0N21JakfPkCfnrsT0QX7MysxdkvevfPm+iCtP+SH9jQ7cnjOTVbZnNHt6xThwdl5XnBOvBsGNF7GVSENwcAAMDw/NbMbb6R+BD7b7IGzUDF6NSPaOavc+GTxhcVFsUu4jSOi3JiRtynx5Zj9IR4ydiERd1/s2bhdDnqHNeXwODokqLo0nLUcrTU4yx6RnslM7KZwQAzO5ib6SuE5uXCE10Tg5lw0NzMa1WoX9k1LoZ7r81fjEeeNFzGK/bkrNDDOqrKosg92/n8uvzVlF/JjC+qzYvF5u6W1rRP7ubpJeuAJ7X5MbKy06jjIhlcUeW0v3NkKiMnPuKZYX1teq+YvOxe7zUd0AEAAPAc6b8z9/2BDRjL6FWfh2T3+YrXe2oGzw130ud6xLrc4PNJE0rs3JyUG/WK7/QghXy4zhmRjlkzCWO00mwlhMxTxqMzE1ap8inrDyd6dhGzAvU00mM3dxdG7tFZAydaz+bQdJmEJu5d5QzO1YwmDyfme13n5xV6p4xZFcGchjtOqTr8VmbJ0xk0jzwlmHdn/43fjHZdWcTgz4drzscq1Dt916rz513+QLl+l4IO9yivMsLL1oF66vMjjhzLcH9uvtdh99x4JzIVp+tqL84PH8spDVkutj8nz9HZTp9zeHuu2nEd+ZEbqGGHVcYixiepA64HdO4pCUYBAADwoum5M8cdusRPNXKw7FFWY+gUQhh90rQguuZ7ykSVX+bX93v0ITYUxNgYrmkxSQ0YMXYSQ4IPWYu3XrjWBK1oZjl829sYYERnYtixW7KYyKwAl3XexJgEjWGjeiGCLzHyw5HQxFwdjtnATRx0HQa2vr0rMcp1+GhWD/ieJ+oiahbB7MhTjsyMThWVZeH2QFnW82y45uhMGfblG1PY+Qsof5BcTVizy2mFDtTgkx89KGC31SMppOVUZZ1NZnBAh2oSLdaKOMLCDp2WfJsZ+kJ6vkLNtubWU6sBnTU9vPRYdQAAAIpeO3OyQYkKUfzQxMGSTtR2fO6Vg5N1fHzSNMUYhgGOaHZjA2Ns5EdyLSSUTxmZBaNKRpPTcmXC/exQo8mCTQZxxFLHLySUSY126+FuI7+hmsFovIEHCIf1aykzBGzQTxrJXa/Tk0GBTpx+Ez6q9CDWMzkqNoIpEp6ndSeWb9Ggj8ka9hX566T8gUAHqvHKz2vS0Y2p/KJP8r0d1moP/skhA4DmK0GtaSyGTqcM6EB7c2ZQAGHpAAAA6umtMychLbOVbCCRW3dUNmpZFrZmGBx9UBtRVG377JPGm3hWzgqfCcY35C5kw5HRWerkiQEoznISEmQ2kPCR8eaGzrmAw+kymcVQ68T0lqDt17c8dxrqsRPZRbWF3PX6Pgkrix375uFsMbIZSaJnyVGxhjCHf560EZ5du9kQY/SXkxr2dflrW/5Sysr5onXAD6/8sPxiZ03v1BvP5okjx84b2bsJS/SE+tKbwdEJyW6VV+KdGufPN3IDAADAy6SXzpx25KTzdXT8gzdsUolNkzVpNjoGqWRzAAufUKQOwpX0qG7dzxHEaIO0MMNWa9ib0KvOwqsMPjJWeXOMQvs6oC+dtnqcx4QCZn9aI+y3u1QYr3LwQzdgsSgpV1Pq82RmO9YLum7rfZi8u3YSVO+z4z0r5K/j8qd41OWL1YEafPJjdgq1B7Yie/1h7HhVDc55lTsNUY0kxNIVudFkQAcAAMCzpXfOnITuaUcuv814jOkMF3pRuSKZJYp3g4zoIj+Ka2bK0lBGnzQNMYvay3an1LuaZQ0uvX7DNkjNesF48xTZ2S23eYDe/r7GwGiEh4zV7yGx4XiVzVN0LaGbvk7sS8ZHj8MYnRXXWeqd8a6SZ8QDJQkSdmtP5bQ2JOPwOKtcgjynYvOLDIF5imfUJYwuPysl5fUPm9Z5L8xucX70q2jes8r8dVD+ElRd1szCv1QdqMYjP8oRi2cArSPzPYvR8iYjtemM+aBwPUdm9LJhoipkl9v6mbzrjr6m8YAOAACAZ0nPnDm9UF0orG+wnB8ZqU1Db/gwu56li9OlU9Xr35Lr2XoRBzEsTTNih+Yk5D6js3TNmcrPjFb2pgOyeF52X7PyO1nsq7VxRac3vwEKHy4jSv3IuTvsyUfGavMTWadjPScbmvRy0esJRSbG4EvCt1Iju17GoQzo6IOewZgZQ1g7OukzZDc+/SP2BpnNoTS0TL8D7cIBJTxuOaWsYXy1R0vfzYWC86TXvmbfH31IeUPkqUL75nr3yvT592rGJnnPavLXuvwl+O1y+FJ1QLDeJXPEjnx9fnR0RDYU097xkts7mR20wzA5hzITalN8zoRuD+0NUZjRsRp8IK4l128GVu1aCgAA4OXx6suXLz9+98vP6sPXP/6NPn/+rP4GYXz9+pXevn1rPoFQIL92QH5ABrsuRjO6b+XwAxf6JwVkcCw7EFV2vh3W+ruCc4s6doH2rx2QXzsgv3ZAfs159+4dvf35N/3ezRIAAECMCeMr/UkA0I78mjwTKdL1bpNV6++iT5yLwKgOAAAAzxo4cwAA8ExQuyF2sdkLyKDDI/NhunqGLP19vW4oX1esf86m6ZpZAAAAzxM4cwAA8GyQtaplm0OBNohDl66X08c2Qh3V7pzOsE299hPhlQAAAGzgzAEAAAAAAABAD3m1XC5//OHzn9UH2QDl48eP6m8AAAAAAAAAALvHTz/9pDZAwW6WHYHdeNoB+bUD8gMAANAE9B/tgPzaAfk1B7tZAgAAAAAAAECPgTMHAAAAAAAAAD0EzhwAAAAAAAAA9BA4cwAAAAAAAADQQ+DMAQAAAAAAAEAPgTMHANgRNnRzOqLRRWQ+Pz7RBT//9IZz4v7sJqKL0YhCsq3u+4TlfAx8ZOcn3w7Y3NAp19FIjkd43k6V/ZnSvfx0+3N6gxoBAPSLHjpz2nBSnbI5XDbR5uY0k6ZoOPncx+9ZoahOyL6vZ4dUeZ1trDiOON8FucRHg06xXsbNy/piiC5KZSf4yLge4yTx9V3o7/YY0Jt982cDynR728bZ5uaKVsMpHY9SOZceW64ALYMLbrny6LbsZRqqXC/nC1qP5xRFEUWXR6xpWaodg6cfZNhl3O/dKe2eqtX15wM6OhnTenHteH8AAGB36ZkzJ53qjGjOHbJ0ynzMx0SrWbZRls5lsiCaLuN0cxqvZpnOOLpw3SfbAfmkCUWMhtlqzLeN78t5Wy9oUuPk1F43OKLL5Lv0WE6H/OWY3o8kUYx9H3M4DJwq/GTcrKwvA2MgzlbmcxEfGXsRXdNiPaax6O+nZ26msFO1TPRNH5dHIZodyobubtc0PDzg94eNwUvr2dJg0NCqPz7OMi8ieBS+08Oaa2LvtflcZPSe64rbpmvX67G5I65iGmcbUZAh26fMx2taTHbLofPqz0fvuSQreu7NJADgedEzZ04bS7Y9NDqesrlEdP8tbpEjul6wcTX9QKkNN6JjcWpWn5IRt9GZ6z5rur1LW3afNGFs6Ns9/zN+zzmKMXlbP7DJUUbT67QsstcFoGb7XB2yj4yb5vllsLk5ZwdLDP0liUiK+OmxD9Endhi5Hs7EYA28FtSgDP0hHR5s02EEW0cZ8fJ6FN+Ozd0tt/r5ATFQRfu+snv8+vMR6WYSrSQAoD88vzVzm28kPsT+m6xxNVDxW/UjbvnrXPikcWPCyO6/sasTo0f2qx2uZtep8C/urqbHHVshXjJuWtaXweDokqLo0nLUcrTU45SItC/HEjejzlc571yFmF1E+l8JPzIzp2XnFY6wXnvC0Bnup0JKc4MD5j72tZkZlNxzQicl8yRliY+WN9SG/j41bRIyIWquGes4DLcqTRtq7l+lA01kmbnGlT60vmv0UJdvxlovE28T9b071FQb8cXBDnebtZWyC5714dQb+1qHntTlOb53ks5xj1AKfWVdfcX4prOIZRIaSpzP4+u98AEzAAB4SvrvzH1/YGPKapDV5yEVImpe7/HZMsyaCrXuxZwq4JOmntGZCTVURq3E8E9UCNy8Jvwq/LrYCDkpdxia4injpmUFTCM9dhB9YkM2nlXQBuv69q5opK1mNCPHmiLXeTEaJwvat0KWJKRQwp1jQ2pwcMj5zDqdMkM45MxnRsJVOdNZDxk9T8MiWWd0nKl5zpL2rlzrwfwQI/VqL74XH8spDbl8dUZiFd91/B6VB/BVwM+ePJyY/Oh35dwyRJVxqiLDTH65/FPqLkzZ+/4OHWgiS7nGDrte7l3xZ/OlIrC+PfSQFYrPs2z5z6G5b1nYrQq1zA+UOEIst1P2sPrI681EHJ5P7zPnbF3yzrOjrpsQXXNfmZ/N9KkvwTedDV8zWfAT+Rq/sOry/lwPmN1TEuwDAAA7Ts+dOe78pUds5GCZNUtq1M84GYXOyydNKCM6U8aFrCnQI8bj+ZnHTFXgdWqdVNYISVnRTJUpPlyhlF3QtKygG1h/r1jq1qyCXht0S8XopzInO38+vuc8E7IkRrOsQUk2Dxgc0KEa4I6tRQm7HdPJyX7GmYxDQP10QsKsa/QnNmwdup11FJlCHkMxocT7b5q1CbIhRyLEvKOtw2yz74veoMFdfzb591sO/f6lhNy/qBvhstQzxMPpcfI8mZ0WnSmnqr499TCE0bEKebbLoGZec/3LdsoeUB+cn2VOb1zn7PfMP89l7UAdWZ3T3XJaXv/6alCv4vzxA8WRq84639unP1cDZmt6eOlrAQAAvaHXzpwsaFZhhB+aOFhiKKQjf8vpveqMsiN/PmnC0KEg6UJs2aBERhzrwnTCrjMdYqmTy52YKZM+rHA/6RhNhyyjo2vliJnPfNRkM0PTsoKOcG3coEItHWtZyhyqwnm9mYRrkEDPbMQj2gM6EGsxDrOVvNAevZbnJ2smrRBQJ3qNoA6P8xxwEKO2TLczxpwcYtCZr3YNE2ar3pckv3zkp3Oc5N9vOWRQxSLk/k7dCJRlSdhwlpD69tXDEIzOWut+JbpBb25js4Wyt6pvHzzz7D2wkienc8spccdhhWr61ldgvcrgDctIZl3rfdDu+3MAANgFeuvM6bAV2UAit+6obFStLGzNMDj6oEZlq0Z0fdJUsrmhc+5B7Y5HrZ2SIceqMJ3Q6+JZuZMGTq4KS0o75KE4y9ZufOr5PjJuWlagaajHNno9V95A1DM0zXVYG53lpOvHVKilmVWQvJAyil/T3tCEsmVCQN0onWG907vjSf6bhlmKMcsGLNnOXtnmM4Fk1oV2i8w2xO9eelSstQyk2f23J0vv+g7QwxAy4cHOzW22qEfMdup7u3l2MjiiD6qzNLOKvvUVWq/DKc35OTIAENqntO7PAQBgR+ilM6cdOen4HJ3c4A0392JfZc2rjY6Hqu/gfda/NF0jowxxzkU+E3XroAKvU6FrNUZyK3xk3LSsQNNWj9mA02smzfoX+xCHOjZYQzH5coWUKb2z3w0VyqVnAWVtmdYFPfsh16uyeM4ESJiYHlxomO94lrLJAEcp7X4Xr5KS+u+MNvdvIsvA59XWd4gehmCFH6p1X8NDyvpyWyr7Nut7K7ofiG99NajX10c6ZLXxzwbl7xkwYAYAALtA75w5Cd3TjlxZfLxZL7A4Txv2ZJYojuGXzTjyO+3p2aw0pMYnTSDx9tdX2QXt+cXi4qxmwow8r1NwWXWEpb1eoWs8ZBySZ+DAR48rqFozGdeN00quI/55hNzsanSh38uMwagdt/XtOetkWudqg4H7T3TNFmZ5iCUjIb/2Q9oYWQ4jMbooCTULQO18t5Wf2ohDDq36F0QmnWyA0uL+jWQZ63M6CxIPyiUE1XeIHoYQh1rO1H0Kbf22yr7N+m6r+5KH4HXVeg0gV4QZcPWtr2b1OjqTmUaZzS2buffvz/0HzAAAYDfomTNnOgimsLYgt9FBGqbDh9khLV0ALh2GjpdPrueeQhzEsDShmA1Bcps06F3OqjZ28L8udpZOKvPo2CDBZTCoHyJ3h/j4yLhZWV8Gej2hyMQYVWy86M+pwVEv43KqZ2e1ccnWXYnhU00cLpt5B2f3Khw3P8CiQy3XtLZHv9W6uRWt1jVOvWx6QLFc5Bny/jUNOWN9NDv4xfeTXfvUJGULtrnznchZLz0y5Zfjao+WrTdh0jS/fzNZaoM7bXtkd0VZR5sQWN8hehjC4OhEDXbI+1NsR7dUdmZ79d1O97VzU0e+T5nRKrPBj399NatXWQ8n60I5HxkvMMa/P2+1Qy0AADwBr758+fLjd7/8rD58/ePf6PPnz+pvEMbXr1/p7du35hMIBfJrB+T3VMiI/4zuPZ1sAPqGmkW8n3Y2iLDbvMz3Gf1HOyC/dkB+zXn37h29/fk3/d7NEgAAnhYdFub87T4Aeo/ZcfYp19s9JmZTpurIFgAA2C3gzAEAQAtUWN56QddNYlYB2GE2N1cqXLJN2Gp/2Kif9NnuenMAAOgeOHMAANAKWR/abp0WALuIWr/2YhRb/w4dwqUBAH0DzhwAAAAAAAAA9JBXy+Xyxx8+/1l9kA1QPn78qP4GAAAAAAAAALB7/PTTT2oDFOxm2RHYjacdkF87ID8AAABNQP/RDsivHZBfc7CbJQAAAAAAAAD0GDhzAAAAAAAAANBD4MwBAAAAAAAAQA+BMwcAAAAAAAAAPQTOHAAAAAAAAAD0EDhzAADQE6KLEY1Ob2hjPvuirruIzKfH56U/v5LNDZ2OOH9yNKjb50VEFyyHp66qpu9ZORu6OR3R6c3Lrl0AwHbooTOnG3vV8ZnD1fBvbk4zaYoduc99/J7VlCSPXp2GX15UJ2SlyXceBbnER4OOq17GxfzAWAmjrj6r0PVzwZqTR+vSrhkWTt3s8oUD28N2SMwBw9UHNvLPF7QezymKIoouj2hgvsminYFUvqf0HMW7ubmi1XBKx6P4s6u/2sWy1/XPAzo6GdN6ce1ojwEAoB09c+akQ5sRzbnTk46Pj/mYaDXLNpzSAUwWRNNlnG5O49UsYxhGF677ZDsJnzSNYeOH+3Aaj4fmRDV++R3RbDXmZCYdJ1ovJg6jykoTH6VGhBs/GefyI2nWC5rAofPCvz6fEWzILW19EZ1qoi/RhdvoKzv/XHiC8qkBB24M9q32KYqWdHj7zHW1E77Tw5rVfu+1+exC+r0JLch6N5aHdHu+Q+1oJ3q3obvbNQ0PD3J9Uba/mo/XtJjs0jvsZ5fQ6D2XZEWf4M0BADqmZ87cgI4uIzozo3bC6HhK4g7df4tb9oiuF9whTD/QUdIjjOh4yqlWn5JRsdGZ6z5rur1LewifNM3Qo7HEeTzeM6dqqM0LO4dXK7GFj7m0htGZ6lTWt3fNOn012u7qNH1kvKFv9/zP+H2anzjN+oFNGFDJNuqzd8T6ckutXzmwHdiIn7GejtmQtdunuK2+TBsI0Bjj8NlOzuCILgMH4HaezR3drod0eFBdqu764a7wsUuEEb0XJw/eHACgY57fmrnNNxIfYv9NtkMYvNnn/9ePiuWvc+GTporNzTkt1mM66cDQSfLy/YG7t2LeXu9twXnykvGA1Mf7b5bjoUdesw4ecPKY9WnIh3TmQxzV93wuSWdmzFznb9TfxRBPlSZgpk3rVA5HSJ+dVfUM8TBYgouJ/l5miMrOJ6jZBX1eHbl8uspZVo4kTXyUyDITRua4X+Y+uXvkUWmrysfUPY9vkn5fliZhQzd6xCEJi6sjqLxyhMjNzntZvjPlc4Qgd6gDdXqqnzXjFpNrbDFR31fNZK4fat56j7rLyI0P+3mVZau4t0pfpnc5GeSqM8Pm7pbvsE++3WuhH66Td4xvOotYblX144Nqv61BZQAA6IL+O3N5o1d9HlIhauX1nhopc6NnytaVRolPGg+4IzlfrGk8P2vh0DjyUlI+bQzfU2aAsC2eMh6dmbBKNbsnawomyomdZ4fwgYvHrE9GDLKrvWUSJhQtpzRczYpGDp+bkWN9T+78kRqZzg2esO6L7T8+8Z9R2KjpXQsxKvMhffOxCmmKDS2ZxZZz7GUkYcAyQ1R2XlDGmoqU0uclTHBKjpDgsvJbhMhy8nBi0ul35TxnXNthtsu9KzULVkZV+RQ1z/OWQYKeMeLG168+PcrbVG4TMco/vc+cs++t4OvSNFy24YpmVtm61AEfPZWZdpVX/nM41eV2z2TGUQ+c/5JQRp+8S5psaLyEwp5n7+coW929y/WO23z9wOS6vSvXGl7Ndx1vSlUBp0J0zX0fS+293Y34yFvwTWfD10xUn11WPw5KBuO21X4DAF42PXfmuLMQ66aRg8UOUbKg3DgZhY7ZJ00YqiMaz3MhST7U5GVwQIfS31/ZhgdfI9ZzATZi1H3iY1vrD0Z0powVGbHVI9DtnNgXRFB9VpGvazl0XdiIQZYxVOLnF6ayy5zx3HnH9XrkPWeEVWEGPtj7M+G8pvz59ycOP228uYAOG87qpt6woBjiWVb+FG9ZyqYXyb10CFYaQhvRJy6qHWY7OLpU5WxMzfP8ZZCler2XReXzA+TG7f0ydx/XuUI4ciZNvmxd6kD3eip1r5xb1Zbm22yfvJv1aJnQeE5zeWl9FvJla64XReR59n1sTFi+c2Ag24bpLt8KP/eWd4N6EeePH1gMI66iwi5Rg3RrqptkBQCAEHrtzMmmICsZDfzQxMGSjiUdnVtO71WHkR2d80kTAHcMaqTdv1ewqMuLfG+NUqtjQg/73EsVQlc4D+Y++rA6dOm84usnMgKahs7IUReOYqNGdPWQrsnzUI2A1oWLASGkPqvI17UcejYgCxs6md3yZMDAfGVTFiJbOD+gA22JJ4aUV4itXd54VD95X/RM0NjhDY6URd9wxNuEDSvdTMrPh2sazCtE2FOWVZSEMm+NEBnkqA3/86YDuVWRdxRsw7pTHdiSnso6OXl/E6fOzHL55F2tR/PQp3zZWugFl1bNKOoQ0jYDhrk2jMvPhbdCPX3lHVgv0hZxOWXWNKTLbmeXAABAOL115nQIkoR15EYWy0a+ykIDDYOjD6T2WqgYNfVJU0UkQ+25UUYJ34gN2BAn0Z0XmQmzOj0+jve4K/YIXUlQoT9ppzmUTikJyzGjkz4yNrMqdkeoRpdlCHTlCJ0CDjqoTy/EiGbDmeydJCUMzXzdkMHRCZthK7oSvTbGpMuQyiCzJ1Z5MzM1xrAsJ8TJLSKj7/Fz0yM/c1HHdmT5WITJ4DXJEqDsutim7IbcOtGBLespv1h0qaZos2HM3eivm6b3Vm0+p9U7UEqfVx5mqfDRJS7/B9X5mZlBX3mH1gu3RXN+jjijvv1VqV0CAABbpJfOnG4wpYNxNJiDN9wkS5+Q7RL02huPTtTHUG5oTKu1BbkOUWarYgPWOx7fpjIvZVs9t8RHxiVrBsrWggEftlSfsaMVsJbNjzTcLZIQS1fYUQhG71y7wamBkqZObok+N6IrWXaZJx8aPc/Mvq4XdN12cGZrOmiRdxTswacu5b0tPbWx21GfvDctX0dyUX2fGhws24TMbJjVBF95N6iX1ya02ecniSrtkpiaQWUAAGhC75w5Cd3TDWZZDLsxIBfWwu5kliiOs5fNOHIjhNG1CulJDWWfNNtBOoX8mojwvKQj3R86HyL0kLH6TR3uBDNrviTbjsXrwIMt1qfDyIku+FmsX21R4Uts7M9EN1q/N+lGEJmRchW+nHMEymaPnefjcLDcZhAScpzf/KKOzmQZv2PpzHtsLFZSVu5amskgjhCQMLz87IXk1zvaYIs6mCAREEkmzbqmZD1mhzoQoqc+FPLAbYFsgJW0oz55d6WRNqXOSfGUi0vvJI0tgBpHxn+nXr2OL1939fJuVi+jM5khtsJaHdTbJRrvQWUAAAigZ86cacSZQgy/5fzIKGAa1sGHWXuTznxJo67XnCXXc0ssDXFYmsfCJy/SMVvfy3qT/XnJbmuOTTFcBotao+EeZfSRsdr8xISQxs/Ru/OVLYIHKSH12RauKxk1ZyMnqSeaqxHp1oyOTahc/e9H+RCH6mbe/9m9CgXOGFGsu7JHQ5wuMd5Kzst99VIc675Xe7QMlnd3stRGZPquyk6Paia/irJye9BMBnotb7IeNr6OD8mvf1u5RR00SMi37Aiq7z+jlUREWErTnQ7oe3npqQ+jM1oe3mbWzupw1LQd9cl7Mc2Ebg/tDVHceMnFpXeysQjXYnKN6rPKZ63Kd3rM91dcd5nNdHQefeTdrF7M+mXJh/OF8rNLBN8dOwEAIIRXX758+fG7X35WH77+8W/0+fNn9TcI4+vXr/T27VvzCYQC+bVjd+WXzig2MYoBAC8FiUCZ0X1mUPA5sbvlQ//bDsivHZBfc969e0dvf/5Nv3ezBADsOI+xFgoA8AzQYZCFn5R4LkSfaEVjOnmWjioA4CmBMwcA2BpYIwkA8EXtgNvFhjo7x0b9xl329/EAAKAb4MwBALaG3sEVayQBAD7on2MJXle48+i1pc8zfBQA8NTAmQMAAAAAAACAHvJquVz++MPnP6sPsgHKx48f1d8AAAAAAAAAAHaPn376SW2Agt0sOwK78bQD8msH5AcAAKAJ6D/aAfm1A/JrDnazBAAAAAAAAIAeA2cOAAAAAAAAAHoInDkAAAAAAAAA6CFw5gAAAAAAAACgh8CZAwAAAAAAAIAeAmcOAAB6QnQxotHpDW3MZ1/UdReR+bTb+OS1qRw6Z3NDpyPOixyN8rOhm9NtlyWiC87fU1d/93WmZXd68+RaAAAAT0oPnTndManO0xyuTmpzc5pJUzQOfO7j96ymJHn06uD88qI6TCtNvqMryCU+GnSy9TIu5me7Rsvzo64+q9D1c8Gak0fr0q4ZQU7d7PKFA9vDdmqSw6V7zwl2Js4XtB7PKYoiii6PaGC+sSlrcx/r/dvcXNFqOKXjUfzZlZ9T2mWfKMlzpv8Y0NHJmNaL62euZwAAUE3PnDkZiZsRzbnjlM6Tj/mYaDXLOjbS8E8WRNNlnG5O49UsYxhGF677ZDs0nzSNYeOH7QAaj4fmRDV++R3RbDXmZCYdJ1ovJg6jwUoTHyWGSBl+Ms7lR9KsFzSBQ+eFf30+I9joXNr6IjrVRF+iC7eBWnb+ufAE5VMDDtwY7FvtkxzL6T3Nduld71w23+lhzSq799p8riCj1/q4PJIWlx2SS/4c2P76s6G72zUNDw9y98/2AfPxmhaTHX0vqvrK0XsuyYo+wZsDALxgeubM6Y7vzIwwCqPjKUkTf/8t7oUiul5w5zX9QKqvVIzoeMqpVp+SEbzRmes+a7q9S3sznzTN0CO6xHk83jOnaqjNC3d4VyuxGY65tIbRmXL61rd3zQwqNdru6uB9ZLyhb/f8z/h9mp84zfqBzSBQyTbqs3fE+nJLrV85sBVkUGe2GqpBHbt9EgZHl1t0UoAXmzu6XQ/p8KC6Frrr27qmrq8c0XsZ2IQ3BwB4wTy/NXObbyQ+xP6bbOc1eLPP/68fwctf58InTRWbm3NarMd0knpCjUny8v2Bu+Ji3l7vbcF58pLxgNTH+2+W46FHibMOHnDymPVpyId05kMc1fd8LklnZl1c52/U38UwO5UmYLZG61QONchgnmUOO6vqGTP2hFmCi4n+XmYzy84nqJkbfV4duXy6yllWjiRNfJTIMhPy5rhf5j65e+RRaavKx9Q9j2+Sfl+WJiF+n0+sQZ0aauouQyYvHiGbFXn3kU2GunyqZ824teM7Lib196tA5S2fV35YUvd2HQTVDxfj7pZLvE++XVahb/Otr5B6NcS6WCU3n75StYnWQC0AALw0+u/M5Y1e9XlIhciX13t8tgyz9sFaV1DEJ40H3OmdL9Y0np+1cGgceSkpnzaG7ymZuOwCTxmPzkxYpZrdk3VaE9Uxz/ND+KDIY9YnI4bj1d4yDQNbTmm4mhUNMj43I8caodz5IzXSnxs8Yd2X2cbxif9szUZN71qIMZsP6ZuP+fGpUSiz2HKOOAdxGLCEtJWdF5RhqSKZ9fkoWtKUHCHBZeW3CJHl5OHEpNPvyrll2Mp97DDb5d4VfzZfOqgqn6Lmed4yiFGzPvw0nzBDwaPuEjivo0/v03wMV5Uhm3V5r5WNjU8+R2d8nmXIfw6nuq5L79cEh54F1w/zXceBUl0NRdfcn3Bp3ttNs299hdRrDF8zUf1ghdw8+8pttYkAANAXeu7MsYMg1k0jB4sdItlFTI0iGiejYJz5pAlDdZrjeSEkqZ6avAwO6FAGKK/sjp2vEeu5ABtG6j7xsa21EiM6UwaPjIbrUex2TuwLIqg+q8jXtRy6LmzE2M0YVfHzC1PZZc547rzjej1LkDMYqzDGXDrzY8qff3/i8NPGGyHosOGsburNFYohnmXlT/GWpWyckdxLh4ulIbQRfeKi2mG2Erao/JGm1DzPXwZZ7NmceLYlORJHI7DuZI1ZkrAuH83zXmRLOqYGtSy51La5eT1rUkYT6r7/hlPmybYLuhu1Qrq95dBAXuL88QPFkctck8O7r1QDX2t6QOw+AOCF0mtnTjYFWclI64cmDhZ3hLLw3IwkqsX63KllRxJ90gTAnZgaaa/tnVzU5UW+j2fC4k56Qg/73KMWwmw4D+Y++rhMw6Sko42vn8hobRqWJEdd6IyNNuzSjVuW06Eara0LFwNCSH1Wka9rOfSMQhY2ypLBAv0s8aMKlIXIFs4P6EB7MInR5xVia5eX9Y9k1iN5X/SGE2OHNzgSz6Tp6LwJG1a6mZSfD9c0mFeIsKcsqygJZd4aITLIka5X5lqXdXJGz7KOZ2Dd5R2QKoO9Rd6LbEnHxDnNvINWm+sir2edllHItQvLKXFDbznfvnIIlJe835xnmc2s7AZb9ZUAAPCy6K0zp0OQJGQm1ymWdfploYGGwdEHUnstVIy8+qSpIpKh9tyIqISaxAZsiJPozovMhFkdNB/He2wCeITZJIwkfCjt4IfiLJuwJDlU3+ojYzOrYnfaytATC88VcgYcdFCfXojzwQ4H2QanhLaZrxsyODphk3FFV6LXJiTPZfRlyBm9mRkuY9CWE+LkFpGZgvi56VFjdBfYjiwfiyAZDN6wxLkN8pkS2XLdCZ3U3yPksw2NyphZt1zC4Ig+qA7FzPL5yiFUXvx+z/k5ss6wqg/osq8EAIDnTi+dOe3IScfm6MSMgWGPFgt67Y1HR+xjKDc0ptW6jVxHLLNVsQHbaM1FZV7KtqVuiY+M82sZY0rWggEftlSfsaMVsJbNjzSUL5IQS9bzVutNjd65dq5Txl9TJ7dEnxvRlSy7zJMPjZ4X72B7VR+mHVp3eQekajCuS1mF5vOxaFRGswlVE3zl0EBer024cNXP/AT1lTUDtQAA8NzpnTMnoXvakSuLtzcG5OI87SiSWaJ4TYBsxpHbHS26VqFQqaHsk2Y7iLOaXVPRJC/pDMGHJk5iJR4yVr//wx12Zs2XZNux0B54sMX6dBhk0UWD0EAHKtRqvaCZ6Ebr9yZ2HnIzuyokK+dAlc0eO8/r+2b0WZCQ44rNJZx0Jsv4HUtn3uNBrErKyl1LMxnoCAEdip2daTHrtRIC6k6QGZgkoVkbXbprpmfevWQTmM9Ho1n9+O9+q9fkpTL2lUMzeY3OZLZa9MZjl9IavAdqAQDgmdIzZ850OExh7YDl/Mionv4RVPOdWXuTjuZJB6TXnCXXc88jDmJYmsfCJy+OdTr785Id9xybYrgMgsERXZaE8PjIWG1+YsJi4ufo3fmwCUo9IfXZFq4rs+NiUk80z615asjo2IQY1v/WlQ9xqG7m/Z/dq1DgzOAO667sDRGnSwzNkvNyX71syLrv1R4tg+XdnSy1wZu+q7JDppqdqKKs3B40k4FZy5uvE9FXCTW1rvWuO0bCs2X3Tp1uRiuZkXGP3im88u4pm5B8PiZN6qd8p8d8H8AyHtsb5PjLoZm8zJpgyUeIkjrw3bETAACeK6++fPny43e//Kw+fP3j3+jz58/qbxDG169f6e3bt+YTCAXya8fuys9aQxbsGAEA2iFRHTO6zwy0PSeee/keB/S/7YD82gH5Nefdu3f09uff9Hs3SwDAjrO19XgAgHp0GGT6ExTPjOgTraj6R8UBAOC5A2cOALA1sEYSgKdF7Sq7XtB1u2jGHWSjfuMu+/t4AADw8oAzBwDYGnpXOqyRBODp0D9x8pTr/baDXq+J8EoAwEsHzhwAAAAAAAAA9JBXy+Xyxx8+/1l9kA1QPn78qP4GAAAAAAAAALB7/PTTT2oDFOxm2RHYjacdkF87ID8AAABNQP/RDsivHZBfc7CbJQAAAAAAAAD0GDhzAAAAAAAAANBD4MwBAAAAAAAAQA+BMwcAAAAAAAAAPQTOHAAAAAAAAAD0EDhzALxgoosRjS4i8wk8KZsbOh1xfchxekMbc3oXaK4nEV1weaBiTdjQzelj6UI/6+mx2i/1nNJ60PV0emN/6zoHAADboYfOnO50lMFjDldbvrk5zaQpNvg+9/F7ViiqY7DvG9JZRxf6GmdG6vNbkEt8NDAY6mXcsqygofyMEWhflz+6UOQKUt04pXJ7JtVXGD1cZ+cLWo/nFEURRZdHNDDf2HT5/j4Gm5srWg2ndDyKP0v+L7jm82hdgB48De56yunYltuM/jKgo5MxrRfXll67zgEAwHbomTMnRuqMaM7Gjhg8fMzHRKtZ1mmRjmiyIJou43RzGq9mmc4ounDdJ2t4+qQJRYzz2WrMt43vy3lbL2hSa4wZA322Mp+L+OfXfr45SozHMvxk3LSsQGguPzYkLuNr+BBFoKFVV3ycGatt66zp9s6dW2VAmr/Bd3pYcy3tvTafq2j//paiBovatXEpG7q7XdPw8KCbvL04zHvcVd2WUlJP7NwtEx0z7Tvabjej9/xWruiT7bm5zgEAwBbomTOnOzfbDh0dT9lMJbr/FncxEV0vuGOafqCjpGca0fGUU60+JaNkozPXfbKGp0+aMDb07Z7/Gb/nHMWYvK0f2JwrZ3NzTou1GORLkuQuOs+vCvtyGXY+Mm5eViA8B/mNacr5dY9OGwNyOuVU4FmyuaNbbrMOD+DK7TRe9RS3PbfUuPt71ozovQyeZr05xzkAAOie57dmbvONxAbef5PtmAZv9vn/9aNk+etc+KRxMyCVjftv1uimNmqzRnuRwdElRdGl5Tz50zy/JXjJuHlZgfC48suEVblG3+Pw3qo0Dt4cHNLQ9d5F12pw4vDgjTmRo+Z5Kvz0InLn277WlU97bZo58hFk8f3Vv+Y+N+rvYoigSlMlj7rnqfzOWEpsKy8m6vu24YZJvuMjV8DS8qmZ/zUtJvp8Ph+1emKxubvlO+1Tq+YnoK4a6YKHXmfuy0ehbraYR3Wdda7yPgllYdau8Fb/etLte5ZEf+IjV3D5XuSVlaEjHzX1EJc7eV6+zJnrS97R5Hs+8hXE1NazRZzWTvN6zx7M1LjOAQBA1/Tfmfv+wB2R5Vioz0MqRCu93uOzZZj1KtaagSI+aeoZnZlQOTXjJetEJmzUjmneedhbN/l14injxyvr8+TR5Lea0eThJA2n4meeW0aKMlxUBK98L8eSpuQZLjs4oENlz2TNmegTOw3jE+fghPfzHPmeiCH26X3mnF0WZfRNFrRvhSNLGKqEaheMN77/jNI1bEdqpjvnmLIhf6WKUhIK5/O80Rmf57zyn8PpUqW5bDJqYxDD9WpP30cdS843l6Vgv+bLd6bzZofkZvJRoyd5vuu4UfIJHHUSWFehuuCjZ5ImG06+pMPb8zRaYct5dFJZD+LIcTuxb+qVD1WlrF3z6Mw5CORbTxsVKpDiq2cyQJHmVyJLVjTLydj3fbf1NdFMPp/KsHh/n3zW1rMN1/lksaYx17n9fmhn956SICHGdQ4AALqm584cG7gyktzIYbFHL42RXFib4JMmlBGdSQfM7tBiokfjx3N3JxuOb365s1Np4qOrNTJ5tlnWl8AjyU823UgcRB0atL69M8aQDqnNPlcv7vcLuTJpV1epjsUO0HtXSQKeJ2t6cvl2nUvLwu+HevA8E44szpQYvMVw0Jzj7HBM9azGmJxFCX6eL9Xvr4RbZ5ywEoe6UL46KvUkjwkT3n/j0f7IofU7JVB2wbrgo2dxKLAdTi6h/nGExLbzWEJlPei1l/a7NVIPKnMoqurJgt/Zc5aXPQDjrWeZMuZlHNK+lOhr5f198llXzxbivLPNIY5cIStqMHNND3YMvOscAAB0TK+dOdnwYyWjyB+aOFjSWMejcBEtp/fKwMiOpvqkCUONQuphSHPPoRrFdYV9hOObX+4UTRp9WJ2WdFaxgTVZcDeUhlzJEZLN7Zb1+bMT8jMhteq5sV7IUbERTwG1EUC6dlM5QGyAOQdgunheKUVDN8Zp8BbCWQd0oK1AY6TXhb0GPs+bivdXYQ/qyCEDO+YrmycLd87nXw4ZtLDZluwMPnqm1pJVhalvOY+NeE06si9tI9QseJNw13jmUA49bZXbOMlTz/KOou3ghLzvZfpadX9FTT5r69kg8uB8yey5y6cEAICnorfOnIROzFYSDpQzZMpGwspCAw2Dow9qY5Gq0XKfNJWY0U27M1Br4WQY1xGe0pZG+VUhX8bAknAU/s/eBVHl20fGj1zWZ8eOyU9GohO9SA7HyLUTM3ug9NBsnlOzw2G755VgDMdyPNYNHZ2w07GiKxkgMUagy5hXdPC8cMRwZWOVptZOhBJ6Zr5+bDJrPgN4JNm10rMnqV9PJPTQOC96R9yaGX1XPcmMlyWXzOxWx3q2lfdd0WE+WR5zvlDCRtF/AQB2iV46c9qRkw7A0dgP3nAXKn1TtmvS8f4enavPGo+m60Dy6/tilHO0RdqsW3HhI+OnKutzYVfkV1LXoeidVVf06eIT/39MJ2VWWkfPc2LuXQw3NLMXXu9JGtYWVc0wCp08L5DYwSxbw/domA18mrJt2fnoWV2ap6jfOszOlJmfIal05BrWU4ie5R1Fe9DPpx7qqLq/Tz4D8vD66FKF0Dp/8sd+bozrHAAAdEzvnDkJPdOOnCNmXRHPAliLl5NZjmPTqclmErkdr9Tuetz/JjMGPmkCUeFm3BFcZRd2R9cSzpiuuxFnNXwd2xbyW4qHjD3LCkrYGfnpLckzdS1IOG5+g4Iq4nUqK3l5q8L7OnqeE7O9en5mk++t2hRPB0iF0K0XNBN9r3y3unleEA4HI7ooCX9zUTbr3gC1k1/jn9HYtux89MyVRmZ64rb5Ceq3DlX/2dB4dVS8O43qKUTPJDwxEZBZ556svfOphxqq7u+Vz7p6zjI6k5k9kXG2v3UNGHsPIgMAQAt65szpEC2hEGNvOT+y4Hk+tjo0E++fholI463XkyXXcwcgDmJYmlDMhhb2WgQ+fMJg9PopSW86oiSMJu5QQvLr2IDA1XEOjuiyJNTFR8ZNywqE3ZGfhHcup5Q1EK/2aBm0GZBZb8aUhiUaunmemzhUNdN+zO7VTIZ7cMjB6NiEadX/hlonzytQ9f6y3pjd+uLvZAdAmU3wgt952T8izm/GSQmk7U5+25Fdio+eFdNM6PYw3Shj23kMR6+Zy4YtsvPh2h3S0KyeAvRsPKfl3pVJN6NVZsMSv3qoQkLRy+/vl8+6es4ia9NljSe/h9YL4toVtPWOrgAA4MGrL1++/PjdLz+rD1//+Df6/Pmz+huE8fXrV3r79q35BEKB/NoB+T0m1jqcDhzM54tEC8zoPjPIA7aJDPpNFvuFAZ+y85rt1ZNaEiE/J/A0nu0j4pJhf/Qf/Uc7IL92QH7NeffuHb39+Tf93s0SAAAenZ1Zl7brmPC1uq32Qcfkf6TfRLSUhjejnloTOdYCu84BAMAWgDMHAAABYN2nP2r3z/WCrluEawJ/dLig+QkTE1YooYcyO1Q1O4Z6asNG/d5guiZfcJ0DAIDtgDDLjsA0cTsgv3ZAfgAAAJqA/qMdkF87IL/mIMwSAAAAAAAAAHrMq+Vy+eMPn/+sPsjM3MePH9XfAAAAAAAAAAB2j59++knNzCHMsiMwTdwOyK8dkB8AAAAAwMsBYZYAAAAAAAAA0GPgzAEAAAAAAABAD4EzBwAAAAAAAAA9BM4cAAAAAAAAAPQQOHMAAAAAAAAA0EPgzAHwItnQzemIRqc3/Nf2iS7sZ5U8e3NDpyM+L8cj5Ws3gDxAOdl3B+wCj1Mnj9tGu1DlvIjMp8el/tlPLx8fnlKGj0H+XXicdwPk6aEzF9FFbOCYw/WebG5OM2mKL5PPffye5Y1tnDmOunurl8S+xn5hPO9dkEt8NHj56mVck2dQSzv5mc4uuf6UbnZW+JzX8wWtx3OKooiiyyMamG980froKKN5N06fsvDRRaD828ujESqfrCsljZHPO++TJqa0zuK216Xvu1CfnbK772mhLs3xfGS/Hcrkhv4vr+uOo6K92B12txxu3dvlvj9Lmv+qPKe2OdoiTc+cOXmBZkRzNm7EwOFjPiZazbKOkCjDZEE0Xcbp5jRezTIvV3Thuk9WeXzSBDE4oktzL/tYTof85Zjej3QyF2LUz1Zjzk58HZdpvaBJ3DkE3du+jzkCjUU/GdfkGVTSTn7yrkxoQVNaxtcvD+n2PL52QEeXfO6xnIQMrmd/p4c10XDvtfkczuDohDV7TYvrbCcaXbNTxN+cHD1+Sf3YjjzCMMbJbGU+F/F5533S2AwODmnItXN7l9PozTe6l3/Xt5T/ir4/8BVDOjx4ovoMdsyrqHtPd4Fcf7GcEi0mcExqadvPPmIb3alOV2HKFMtDjCp+l9P2go+zCkMoww70YZ2Uw5OgOsrqnn5lW05GPDqOfsGwubmi8p6qhjI5Pto7sB165szpF8h+R0bHU36FiO6/xTUQ0fWCu/rpB0pttxEdi1Oz+sTfmjNnrvtklccnTXt0fmn8nnNZxoa+iWWTSWPKtH5gs68Mn3tXoEbAXcrtI+OmeQaatvIzzsDhQdrRicP/JB3fYxHr4FWqs6zDV9zqD6fHlhxBns3NOS3WYowsSURYxOed92t7MwwO6FBU+vYu4xhs7m5pPRw629vok1ToIT2VL9ctPXxPJX9sHQ7XCzrvq+UDwAtCD3RKM9wXb25MU+431otrR7+xobtb6WemqkxA8/zWzJkR3f032a5w8Gaf/7+iOl3OX+fCJ40veoSBjajjKlNzQCr7998sg0crdJWj5nfvBnjJuFmeQUw38ls/VLj6EsJpja6rzxcR640VphF/r0atcucMcp2EOmSuG124jXdD5tnq3jPWHM6vjPjz9XI/lcZxn3y+bfKzc2pWbjilD/lZOUdYcnbU0sxU5YYy889WnzmNzmv2uxAy9y2RR4JdFz7P9AhLHBxdUhRdWk5YDp93vlHbO6AD5c09ZAYovouHs3+oHb2MDkekfTnL+WES+ceHVW/6uxo9yulDrtoT1DVq9pJ1bKLTZuRaq1duqt5TJzXP0e9irsyukWdzH588ZmCH7oQtqYKxtaV8KbnzB2fbVEGVXgi+983cJ3ePpvg8W6XJ56dGxjqv/u2mOl+l00yt3EPbpABC5KM+19anadvj75PDyCwn346qu1aGut6sw3qwTx35UIj08Ki3qnzVoa/110WbNypqw9FvRNdq4PHw4I05kaWJHMvOJ9TISV3Pz0meXVO2bdB/Z06F3FgGhAnBKUQnvd7js2Xwyy3rU9joK/d7fNKEEhvnJ+VGlGF0ZkLsVKcn8cITVugxzUun8v3vHYynjMPzDGzayS+eEZlx45IzlKrg9JOHExOeET+fG6dP7zPn8iPy4nSk18nszopmvg3a6Ezfl/8cTpfqHpestHomPNeYc0crM23jk7KZC2t2LipJKw3zZEH7Vgi1hMlIuHaTDlJkNqMO17aVyENQBoGK/o7zzrIm39DbFvi8843aXvYLCp22dtjG74+0o2fP6imHMRtiKR3o1Z6Wkzpk1ojrJO7D6/WI3y0dG5rIdO+qaIAIEq2RD6mK66aZXjV4Tz2eU5QpX8ZCHfKjMjOdqs6qQ/zLeL0ntXpPaVDMlvPlaJuqZgbr9CKh5r5yHzvcfbl3xZ/Nl20JLJOPjEPbzUqdFmryuNU2KVQ+QuU1Jqx537TXfKiis67NozN+G/3bgiA8dKyyDauroxpkyZAM7Nvtpk+9eb9DJTTrww0maiM/m6giM0rs2qZyrJKvt37zczq1AwLpuTPHL560qo0cLHt0xhjJhQrwSdMCNcLAeunVk47oTBoB7uIWEz1qP55L41NC5b3Z0FZlio8AYz+IwDyDHO3kp2ZbpDFT13vWM79Ly8RZHNF71b4Vz+XD4rJpBnSkhu0d651CcDTmKvwub+TlGBx9YGeSyzxzDb7wO616knkmhJpbc9Wpu8M66vB1sNuiwxizOuAha7OeNqTzf1QGb0jN3cX1HH1iXdd1nDf+df3vkz35Jx1xpmx5vQnWIwnnD22nmutV2Hvq+ZxCmSVse0wnJ/uZd1cbRs0iJfSMa8wj5Es2A0puXtIOWdTqRUzlfc1MsBWmLfWl7L5aPPrZoDI1lTFf6dFullIjn0Ztki+Bda6ovEaHNdt20UgS2IMSGZq0BQ5qyuGtq95kdU87GXbkhV+9tc5XK100+XEsmyizmbuXY4h+P5Yd4KbXzlw82jD90MTBkpc09rRlgei9Uv7sCKpPmqaYhtnTEdVT9OmGLLKxiYzGuae86+4to1BpuTIvuYz8xY3ARDaOiA0MffiOyAhheQZ5OpGfMeRTY7GDUUYX+2+y76CajVlTaPRYFhOCZ63D9AszNY0tUxz9K3bmMdWdegWPFTZswhiVDsTvqBydTRM8Fdq4iUOKN7JYdLhHaoLPdMZ6TXRZ/XN7lwmbkoE385WiTo/07JgOaW06sNVSr7zfU9/nmDLHYdqbO7ollunoPY2TkNZ4BrSZ9qp6StidfKXU6YUHJaHDflT0s40IlHFwu9mA3rVJr0kmlG3jXg0cJANEXbQFTehAVzOkuqc2wcvPpnnXW9t8tdRFaRe4PYxn7ZUjWGkzdyzHEP1+LDughN46czr0QaZEcw1kmRFZFgJk0KP57GxXjqDWp/Emnjmrm2oWNjd0zokl5Cp2/NVorgzHuaa8Q+6dZyQhXqbzUYZFOu0sh3q+j4xD8wyydC0/MRbVcHIu5GHH0WvgVnQlvaoYfqof8G0yHe+7aZzLyc767CJjO8QqOdoaijX4vPMN215BGaNqpFN39umaOL12VI9iu4xZ6by5w7Z3g5QwGG6nber0SL1bfO18HA9eBQ56dKVXde9pwHPUrKYZPRYjiJRMxZg197ZmQJug1jXGz9uhfGn89KJXhMi4VbsZzpO0SW3gPjQ2zHUIbTrz0rotCGa7uirlUWbDVTHstbreuslXO100s5jK5jYbbOXWS6dsT4590O9eOnPakRMBO4RpQnbS3S01ehTRo0ONR4Sr8ElTgx4N8uywlDHEuc9nXhlPRYLu3QQfGQfmGeTYhvy2KfvMRi2MhwHvRxqSEtWOynmQD+mzUO9N8m6bDWh2iZL37lHweefbtL3JCOydcthsvU8cvRuHkR8bB7UDV356JGE6ehArcNDDW688qHpPQ56jZjX1qLY4XlqmeqRcrlf10nQ02YQ7JeGHu5KvGG+9qKFEp5+EIB3ruN0sY5fk44PSi+wAdWQ5cjaN24JQutLVCnQbuqDkV3t86q2zfLXTxWTd3YVu/0t/YmgbcuyRfvfOmZPQM+3IZX82ICX25M8zcbZ6liOOe5fNJHKjLWY2K/X6fdI0JN8R5hBnNTPFrwwdbsRzIyvx72dljZvqe3eDh4xD8gyKtJWfhMtmFuhu9AY+25I9dxSTZLrQrGXtaPOduCOaVY7K+ZJuOJGZ3WR56SynHYHa4MGK148HkZ6OOATIeu+EQl3n4HdTdmdrFx7u0676pCkjvnZRdNiMo7dYSAXljHyHgRtdTJyhNaV6JPKzlaFuIEI5W/kZSH+9yhD8noY8RztI69tz7hPS+6m1bvef6Jotn0azNaJPEoLPRlm6S+wO5MsmQC+qifUyjcZ5unYgTMeC2k2nTvvQsE16KpRexDNu1hHnVfId0hZ0ga+uNq4jZnSsZqhSe8Kj3jp7hwJ1MU+87m0lSl4xyNNWjhXteh/0u2fOnJ5mFQoxrJbzIyMq6RQ5H2Z3onRhpFSQXv+WXM+toTiIYWmaEf4jxmYjDDGYrfzkwwMEv3vnF2bz4VJMtY7DPZXsI2PfPAMXLeU3OqPl4a11LTdqKvxgS7Ifz9Uub/pZM1qxoZduiNIS0xERN7Vd/FB0HK6aaUNm92q01s5yspGK0XHZJUv/CH9TikZEqIMleV+aH4BN7nO1R8uWGzPp9ZlyP9P5scGoP6cDWvXvvF+aMvTuiEyhw9YGtVD8EXV+T2T0PMkvvyM0V2FFBcr0SDaQ4Kvi63U7XxFCw+2iWpdv9Ce2/Xz1KkOD9zTkOTqkcc2OlzVrI87xekWrte/ATq6/4DpVuynmdO7x81VFgF7UMDqTUK1UBv7tgGc/G0CQjoW0myU67cO22qTtoNfMZcPmuH75rVO7E4a2BZ3gqast6ogv1mvXrE076uutu3eoXR9u8s5UD/K0lGNFu94H/X715cuXH7/75Wf14esf/0afP39Wf4Mwvn79Sm/fvjWfQCiQXzueUn5qpJobzXS3rq6xYuF30kAA/QB6BPqFalvvm+or9D2PDFpNFvuFAdGy86AroIvb4t27d/T259/0ezdLAMAL4BHWFIAXAPQI9Ar52Qb+J79TsC/Q9xLya+BMxFfbdZqgHOji1oEzBwDYabDOEnQB9Aj0BR32PCH127YNIx6g70V0yNwwG6Y6mtH9dLnFyBIAXewemZGTQ5CoSoRZdgTCBNsB+bUD8gMAAAAAeP7E4ZUxBWcOAAAAAAAAAMBukjpzRP8/Xs3VFsqu0OYAAAAASUVORK5CYII=)"
      ]
    }
  ],
  "metadata": {
    "colab": {
      "provenance": [],
      "collapsed_sections": [
        "dujclm8O_Q3i"
      ],
      "mount_file_id": "1qF1MRmrVG98ir6XAmL-wrTViHaWX_IwD",
      "authorship_tag": "ABX9TyMa+WC6Hu7d2ZBsjJ66UVXz",
      "include_colab_link": true
    },
    "kernelspec": {
      "display_name": "Python 3",
      "name": "python3"
    },
    "language_info": {
      "name": "python"
    }
  },
  "nbformat": 4,
  "nbformat_minor": 0
}